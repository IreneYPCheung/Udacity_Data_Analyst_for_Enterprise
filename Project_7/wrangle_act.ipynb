{
 "cells": [
  {
   "cell_type": "markdown",
   "metadata": {},
   "source": [
    "### Data Wrangling"
   ]
  },
  {
   "cell_type": "code",
   "execution_count": 1,
   "metadata": {},
   "outputs": [],
   "source": [
    "import numpy as np\n",
    "import pandas as pd\n",
    "import requests\n",
    "import tweepy\n",
    "import json\n",
    "import time\n",
    "import re\n",
    "import matplotlib.pyplot as plt\n",
    "import seaborn as sns"
   ]
  },
  {
   "cell_type": "markdown",
   "metadata": {},
   "source": [
    "### Gather Data"
   ]
  },
  {
   "cell_type": "markdown",
   "metadata": {},
   "source": [
    "### Gather data source 1: \"twitter-archive-enhanced.csv\""
   ]
  },
  {
   "cell_type": "code",
   "execution_count": 3,
   "metadata": {},
   "outputs": [],
   "source": [
    "# Import the Twitter archive csv file into a DataFrame\n",
    "arch_df = pd.read_csv(\"twitter-archive-enhanced.csv\")"
   ]
  },
  {
   "cell_type": "markdown",
   "metadata": {},
   "source": [
    "### Assessing Data"
   ]
  },
  {
   "cell_type": "markdown",
   "metadata": {},
   "source": [
    "After gathering data, we are now assessing data visually and programmatically for quality and tidiness."
   ]
  },
  {
   "cell_type": "markdown",
   "metadata": {},
   "source": [
    "- ### Visual Assessment of data source 1"
   ]
  },
  {
   "cell_type": "code",
   "execution_count": 4,
   "metadata": {},
   "outputs": [
    {
     "name": "stdout",
     "output_type": "stream",
     "text": [
      "                tweet_id  in_reply_to_status_id  in_reply_to_user_id  \\\n",
      "1919  674269164442398721                    NaN                  NaN   \n",
      "\n",
      "                      timestamp  \\\n",
      "1919  2015-12-08 16:47:50 +0000   \n",
      "\n",
      "                                                 source  \\\n",
      "1919  <a href=\"http://twitter.com/download/iphone\" r...   \n",
      "\n",
      "                                                   text  retweeted_status_id  \\\n",
      "1919  This is Bob. He's a Juniper Fitzsimmons. His b...                  NaN   \n",
      "\n",
      "      retweeted_status_user_id retweeted_status_timestamp  \\\n",
      "1919                       NaN                        NaN   \n",
      "\n",
      "                                          expanded_urls  rating_numerator  \\\n",
      "1919  https://twitter.com/dog_rates/status/674269164...                 8   \n",
      "\n",
      "      rating_denominator name doggo floofer pupper puppo  \n",
      "1919                  10  Bob  None    None   None  None  \n"
     ]
    }
   ],
   "source": [
    "print(arch_df.sample(1))"
   ]
  },
  {
   "cell_type": "markdown",
   "metadata": {},
   "source": [
    "- ### Programmatic Assessment of data source 1"
   ]
  },
  {
   "cell_type": "code",
   "execution_count": 5,
   "metadata": {},
   "outputs": [
    {
     "data": {
      "text/html": [
       "<div>\n",
       "<style scoped>\n",
       "    .dataframe tbody tr th:only-of-type {\n",
       "        vertical-align: middle;\n",
       "    }\n",
       "\n",
       "    .dataframe tbody tr th {\n",
       "        vertical-align: top;\n",
       "    }\n",
       "\n",
       "    .dataframe thead th {\n",
       "        text-align: right;\n",
       "    }\n",
       "</style>\n",
       "<table border=\"1\" class=\"dataframe\">\n",
       "  <thead>\n",
       "    <tr style=\"text-align: right;\">\n",
       "      <th></th>\n",
       "      <th>tweet_id</th>\n",
       "      <th>in_reply_to_status_id</th>\n",
       "      <th>in_reply_to_user_id</th>\n",
       "      <th>retweeted_status_id</th>\n",
       "      <th>retweeted_status_user_id</th>\n",
       "      <th>rating_numerator</th>\n",
       "      <th>rating_denominator</th>\n",
       "    </tr>\n",
       "  </thead>\n",
       "  <tbody>\n",
       "    <tr>\n",
       "      <th>count</th>\n",
       "      <td>2.356000e+03</td>\n",
       "      <td>7.800000e+01</td>\n",
       "      <td>7.800000e+01</td>\n",
       "      <td>1.810000e+02</td>\n",
       "      <td>1.810000e+02</td>\n",
       "      <td>2356.000000</td>\n",
       "      <td>2356.000000</td>\n",
       "    </tr>\n",
       "    <tr>\n",
       "      <th>mean</th>\n",
       "      <td>7.427716e+17</td>\n",
       "      <td>7.455079e+17</td>\n",
       "      <td>2.014171e+16</td>\n",
       "      <td>7.720400e+17</td>\n",
       "      <td>1.241698e+16</td>\n",
       "      <td>13.126486</td>\n",
       "      <td>10.455433</td>\n",
       "    </tr>\n",
       "    <tr>\n",
       "      <th>std</th>\n",
       "      <td>6.856705e+16</td>\n",
       "      <td>7.582492e+16</td>\n",
       "      <td>1.252797e+17</td>\n",
       "      <td>6.236928e+16</td>\n",
       "      <td>9.599254e+16</td>\n",
       "      <td>45.876648</td>\n",
       "      <td>6.745237</td>\n",
       "    </tr>\n",
       "    <tr>\n",
       "      <th>min</th>\n",
       "      <td>6.660209e+17</td>\n",
       "      <td>6.658147e+17</td>\n",
       "      <td>1.185634e+07</td>\n",
       "      <td>6.661041e+17</td>\n",
       "      <td>7.832140e+05</td>\n",
       "      <td>0.000000</td>\n",
       "      <td>0.000000</td>\n",
       "    </tr>\n",
       "    <tr>\n",
       "      <th>25%</th>\n",
       "      <td>6.783989e+17</td>\n",
       "      <td>6.757419e+17</td>\n",
       "      <td>3.086374e+08</td>\n",
       "      <td>7.186315e+17</td>\n",
       "      <td>4.196984e+09</td>\n",
       "      <td>10.000000</td>\n",
       "      <td>10.000000</td>\n",
       "    </tr>\n",
       "    <tr>\n",
       "      <th>50%</th>\n",
       "      <td>7.196279e+17</td>\n",
       "      <td>7.038708e+17</td>\n",
       "      <td>4.196984e+09</td>\n",
       "      <td>7.804657e+17</td>\n",
       "      <td>4.196984e+09</td>\n",
       "      <td>11.000000</td>\n",
       "      <td>10.000000</td>\n",
       "    </tr>\n",
       "    <tr>\n",
       "      <th>75%</th>\n",
       "      <td>7.993373e+17</td>\n",
       "      <td>8.257804e+17</td>\n",
       "      <td>4.196984e+09</td>\n",
       "      <td>8.203146e+17</td>\n",
       "      <td>4.196984e+09</td>\n",
       "      <td>12.000000</td>\n",
       "      <td>10.000000</td>\n",
       "    </tr>\n",
       "    <tr>\n",
       "      <th>max</th>\n",
       "      <td>8.924206e+17</td>\n",
       "      <td>8.862664e+17</td>\n",
       "      <td>8.405479e+17</td>\n",
       "      <td>8.874740e+17</td>\n",
       "      <td>7.874618e+17</td>\n",
       "      <td>1776.000000</td>\n",
       "      <td>170.000000</td>\n",
       "    </tr>\n",
       "  </tbody>\n",
       "</table>\n",
       "</div>"
      ],
      "text/plain": [
       "           tweet_id  in_reply_to_status_id  in_reply_to_user_id  \\\n",
       "count  2.356000e+03           7.800000e+01         7.800000e+01   \n",
       "mean   7.427716e+17           7.455079e+17         2.014171e+16   \n",
       "std    6.856705e+16           7.582492e+16         1.252797e+17   \n",
       "min    6.660209e+17           6.658147e+17         1.185634e+07   \n",
       "25%    6.783989e+17           6.757419e+17         3.086374e+08   \n",
       "50%    7.196279e+17           7.038708e+17         4.196984e+09   \n",
       "75%    7.993373e+17           8.257804e+17         4.196984e+09   \n",
       "max    8.924206e+17           8.862664e+17         8.405479e+17   \n",
       "\n",
       "       retweeted_status_id  retweeted_status_user_id  rating_numerator  \\\n",
       "count         1.810000e+02              1.810000e+02       2356.000000   \n",
       "mean          7.720400e+17              1.241698e+16         13.126486   \n",
       "std           6.236928e+16              9.599254e+16         45.876648   \n",
       "min           6.661041e+17              7.832140e+05          0.000000   \n",
       "25%           7.186315e+17              4.196984e+09         10.000000   \n",
       "50%           7.804657e+17              4.196984e+09         11.000000   \n",
       "75%           8.203146e+17              4.196984e+09         12.000000   \n",
       "max           8.874740e+17              7.874618e+17       1776.000000   \n",
       "\n",
       "       rating_denominator  \n",
       "count         2356.000000  \n",
       "mean            10.455433  \n",
       "std              6.745237  \n",
       "min              0.000000  \n",
       "25%             10.000000  \n",
       "50%             10.000000  \n",
       "75%             10.000000  \n",
       "max            170.000000  "
      ]
     },
     "execution_count": 5,
     "metadata": {},
     "output_type": "execute_result"
    }
   ],
   "source": [
    "arch_df.describe()"
   ]
  },
  {
   "cell_type": "code",
   "execution_count": 6,
   "metadata": {},
   "outputs": [
    {
     "name": "stdout",
     "output_type": "stream",
     "text": [
      "<class 'pandas.core.frame.DataFrame'>\n",
      "RangeIndex: 2356 entries, 0 to 2355\n",
      "Data columns (total 17 columns):\n",
      "tweet_id                      2356 non-null int64\n",
      "in_reply_to_status_id         78 non-null float64\n",
      "in_reply_to_user_id           78 non-null float64\n",
      "timestamp                     2356 non-null object\n",
      "source                        2356 non-null object\n",
      "text                          2356 non-null object\n",
      "retweeted_status_id           181 non-null float64\n",
      "retweeted_status_user_id      181 non-null float64\n",
      "retweeted_status_timestamp    181 non-null object\n",
      "expanded_urls                 2297 non-null object\n",
      "rating_numerator              2356 non-null int64\n",
      "rating_denominator            2356 non-null int64\n",
      "name                          2356 non-null object\n",
      "doggo                         2356 non-null object\n",
      "floofer                       2356 non-null object\n",
      "pupper                        2356 non-null object\n",
      "puppo                         2356 non-null object\n",
      "dtypes: float64(4), int64(3), object(10)\n",
      "memory usage: 313.0+ KB\n"
     ]
    }
   ],
   "source": [
    "arch_df.info()"
   ]
  },
  {
   "cell_type": "markdown",
   "metadata": {},
   "source": [
    "#### arch_df (Twitter archive) columns:\n",
    "+ **tweet_id**: the unique identifier for each tweet\n",
    "+ **in_reply_to_status_id**: if the represented Tweet is a reply, this field will contain the integer representation of the original Tweet’s ID\n",
    "+ **in_reply_to_user_id**: if the represented Tweet is a reply, this field will contain the integer representation of the original Tweet’s author ID\n",
    "+ **timestamp**: time when this Tweet was created\n",
    "+ **source**: utility used to post the Tweet, as an HTML-formatted string. e.g. Twitter for Android, Twitter for iPhone, Twitter Web Client\n",
    "+ **text**: actual UTF-8 text of the status update\n",
    "+ **retweeted_status_id**: if the represented Tweet is a retweet, this field will contain the integer representation of the original Tweet’s ID\n",
    "+ **retweeted_status_user_id**: if the represented Tweet is a retweet, this field will contain the integer representation of the original Tweet’s author ID\n",
    "+ **retweeted_status_timestamp**: time of retweet\n",
    "+ **expanded_urls**: tweet URL\n",
    "+ **rating_numerator**: numerator of the rating of a dog. Note: ratings almost always greater than 10\n",
    "+ **rating_denominator**: denominator of the rating of a dog. Note: ratings almost always have a denominator of 10\n",
    "+ **name**: name of the dog\n",
    "+ **doggo**: one of the 4 dogs \"stage\"\n",
    "+ **floofer**: one of the 4 dogs \"stage\"\n",
    "+ **pupper**: one of the 4 dogs \"stage\"\n",
    "+ **puppo**: one of the 4 dogs \"stage\""
   ]
  },
  {
   "cell_type": "markdown",
   "metadata": {},
   "source": [
    "### Gather data source 2: Download tweet image predictions TSV, and write it to \"image_predictions.tsv\""
   ]
  },
  {
   "cell_type": "markdown",
   "metadata": {},
   "source": [
    "#### Download file using Requests library and URL"
   ]
  },
  {
   "cell_type": "code",
   "execution_count": 7,
   "metadata": {},
   "outputs": [],
   "source": [
    "#Download tweet image predictions TSV using the Requests library and write it to image_predictions.tsv\n",
    "response= requests.get('https://d17h27t6h515a5.cloudfront.net/topher/2017/August/599fd2ad_image-predictions/image-predictions.tsv')\n",
    "with open('image_prediction.tsv',mode='wb')as file:\n",
    "    file.write(response.content)\n",
    "#Import the tweet image predictions TSV file into a DataFrame\n",
    "image_df=pd.read_csv('image_prediction.tsv',delimiter='\\t')"
   ]
  },
  {
   "cell_type": "markdown",
   "metadata": {},
   "source": [
    "- ### Visual Assessment of data source 2"
   ]
  },
  {
   "cell_type": "code",
   "execution_count": 8,
   "metadata": {},
   "outputs": [
    {
     "data": {
      "text/html": [
       "<div>\n",
       "<style scoped>\n",
       "    .dataframe tbody tr th:only-of-type {\n",
       "        vertical-align: middle;\n",
       "    }\n",
       "\n",
       "    .dataframe tbody tr th {\n",
       "        vertical-align: top;\n",
       "    }\n",
       "\n",
       "    .dataframe thead th {\n",
       "        text-align: right;\n",
       "    }\n",
       "</style>\n",
       "<table border=\"1\" class=\"dataframe\">\n",
       "  <thead>\n",
       "    <tr style=\"text-align: right;\">\n",
       "      <th></th>\n",
       "      <th>tweet_id</th>\n",
       "      <th>jpg_url</th>\n",
       "      <th>img_num</th>\n",
       "      <th>p1</th>\n",
       "      <th>p1_conf</th>\n",
       "      <th>p1_dog</th>\n",
       "      <th>p2</th>\n",
       "      <th>p2_conf</th>\n",
       "      <th>p2_dog</th>\n",
       "      <th>p3</th>\n",
       "      <th>p3_conf</th>\n",
       "      <th>p3_dog</th>\n",
       "    </tr>\n",
       "  </thead>\n",
       "  <tbody>\n",
       "    <tr>\n",
       "      <th>0</th>\n",
       "      <td>666020888022790149</td>\n",
       "      <td>https://pbs.twimg.com/media/CT4udn0WwAA0aMy.jpg</td>\n",
       "      <td>1</td>\n",
       "      <td>Welsh_springer_spaniel</td>\n",
       "      <td>0.465074</td>\n",
       "      <td>True</td>\n",
       "      <td>collie</td>\n",
       "      <td>0.156665</td>\n",
       "      <td>True</td>\n",
       "      <td>Shetland_sheepdog</td>\n",
       "      <td>0.061428</td>\n",
       "      <td>True</td>\n",
       "    </tr>\n",
       "    <tr>\n",
       "      <th>1</th>\n",
       "      <td>666029285002620928</td>\n",
       "      <td>https://pbs.twimg.com/media/CT42GRgUYAA5iDo.jpg</td>\n",
       "      <td>1</td>\n",
       "      <td>redbone</td>\n",
       "      <td>0.506826</td>\n",
       "      <td>True</td>\n",
       "      <td>miniature_pinscher</td>\n",
       "      <td>0.074192</td>\n",
       "      <td>True</td>\n",
       "      <td>Rhodesian_ridgeback</td>\n",
       "      <td>0.072010</td>\n",
       "      <td>True</td>\n",
       "    </tr>\n",
       "    <tr>\n",
       "      <th>2</th>\n",
       "      <td>666033412701032449</td>\n",
       "      <td>https://pbs.twimg.com/media/CT4521TWwAEvMyu.jpg</td>\n",
       "      <td>1</td>\n",
       "      <td>German_shepherd</td>\n",
       "      <td>0.596461</td>\n",
       "      <td>True</td>\n",
       "      <td>malinois</td>\n",
       "      <td>0.138584</td>\n",
       "      <td>True</td>\n",
       "      <td>bloodhound</td>\n",
       "      <td>0.116197</td>\n",
       "      <td>True</td>\n",
       "    </tr>\n",
       "  </tbody>\n",
       "</table>\n",
       "</div>"
      ],
      "text/plain": [
       "             tweet_id                                          jpg_url  \\\n",
       "0  666020888022790149  https://pbs.twimg.com/media/CT4udn0WwAA0aMy.jpg   \n",
       "1  666029285002620928  https://pbs.twimg.com/media/CT42GRgUYAA5iDo.jpg   \n",
       "2  666033412701032449  https://pbs.twimg.com/media/CT4521TWwAEvMyu.jpg   \n",
       "\n",
       "   img_num                      p1   p1_conf  p1_dog                  p2  \\\n",
       "0        1  Welsh_springer_spaniel  0.465074    True              collie   \n",
       "1        1                 redbone  0.506826    True  miniature_pinscher   \n",
       "2        1         German_shepherd  0.596461    True            malinois   \n",
       "\n",
       "    p2_conf  p2_dog                   p3   p3_conf  p3_dog  \n",
       "0  0.156665    True    Shetland_sheepdog  0.061428    True  \n",
       "1  0.074192    True  Rhodesian_ridgeback  0.072010    True  \n",
       "2  0.138584    True           bloodhound  0.116197    True  "
      ]
     },
     "execution_count": 8,
     "metadata": {},
     "output_type": "execute_result"
    }
   ],
   "source": [
    "image_df.head(3)"
   ]
  },
  {
   "cell_type": "markdown",
   "metadata": {},
   "source": [
    "- ### Programmatic Assessment of data source 2"
   ]
  },
  {
   "cell_type": "code",
   "execution_count": 9,
   "metadata": {},
   "outputs": [
    {
     "name": "stdout",
     "output_type": "stream",
     "text": [
      "<class 'pandas.core.frame.DataFrame'>\n",
      "RangeIndex: 2075 entries, 0 to 2074\n",
      "Data columns (total 12 columns):\n",
      "tweet_id    2075 non-null int64\n",
      "jpg_url     2075 non-null object\n",
      "img_num     2075 non-null int64\n",
      "p1          2075 non-null object\n",
      "p1_conf     2075 non-null float64\n",
      "p1_dog      2075 non-null bool\n",
      "p2          2075 non-null object\n",
      "p2_conf     2075 non-null float64\n",
      "p2_dog      2075 non-null bool\n",
      "p3          2075 non-null object\n",
      "p3_conf     2075 non-null float64\n",
      "p3_dog      2075 non-null bool\n",
      "dtypes: bool(3), float64(3), int64(2), object(4)\n",
      "memory usage: 152.1+ KB\n"
     ]
    }
   ],
   "source": [
    "image_df.info()"
   ]
  },
  {
   "cell_type": "markdown",
   "metadata": {},
   "source": [
    "#### image_df (tweet image predictions) columns:\n",
    "- **tweet_id**: the unique identifier for each tweet\n",
    "- **jpg_url**: dog's image URL\n",
    "- **img_num**: the image number that corresponded to the most confident prediction (numbered 1 to 4 since tweets can have up to four images)\n",
    "- **p1**: algorithm's #1 prediction for the image in the tweet\n",
    "- **p1_conf**: how confident the algorithm is in its #1 prediction\n",
    "- **p1_dog**: whether or not the #1 prediction is a breed of dog\n",
    "- **p2**: algorithm's #2 prediction for the image in the tweet\n",
    "- **p2_conf**: how confident the algorithm is in its #2 prediction\n",
    "- **p2_dog**: whether or not the #2 prediction is a breed of dog\n",
    "- **p3**: algorithm's #3 prediction for the image in the tweet\n",
    "- **p3_conf**: how confident the algorithm is in its #3 prediction\n",
    "- **p3_dog**: whether or not the #3 prediction is a breed of dog"
   ]
  },
  {
   "cell_type": "markdown",
   "metadata": {},
   "source": [
    "- ### Issues Found (Quality and Tidiness) of data source 1"
   ]
  },
  {
   "cell_type": "code",
   "execution_count": 10,
   "metadata": {},
   "outputs": [
    {
     "data": {
      "text/plain": [
       "Abby             2\n",
       "Ace              1\n",
       "Acro             1\n",
       "Adele            1\n",
       "Aiden            1\n",
       "Aja              1\n",
       "Akumi            1\n",
       "Al               1\n",
       "Albert           2\n",
       "Albus            2\n",
       "Aldrick          1\n",
       "Alejandro        1\n",
       "Alexander        1\n",
       "Alexanderson     1\n",
       "Alf              1\n",
       "Alfie            5\n",
       "Alfy             1\n",
       "Alice            2\n",
       "Amber            1\n",
       "Ambrose          1\n",
       "Amy              1\n",
       "Amélie           1\n",
       "Anakin           2\n",
       "Andru            1\n",
       "Andy             1\n",
       "Angel            1\n",
       "Anna             1\n",
       "Anthony          1\n",
       "Antony           1\n",
       "Apollo           1\n",
       "                ..\n",
       "Ziva             1\n",
       "Zoe              1\n",
       "Zoey             3\n",
       "Zooey            1\n",
       "Zuzu             1\n",
       "a               55\n",
       "actually         2\n",
       "all              1\n",
       "an               7\n",
       "by               1\n",
       "getting          2\n",
       "his              1\n",
       "incredibly       1\n",
       "infuriating      1\n",
       "just             4\n",
       "life             1\n",
       "light            1\n",
       "mad              2\n",
       "my               1\n",
       "not              2\n",
       "officially       1\n",
       "old              1\n",
       "one              4\n",
       "quite            4\n",
       "space            1\n",
       "such             1\n",
       "the              8\n",
       "this             1\n",
       "unacceptable     1\n",
       "very             5\n",
       "Name: name, Length: 957, dtype: int64"
      ]
     },
     "execution_count": 10,
     "metadata": {},
     "output_type": "execute_result"
    }
   ],
   "source": [
    "arch_df.name.value_counts().sort_index(ascending=True)"
   ]
  },
  {
   "cell_type": "code",
   "execution_count": 11,
   "metadata": {},
   "outputs": [
    {
     "data": {
      "text/plain": [
       "281"
      ]
     },
     "execution_count": 11,
     "metadata": {},
     "output_type": "execute_result"
    }
   ],
   "source": [
    "# Check if there are any records in arch_df whose corresponding record with same tweet_id is missing in image_df table\n",
    "len(arch_df[~arch_df.tweet_id.isin(image_df.tweet_id)])"
   ]
  },
  {
   "cell_type": "code",
   "execution_count": 12,
   "metadata": {},
   "outputs": [
    {
     "data": {
      "text/plain": [
       "181"
      ]
     },
     "execution_count": 12,
     "metadata": {},
     "output_type": "execute_result"
    }
   ],
   "source": [
    "# Check if there are any records in arc_df which are retweets\n",
    "len(arch_df[arch_df.retweeted_status_id.isnull() == False])"
   ]
  },
  {
   "cell_type": "code",
   "execution_count": 13,
   "metadata": {},
   "outputs": [
    {
     "data": {
      "text/plain": [
       "0         1\n",
       "2         1\n",
       "7         1\n",
       "10     2333\n",
       "11        3\n",
       "15        1\n",
       "16        1\n",
       "20        2\n",
       "40        1\n",
       "50        3\n",
       "70        1\n",
       "80        2\n",
       "90        1\n",
       "110       1\n",
       "120       1\n",
       "130       1\n",
       "150       1\n",
       "170       1\n",
       "Name: rating_denominator, dtype: int64"
      ]
     },
     "execution_count": 13,
     "metadata": {},
     "output_type": "execute_result"
    }
   ],
   "source": [
    "# Sort by rating_denominator values\n",
    "arch_df.rating_denominator.value_counts().sort_index()"
   ]
  },
  {
   "cell_type": "code",
   "execution_count": 14,
   "metadata": {},
   "outputs": [
    {
     "data": {
      "text/plain": [
       "0         2\n",
       "1         9\n",
       "2         9\n",
       "3        19\n",
       "4        17\n",
       "5        37\n",
       "6        32\n",
       "7        55\n",
       "8       102\n",
       "9       158\n",
       "10      461\n",
       "11      464\n",
       "12      558\n",
       "13      351\n",
       "14       54\n",
       "15        2\n",
       "17        1\n",
       "20        1\n",
       "24        1\n",
       "26        1\n",
       "27        1\n",
       "44        1\n",
       "45        1\n",
       "50        1\n",
       "60        1\n",
       "75        2\n",
       "80        1\n",
       "84        1\n",
       "88        1\n",
       "99        1\n",
       "121       1\n",
       "143       1\n",
       "144       1\n",
       "165       1\n",
       "182       1\n",
       "204       1\n",
       "420       2\n",
       "666       1\n",
       "960       1\n",
       "1776      1\n",
       "Name: rating_numerator, dtype: int64"
      ]
     },
     "execution_count": 14,
     "metadata": {},
     "output_type": "execute_result"
    }
   ],
   "source": [
    "# Sort by rating_numerator values\n",
    "arch_df.rating_numerator.value_counts().sort_index()"
   ]
  },
  {
   "cell_type": "code",
   "execution_count": 15,
   "metadata": {},
   "outputs": [
    {
     "data": {
      "text/plain": [
       "1"
      ]
     },
     "execution_count": 15,
     "metadata": {},
     "output_type": "execute_result"
    }
   ],
   "source": [
    "# Number of records whose both doggo and floofer columns are not None\n",
    "len(arch_df[(arch_df.doggo != 'None') & (arch_df.floofer != 'None')])"
   ]
  },
  {
   "cell_type": "markdown",
   "metadata": {},
   "source": [
    "#### One record has more than one dog stage in doggo and floofer."
   ]
  },
  {
   "cell_type": "code",
   "execution_count": 16,
   "metadata": {},
   "outputs": [
    {
     "data": {
      "text/plain": [
       "12"
      ]
     },
     "execution_count": 16,
     "metadata": {},
     "output_type": "execute_result"
    }
   ],
   "source": [
    "# Number of records whose both doggo and pupper columns are not None\n",
    "len(arch_df[(arch_df.doggo != 'None') & (arch_df.pupper != 'None')])"
   ]
  },
  {
   "cell_type": "markdown",
   "metadata": {},
   "source": [
    "#### Twelve records have more than one dog stage in doggo and pupper."
   ]
  },
  {
   "cell_type": "code",
   "execution_count": 17,
   "metadata": {},
   "outputs": [
    {
     "data": {
      "text/plain": [
       "1"
      ]
     },
     "execution_count": 17,
     "metadata": {},
     "output_type": "execute_result"
    }
   ],
   "source": [
    "# Number of records whose both doggo and pupper columns are not None\n",
    "len(arch_df[(arch_df.doggo != 'None') & (arch_df.puppo != 'None')])"
   ]
  },
  {
   "cell_type": "markdown",
   "metadata": {},
   "source": [
    "#### One record has more than one dog stage in doggo and pupper."
   ]
  },
  {
   "cell_type": "code",
   "execution_count": 18,
   "metadata": {},
   "outputs": [
    {
     "data": {
      "text/plain": [
       "0"
      ]
     },
     "execution_count": 18,
     "metadata": {},
     "output_type": "execute_result"
    }
   ],
   "source": [
    "len(arch_df[(arch_df.doggo != 'None') & (arch_df.pupper != 'None')& (arch_df.puppo != 'None')& (arch_df.floofer != 'None')])"
   ]
  },
  {
   "cell_type": "markdown",
   "metadata": {},
   "source": [
    "#### No record has more than one dog stage in doggo, pupper, puppo & floofer"
   ]
  },
  {
   "cell_type": "markdown",
   "metadata": {},
   "source": [
    "### Gather data source 3: Read tweet's JSON data line by line and convert to a DataFrame named \"status_df\""
   ]
  },
  {
   "cell_type": "markdown",
   "metadata": {},
   "source": [
    "#### From twitter API using Python's Tweepy library and store data"
   ]
  },
  {
   "cell_type": "markdown",
   "metadata": {},
   "source": [
    "#### Tweet_json.txt"
   ]
  },
  {
   "cell_type": "code",
   "execution_count": 19,
   "metadata": {},
   "outputs": [],
   "source": [
    "# Declare Twitter API keys and access tokens\n",
    "# Enter your own key\n",
    "consumer_key = ''\n",
    "consumer_secret = ''\n",
    "access_token = ''\n",
    "access_secret = ''"
   ]
  },
  {
   "cell_type": "code",
   "execution_count": 20,
   "metadata": {},
   "outputs": [],
   "source": [
    "auth = tweepy.OAuthHandler(consumer_key, consumer_secret)\n",
    "auth.set_access_token(access_token, access_secret)"
   ]
  },
  {
   "cell_type": "code",
   "execution_count": 21,
   "metadata": {},
   "outputs": [],
   "source": [
    "api = tweepy.API(auth, wait_on_rate_limit=True)"
   ]
  },
  {
   "cell_type": "markdown",
   "metadata": {},
   "source": [
    "- ### Visual Assessment of data source 3"
   ]
  },
  {
   "cell_type": "code",
   "execution_count": 22,
   "metadata": {},
   "outputs": [
    {
     "name": "stdout",
     "output_type": "stream",
     "text": [
      "1# 892420643555336193\n",
      "2# 892177421306343426\n",
      "3# 891815181378084864\n",
      "4# 891689557279858688\n",
      "5# 891327558926688256\n",
      "6# 891087950875897856\n",
      "7# 890971913173991426\n",
      "8# 890729181411237888\n",
      "9# 890609185150312448\n",
      "10# 890240255349198849\n",
      "11# 890006608113172480\n",
      "12# 889880896479866881\n",
      "13# 889665388333682689\n",
      "14# 889638837579907072\n",
      "15# 889531135344209921\n",
      "16# 889278841981685760\n",
      "17# 888917238123831296\n",
      "18# 888804989199671297\n",
      "19# 888554962724278272\n",
      "20# 888202515573088257\n",
      "888202515573088257: No status found with that ID.\n",
      "\n",
      "21# 888078434458587136\n",
      "22# 887705289381826560\n",
      "23# 887517139158093824\n",
      "24# 887473957103951883\n",
      "25# 887343217045368832\n",
      "26# 887101392804085760\n",
      "27# 886983233522544640\n",
      "28# 886736880519319552\n",
      "29# 886680336477933568\n",
      "30# 886366144734445568\n",
      "31# 886267009285017600\n",
      "32# 886258384151887873\n",
      "33# 886054160059072513\n",
      "34# 885984800019947520\n",
      "35# 885528943205470208\n",
      "36# 885518971528720385\n",
      "37# 885311592912609280\n",
      "38# 885167619883638784\n",
      "39# 884925521741709313\n",
      "40# 884876753390489601\n",
      "41# 884562892145688576\n",
      "42# 884441805382717440\n",
      "43# 884247878851493888\n",
      "44# 884162670584377345\n",
      "45# 883838122936631299\n",
      "46# 883482846933004288\n",
      "47# 883360690899218434\n",
      "48# 883117836046086144\n",
      "49# 882992080364220416\n",
      "50# 882762694511734784\n",
      "51# 882627270321602560\n",
      "52# 882268110199369728\n",
      "53# 882045870035918850\n",
      "54# 881906580714921986\n",
      "55# 881666595344535552\n",
      "56# 881633300179243008\n",
      "57# 881536004380872706\n",
      "58# 881268444196462592\n",
      "59# 880935762899988482\n",
      "60# 880872448815771648\n",
      "61# 880465832366813184\n",
      "62# 880221127280381952\n",
      "63# 880095782870896641\n",
      "64# 879862464715927552\n",
      "65# 879674319642796034\n",
      "66# 879492040517615616\n",
      "67# 879415818425184262\n",
      "68# 879376492567855104\n",
      "69# 879130579576475649\n",
      "70# 879050749262655488\n",
      "71# 879008229531029506\n",
      "72# 878776093423087618\n",
      "73# 878604707211726852\n",
      "74# 878404777348136964\n",
      "75# 878316110768087041\n",
      "76# 878281511006478336\n",
      "77# 878057613040115712\n",
      "78# 877736472329191424\n",
      "79# 877611172832227328\n",
      "80# 877556246731214848\n",
      "81# 877316821321428993\n",
      "82# 877201837425926144\n",
      "83# 876838120628539392\n",
      "84# 876537666061221889\n",
      "85# 876484053909872640\n",
      "86# 876120275196170240\n",
      "87# 875747767867523072\n",
      "88# 875144289856114688\n",
      "89# 875097192612077568\n",
      "90# 875021211251597312\n",
      "91# 874680097055178752\n",
      "92# 874434818259525634\n",
      "93# 874296783580663808\n",
      "94# 874057562936811520\n",
      "95# 874012996292530176\n",
      "96# 873697596434513921\n",
      "873697596434513921: No status found with that ID.\n",
      "\n",
      "97# 873580283840344065\n",
      "98# 873337748698140672\n",
      "99# 873213775632977920\n",
      "100# 872967104147763200\n",
      "101# 872820683541237760\n",
      "102# 872668790621863937\n",
      "872668790621863937: No status found with that ID.\n",
      "\n",
      "103# 872620804844003328\n",
      "104# 872486979161796608\n",
      "105# 872261713294495745\n",
      "872261713294495745: No status found with that ID.\n",
      "\n",
      "106# 872122724285648897\n",
      "107# 871879754684805121\n",
      "108# 871762521631449091\n",
      "109# 871515927908634625\n",
      "110# 871166179821445120\n",
      "111# 871102520638267392\n",
      "112# 871032628920680449\n",
      "113# 870804317367881728\n",
      "114# 870726314365509632\n",
      "115# 870656317836468226\n",
      "116# 870374049280663552\n",
      "117# 870308999962521604\n",
      "118# 870063196459192321\n",
      "119# 869988702071779329\n",
      "869988702071779329: No status found with that ID.\n",
      "\n",
      "120# 869772420881756160\n",
      "121# 869702957897576449\n",
      "122# 869596645499047938\n",
      "123# 869227993411051520\n",
      "124# 868880397819494401\n",
      "125# 868639477480148993\n",
      "126# 868622495443632128\n",
      "127# 868552278524837888\n",
      "128# 867900495410671616\n",
      "129# 867774946302451713\n",
      "130# 867421006826221569\n",
      "131# 867072653475098625\n",
      "132# 867051520902168576\n",
      "133# 866816280283807744\n",
      "866816280283807744: No status found with that ID.\n",
      "\n",
      "134# 866720684873056260\n",
      "135# 866686824827068416\n",
      "136# 866450705531457537\n",
      "137# 866334964761202691\n",
      "138# 866094527597207552\n",
      "139# 865718153858494464\n",
      "140# 865359393868664832\n",
      "141# 865006731092295680\n",
      "142# 864873206498414592\n",
      "143# 864279568663928832\n",
      "144# 864197398364647424\n",
      "145# 863907417377173506\n",
      "146# 863553081350529029\n",
      "147# 863471782782697472\n",
      "148# 863432100342583297\n",
      "149# 863427515083354112\n",
      "150# 863079547188785154\n",
      "151# 863062471531167744\n",
      "152# 862831371563274240\n",
      "153# 862722525377298433\n",
      "154# 862457590147678208\n",
      "155# 862096992088072192\n",
      "156# 861769973181624320\n",
      "861769973181624320: No status found with that ID.\n",
      "\n",
      "157# 861383897657036800\n",
      "158# 861288531465048066\n",
      "159# 861005113778896900\n",
      "160# 860981674716409858\n",
      "161# 860924035999428608\n",
      "162# 860563773140209665\n",
      "163# 860524505164394496\n",
      "164# 860276583193509888\n",
      "165# 860184849394610176\n",
      "166# 860177593139703809\n",
      "167# 859924526012018688\n",
      "168# 859851578198683649\n",
      "169# 859607811541651456\n",
      "170# 859196978902773760\n",
      "171# 859074603037188101\n",
      "172# 858860390427611136\n",
      "173# 858843525470990336\n",
      "174# 858471635011153920\n",
      "175# 858107933456039936\n",
      "176# 857989990357356544\n",
      "177# 857746408056729600\n",
      "178# 857393404942143489\n",
      "179# 857263160327368704\n",
      "180# 857214891891077121\n",
      "181# 857062103051644929\n",
      "182# 857029823797047296\n",
      "183# 856602993587888130\n",
      "184# 856543823941562368\n",
      "185# 856526610513747968\n",
      "186# 856330835276025856\n",
      "187# 856288084350160898\n",
      "188# 856282028240666624\n",
      "189# 855862651834028034\n",
      "190# 855860136149123072\n",
      "191# 855857698524602368\n",
      "192# 855851453814013952\n",
      "193# 855818117272018944\n",
      "194# 855459453768019968\n",
      "195# 855245323840757760\n",
      "196# 855138241867124737\n",
      "197# 854732716440526848\n",
      "198# 854482394044301312\n",
      "199# 854365224396361728\n",
      "200# 854120357044912130\n",
      "201# 854010172552949760\n",
      "202# 853760880890318849\n",
      "203# 853639147608842240\n",
      "204# 853299958564483072\n",
      "205# 852936405516943360\n",
      "206# 852912242202992640\n",
      "207# 852672615818899456\n",
      "208# 852553447878664193\n",
      "209# 852311364735569921\n",
      "210# 852226086759018497\n",
      "211# 852189679701164033\n",
      "212# 851953902622658560\n",
      "213# 851861385021730816\n",
      "214# 851591660324737024\n",
      "215# 851464819735769094\n",
      "216# 851224888060895234\n",
      "217# 850753642995093505\n",
      "218# 850380195714523136\n",
      "219# 850333567704068097\n",
      "220# 850145622816686080\n",
      "221# 850019790995546112\n",
      "222# 849776966551130114\n",
      "223# 849668094696017920\n",
      "224# 849412302885593088\n",
      "225# 849336543269576704\n",
      "226# 849051919805034497\n",
      "227# 848690551926992896\n",
      "228# 848324959059550208\n",
      "229# 848213670039564288\n",
      "230# 848212111729840128\n",
      "231# 847978865427394560\n",
      "232# 847971574464610304\n",
      "233# 847962785489326080\n",
      "234# 847842811428974592\n",
      "235# 847617282490613760\n",
      "236# 847606175596138505\n",
      "237# 847251039262605312\n",
      "238# 847157206088847362\n",
      "239# 847116187444137987\n",
      "240# 846874817362120707\n",
      "241# 846514051647705089\n",
      "242# 846505985330044928\n",
      "243# 846153765933735936\n",
      "244# 846139713627017216\n",
      "245# 846042936437604353\n",
      "246# 845812042753855489\n",
      "247# 845677943972139009\n",
      "248# 845459076796616705\n",
      "845459076796616705: No status found with that ID.\n",
      "\n",
      "249# 845397057150107648\n",
      "250# 845306882940190720\n",
      "251# 845098359547420673\n",
      "252# 844979544864018432\n",
      "253# 844973813909606400\n",
      "254# 844704788403113984\n",
      "255# 844580511645339650\n",
      "256# 844223788422217728\n",
      "257# 843981021012017153\n",
      "258# 843856843873095681\n",
      "259# 843604394117681152\n",
      "260# 843235543001513987\n",
      "261# 842892208864923648\n",
      "842892208864923648: No status found with that ID.\n",
      "\n",
      "262# 842846295480000512\n",
      "263# 842765311967449089\n",
      "264# 842535590457499648\n",
      "265# 842163532590374912\n",
      "266# 842115215311396866\n",
      "267# 841833993020538882\n",
      "268# 841680585030541313\n",
      "269# 841439858740625411\n",
      "270# 841320156043304961\n",
      "271# 841314665196081154\n",
      "272# 841077006473256960\n",
      "273# 840761248237133825\n",
      "274# 840728873075638272\n",
      "275# 840698636975636481\n",
      "276# 840696689258311684\n",
      "277# 840632337062862849\n",
      "278# 840370681858686976\n",
      "279# 840268004936019968\n",
      "280# 839990271299457024\n",
      "281# 839549326359670784\n",
      "282# 839290600511926273\n",
      "283# 839239871831150596\n",
      "284# 838952994649550848\n",
      "285# 838921590096166913\n",
      "286# 838916489579200512\n",
      "287# 838831947270979586\n",
      "288# 838561493054533637\n",
      "289# 838476387338051585\n",
      "290# 838201503651401729\n",
      "291# 838150277551247360\n",
      "292# 838085839343206401\n",
      "293# 838083903487373313\n",
      "294# 837820167694528512\n",
      "295# 837482249356513284\n",
      "296# 837471256429613056\n",
      "297# 837366284874571778\n",
      "298# 837110210464448512\n",
      "299# 837012587749474308\n",
      "837012587749474308: No status found with that ID.\n",
      "\n",
      "300# 836989968035819520\n",
      "301# 836753516572119041\n",
      "302# 836677758902222849\n",
      "303# 836648853927522308\n",
      "304# 836397794269200385\n",
      "305# 836380477523124226\n",
      "306# 836260088725786625\n",
      "307# 836001077879255040\n",
      "308# 835685285446955009\n",
      "309# 835574547218894849\n",
      "310# 835536468978302976\n",
      "311# 835309094223372289\n",
      "312# 835297930240217089\n",
      "313# 835264098648616962\n",
      "314# 835246439529840640\n",
      "315# 835172783151792128\n",
      "316# 835152434251116546\n",
      "317# 834931633769889797\n",
      "318# 834786237630337024\n",
      "319# 834574053763584002\n",
      "320# 834477809192075265\n",
      "321# 834458053273591808\n",
      "322# 834209720923721728\n",
      "323# 834167344700198914\n",
      "324# 834089966724603904\n",
      "325# 834086379323871233\n"
     ]
    },
    {
     "name": "stdout",
     "output_type": "stream",
     "text": [
      "326# 833863086058651648\n",
      "327# 833826103416520705\n",
      "328# 833732339549220864\n",
      "329# 833722901757046785\n",
      "330# 833479644947025920\n",
      "331# 833124694597443584\n",
      "332# 832998151111966721\n",
      "333# 832769181346996225\n",
      "334# 832757312314028032\n",
      "335# 832682457690300417\n",
      "336# 832645525019123713\n",
      "337# 832636094638288896\n",
      "338# 832397543355072512\n",
      "339# 832369877331693569\n",
      "340# 832273440279240704\n",
      "341# 832215909146226688\n",
      "342# 832215726631055365\n",
      "343# 832088576586297345\n",
      "344# 832040443403784192\n",
      "345# 832032802820481025\n",
      "346# 831939777352105988\n",
      "347# 831926988323639298\n",
      "348# 831911600680497154\n",
      "349# 831670449226514432\n",
      "350# 831650051525054464\n",
      "351# 831552930092285952\n",
      "352# 831322785565769729\n",
      "353# 831315979191906304\n",
      "354# 831309418084069378\n",
      "355# 831262627380748289\n",
      "356# 830956169170665475\n",
      "357# 830583320585068544\n",
      "358# 830173239259324417\n",
      "359# 830097400375152640\n",
      "360# 829878982036299777\n",
      "361# 829861396166877184\n",
      "362# 829501995190984704\n",
      "363# 829449946868879360\n",
      "364# 829374341691346946\n",
      "365# 829141528400556032\n",
      "366# 829011960981237760\n",
      "367# 828801551087042563\n",
      "368# 828770345708580865\n",
      "369# 828708714936930305\n",
      "370# 828650029636317184\n",
      "371# 828409743546925057\n",
      "372# 828408677031882754\n",
      "373# 828381636999917570\n",
      "374# 828376505180889089\n",
      "375# 828372645993398273\n",
      "376# 828361771580813312\n",
      "377# 828046555563323392\n",
      "378# 828011680017821696\n",
      "379# 827933404142436356\n",
      "380# 827653905312006145\n",
      "381# 827600520311402496\n",
      "382# 827324948884643840\n",
      "383# 827228250799742977\n",
      "827228250799742977: No status found with that ID.\n",
      "\n",
      "384# 827199976799354881\n",
      "385# 826958653328592898\n",
      "386# 826848821049180160\n",
      "387# 826615380357632002\n",
      "388# 826598799820865537\n",
      "389# 826598365270007810\n",
      "390# 826476773533745153\n",
      "391# 826240494070030336\n",
      "392# 826204788643753985\n",
      "393# 826115272272650244\n",
      "394# 825876512159186944\n",
      "395# 825829644528148480\n",
      "396# 825535076884762624\n",
      "397# 825147591692263424\n",
      "398# 825120256414846976\n",
      "399# 825026590719483904\n",
      "400# 824796380199809024\n",
      "401# 824775126675836928\n",
      "402# 824663926340194305\n",
      "403# 824325613288833024\n",
      "404# 824297048279236611\n",
      "405# 824025158776213504\n",
      "406# 823939628516474880\n",
      "407# 823719002937630720\n",
      "408# 823699002998870016\n",
      "409# 823581115634085888\n",
      "410# 823333489516937216\n",
      "411# 823322678127919110\n",
      "412# 823269594223824897\n",
      "413# 822975315408461824\n",
      "414# 822872901745569793\n",
      "415# 822859134160621569\n",
      "416# 822647212903690241\n",
      "417# 822610361945911296\n",
      "418# 822489057087389700\n",
      "419# 822462944365645825\n",
      "420# 822244816520155136\n",
      "421# 822163064745328640\n",
      "422# 821886076407029760\n",
      "423# 821813639212650496\n",
      "424# 821765923262631936\n",
      "425# 821522889702862852\n",
      "426# 821421320206483457\n",
      "427# 821407182352777218\n",
      "428# 821153421864615936\n",
      "429# 821149554670182400\n",
      "430# 821107785811234820\n",
      "431# 821044531881721856\n",
      "432# 820837357901512704\n",
      "433# 820749716845686786\n",
      "434# 820690176645140481\n",
      "435# 820494788566847489\n",
      "436# 820446719150292993\n",
      "437# 820314633777061888\n",
      "438# 820078625395449857\n",
      "439# 820013781606658049\n",
      "440# 819952236453363712\n",
      "441# 819924195358416896\n",
      "442# 819711362133872643\n",
      "443# 819588359383371776\n",
      "444# 819347104292290561\n",
      "445# 819238181065359361\n",
      "446# 819227688460238848\n",
      "447# 819015337530290176\n",
      "448# 819015331746349057\n",
      "449# 819006400881917954\n",
      "450# 819004803107983360\n",
      "451# 818646164899774465\n",
      "452# 818627210458333184\n",
      "453# 818614493328580609\n",
      "454# 818588835076603904\n",
      "455# 818536468981415936\n",
      "456# 818307523543449600\n",
      "457# 818259473185828864\n",
      "458# 818145370475810820\n",
      "459# 817908911860748288\n",
      "460# 817827839487737858\n",
      "461# 817777686764523521\n",
      "462# 817536400337801217\n",
      "463# 817502432452313088\n",
      "464# 817423860136083457\n",
      "465# 817415592588222464\n",
      "466# 817181837579653120\n",
      "467# 817171292965273600\n",
      "468# 817120970343411712\n",
      "469# 817056546584727552\n",
      "470# 816829038950027264\n",
      "471# 816816676327063552\n",
      "472# 816697700272001025\n",
      "473# 816450570814898180\n",
      "474# 816336735214911488\n",
      "475# 816091915477250048\n",
      "476# 816062466425819140\n",
      "477# 816014286006976512\n",
      "478# 815990720817401858\n",
      "479# 815966073409433600\n",
      "480# 815745968457060357\n",
      "481# 815736392542261248\n",
      "482# 815639385530101762\n",
      "483# 815390420867969024\n",
      "484# 814986499976527872\n",
      "485# 814638523311648768\n",
      "486# 814578408554463233\n",
      "487# 814530161257443328\n",
      "488# 814153002265309185\n",
      "489# 813944609378369540\n",
      "490# 813910438903693312\n",
      "491# 813812741911748608\n",
      "492# 813800681631023104\n",
      "493# 813217897535406080\n",
      "494# 813202720496779264\n",
      "495# 813187593374461952\n",
      "496# 813172488309972993\n",
      "497# 813157409116065792\n",
      "498# 813142292504645637\n",
      "499# 813130366689148928\n",
      "500# 813127251579564032\n",
      "501# 813112105746448384\n",
      "502# 813096984823349248\n",
      "503# 813081950185472002\n",
      "504# 813066809284972545\n",
      "505# 813051746834595840\n",
      "506# 812781120811126785\n",
      "507# 812747805718642688\n",
      "812747805718642688: No status found with that ID.\n",
      "\n",
      "508# 812709060537683968\n",
      "509# 812503143955202048\n",
      "510# 812466873996607488\n",
      "511# 812372279581671427\n",
      "512# 811985624773361665\n",
      "513# 811744202451197953\n",
      "514# 811647686436880384\n",
      "515# 811627233043480576\n",
      "516# 811386762094317568\n",
      "517# 810984652412424192\n",
      "518# 810896069567610880\n",
      "519# 810657578271330305\n",
      "520# 810284430598270976\n",
      "521# 810254108431155201\n",
      "522# 809920764300447744\n",
      "523# 809808892968534016\n",
      "524# 809448704142938112\n",
      "525# 809220051211603969\n",
      "526# 809084759137812480\n",
      "527# 808838249661788160\n",
      "528# 808733504066486276\n",
      "529# 808501579447930884\n",
      "530# 808344865868283904\n",
      "531# 808134635716833280\n",
      "532# 808106460588765185\n",
      "533# 808001312164028416\n",
      "534# 807621403335917568\n",
      "535# 807106840509214720\n",
      "536# 807059379405148160\n",
      "537# 807010152071229440\n",
      "538# 806629075125202948\n",
      "539# 806620845233815552\n",
      "540# 806576416489959424\n",
      "541# 806542213899489280\n",
      "542# 806242860592926720\n",
      "543# 806219024703037440\n",
      "544# 805958939288408065\n",
      "545# 805932879469572096\n",
      "546# 805826884734976000\n",
      "547# 805823200554876929\n",
      "548# 805520635690676224\n",
      "549# 805487436403003392\n",
      "550# 805207613751304193\n",
      "551# 804738756058218496\n",
      "552# 804475857670639616\n",
      "553# 804413760345620481\n",
      "554# 804026241225523202\n",
      "555# 803773340896923648\n",
      "556# 803692223237865472\n",
      "557# 803638050916102144\n",
      "558# 803380650405482500\n",
      "559# 803321560782307329\n",
      "560# 803276597545603072\n",
      "561# 802952499103731712\n",
      "562# 802624713319034886\n",
      "563# 802600418706604034\n",
      "564# 802572683846291456\n",
      "565# 802323869084381190\n",
      "566# 802265048156610565\n",
      "567# 802247111496568832\n",
      "802247111496568832: No status found with that ID.\n",
      "\n",
      "568# 802239329049477120\n",
      "569# 802185808107208704\n",
      "570# 801958328846974976\n",
      "571# 801854953262350336\n",
      "572# 801538201127157760\n",
      "573# 801285448605831168\n",
      "574# 801167903437357056\n",
      "575# 801127390143516673\n",
      "576# 801115127852503040\n",
      "577# 800859414831898624\n",
      "578# 800855607700029440\n",
      "579# 800751577355128832\n",
      "580# 800513324630806528\n",
      "581# 800459316964663297\n",
      "582# 800443802682937345\n",
      "583# 800388270626521089\n",
      "584# 800188575492947969\n",
      "585# 800141422401830912\n",
      "586# 800018252395122689\n",
      "587# 799774291445383169\n",
      "588# 799757965289017345\n",
      "589# 799422933579902976\n",
      "590# 799308762079035393\n",
      "591# 799297110730567681\n",
      "592# 799063482566066176\n",
      "593# 798933969379225600\n",
      "594# 798925684722855936\n",
      "595# 798705661114773508\n",
      "596# 798701998996647937\n",
      "597# 798697898615730177\n",
      "598# 798694562394996736\n",
      "599# 798686750113755136\n",
      "600# 798682547630837760\n",
      "601# 798673117451325440\n",
      "602# 798665375516884993\n",
      "603# 798644042770751489\n",
      "604# 798628517273620480\n",
      "605# 798585098161549313\n",
      "606# 798576900688019456\n",
      "607# 798340744599797760\n",
      "608# 798209839306514432\n",
      "609# 797971864723324932\n",
      "610# 797545162159308800\n",
      "611# 797236660651966464\n",
      "612# 797165961484890113\n",
      "613# 796904159865868288\n",
      "614# 796865951799083009\n",
      "615# 796759840936919040\n",
      "616# 796563435802726400\n",
      "617# 796484825502875648\n",
      "618# 796387464403357696\n",
      "619# 796177847564038144\n",
      "620# 796149749086875649\n",
      "621# 796125600683540480\n",
      "622# 796116448414461957\n",
      "623# 796080075804475393\n",
      "624# 796031486298386433\n",
      "625# 795464331001561088\n",
      "626# 795400264262053889\n",
      "627# 795076730285391872\n",
      "628# 794983741416415232\n",
      "629# 794926597468000259\n",
      "630# 794355576146903043\n",
      "631# 794332329137291264\n",
      "632# 794205286408003585\n",
      "633# 793962221541933056\n",
      "634# 793845145112371200\n",
      "635# 793614319594401792\n",
      "636# 793601777308463104\n",
      "637# 793500921481273345\n",
      "638# 793286476301799424\n",
      "639# 793271401113350145\n",
      "640# 793256262322548741\n",
      "641# 793241302385262592\n",
      "642# 793226087023144960\n",
      "643# 793210959003287553\n",
      "644# 793195938047070209\n",
      "645# 793180763617361921\n",
      "646# 793165685325201412\n",
      "647# 793150605191548928\n",
      "648# 793135492858580992\n",
      "649# 793120401413079041\n",
      "650# 792913359805018113\n",
      "651# 792883833364439040\n",
      "652# 792773781206999040\n",
      "653# 792394556390137856\n",
      "654# 792050063153438720\n",
      "655# 791821351946420224\n",
      "656# 791784077045166082\n",
      "657# 791780927877898241\n",
      "658# 791774931465953280\n",
      "659# 791672322847637504\n",
      "660# 791406955684368384\n"
     ]
    },
    {
     "name": "stdout",
     "output_type": "stream",
     "text": [
      "661# 791312159183634433\n",
      "662# 791026214425268224\n",
      "663# 790987426131050500\n",
      "664# 790946055508652032\n",
      "665# 790723298204217344\n",
      "666# 790698755171364864\n",
      "667# 790581949425475584\n",
      "668# 790337589677002753\n",
      "669# 790277117346975746\n",
      "670# 790227638568808452\n",
      "671# 789986466051088384\n",
      "672# 789960241177853952\n",
      "673# 789903600034189313\n",
      "674# 789628658055020548\n",
      "675# 789599242079838210\n",
      "676# 789530877013393408\n",
      "677# 789314372632018944\n",
      "678# 789280767834746880\n",
      "679# 789268448748703744\n",
      "680# 789137962068021249\n",
      "681# 788908386943430656\n",
      "682# 788765914992902144\n",
      "683# 788552643979468800\n",
      "684# 788412144018661376\n",
      "685# 788178268662984705\n",
      "686# 788150585577050112\n",
      "687# 788070120937619456\n",
      "688# 788039637453406209\n",
      "689# 787810552592695296\n",
      "690# 787717603741622272\n",
      "691# 787397959788929025\n",
      "692# 787322443945877504\n",
      "693# 787111942498508800\n",
      "694# 786963064373534720\n",
      "695# 786729988674449408\n",
      "696# 786709082849828864\n",
      "697# 786664955043049472\n",
      "698# 786595970293370880\n",
      "699# 786363235746385920\n",
      "700# 786286427768250368\n",
      "701# 786233965241827333\n",
      "702# 786051337297522688\n",
      "703# 786036967502913536\n",
      "704# 785927819176054784\n",
      "705# 785872687017132033\n",
      "706# 785639753186217984\n",
      "707# 785533386513321988\n",
      "708# 785515384317313025\n",
      "709# 785264754247995392\n",
      "710# 785170936622350336\n",
      "711# 784826020293709826\n",
      "712# 784517518371221505\n",
      "713# 784431430411685888\n",
      "714# 784183165795655680\n",
      "715# 784057939640352768\n",
      "716# 783839966405230592\n",
      "717# 783821107061198850\n",
      "718# 783695101801398276\n",
      "719# 783466772167098368\n",
      "720# 783391753726550016\n",
      "721# 783347506784731136\n",
      "722# 783334639985389568\n",
      "723# 783085703974514689\n",
      "724# 782969140009107456\n",
      "725# 782747134529531904\n",
      "726# 782722598790725632\n",
      "727# 782598640137187329\n",
      "728# 782305867769217024\n",
      "729# 782021823840026624\n",
      "730# 781955203444699136\n",
      "731# 781661882474196992\n",
      "732# 781655249211752448\n",
      "733# 781524693396357120\n",
      "734# 781308096455073793\n",
      "735# 781251288990355457\n",
      "736# 781163403222056960\n",
      "737# 780931614150983680\n",
      "738# 780858289093574656\n",
      "739# 780800785462489090\n",
      "740# 780601303617732608\n",
      "741# 780543529827336192\n",
      "742# 780496263422808064\n",
      "743# 780476555013349377\n",
      "744# 780459368902959104\n",
      "745# 780192070812196864\n",
      "746# 780092040432480260\n",
      "747# 780074436359819264\n",
      "748# 779834332596887552\n",
      "749# 779377524342161408\n",
      "750# 779124354206535695\n",
      "751# 779123168116150273\n",
      "752# 779056095788752897\n",
      "753# 778990705243029504\n",
      "754# 778774459159379968\n",
      "755# 778764940568104960\n",
      "756# 778748913645780993\n",
      "757# 778650543019483137\n",
      "758# 778624900596654080\n",
      "759# 778408200802557953\n",
      "760# 778396591732486144\n",
      "761# 778383385161035776\n",
      "762# 778286810187399168\n",
      "763# 778039087836069888\n",
      "764# 778027034220126208\n",
      "765# 777953400541634568\n",
      "766# 777885040357281792\n",
      "767# 777684233540206592\n",
      "768# 777641927919427584\n",
      "769# 777621514455814149\n",
      "770# 777189768882946048\n",
      "771# 776819012571455488\n",
      "772# 776813020089548800\n",
      "773# 776477788987613185\n",
      "774# 776249906839351296\n",
      "775# 776218204058357768\n",
      "776# 776201521193218049\n",
      "777# 776113305656188928\n",
      "778# 776088319444877312\n",
      "779# 775898661951791106\n",
      "780# 775842724423557120\n",
      "781# 775733305207554048\n",
      "782# 775729183532220416\n",
      "783# 775364825476165632\n",
      "784# 775350846108426240\n",
      "785# 775096608509886464\n",
      "775096608509886464: No status found with that ID.\n",
      "\n",
      "786# 775085132600442880\n",
      "787# 774757898236878852\n",
      "788# 774639387460112384\n",
      "789# 774314403806253056\n",
      "790# 773985732834758656\n",
      "791# 773922284943896577\n",
      "792# 773704687002451968\n",
      "793# 773670353721753600\n",
      "794# 773547596996571136\n",
      "795# 773336787167145985\n",
      "796# 773308824254029826\n",
      "797# 773247561583001600\n",
      "798# 773191612633579521\n",
      "799# 772877495989305348\n",
      "800# 772826264096874500\n",
      "801# 772615324260794368\n",
      "802# 772581559778025472\n",
      "803# 772193107915964416\n",
      "804# 772152991789019136\n",
      "805# 772117678702071809\n",
      "806# 772114945936949249\n",
      "807# 772102971039580160\n",
      "808# 771908950375665664\n",
      "809# 771770456517009408\n",
      "810# 771500966810099713\n",
      "811# 771380798096281600\n",
      "812# 771171053431250945\n",
      "813# 771136648247640064\n",
      "814# 771102124360998913\n",
      "815# 771014301343748096\n",
      "816# 771004394259247104\n",
      "817# 770787852854652928\n",
      "818# 770772759874076672\n",
      "819# 770743923962707968\n",
      "770743923962707968: No status found with that ID.\n",
      "\n",
      "820# 770655142660169732\n",
      "821# 770414278348247044\n",
      "822# 770293558247038976\n",
      "823# 770093767776997377\n",
      "824# 770069151037685760\n",
      "825# 769940425801170949\n",
      "826# 769695466921623552\n",
      "827# 769335591808995329\n",
      "828# 769212283578875904\n",
      "829# 768970937022709760\n",
      "830# 768909767477751808\n",
      "831# 768855141948723200\n",
      "832# 768609597686943744\n",
      "833# 768596291618299904\n",
      "834# 768554158521745409\n",
      "835# 768473857036525572\n",
      "836# 768193404517830656\n",
      "837# 767884188863397888\n",
      "838# 767754930266464257\n",
      "839# 767500508068192258\n",
      "840# 767191397493538821\n",
      "841# 767122157629476866\n",
      "842# 766864461642756096\n",
      "843# 766793450729734144\n",
      "844# 766714921925144576\n",
      "845# 766693177336135680\n",
      "846# 766423258543644672\n",
      "847# 766313316352462849\n",
      "848# 766078092750233600\n",
      "849# 766069199026450432\n",
      "850# 766008592277377025\n",
      "851# 765719909049503744\n",
      "852# 765669560888528897\n",
      "853# 765395769549590528\n",
      "854# 765371061932261376\n",
      "855# 765222098633691136\n",
      "856# 764857477905154048\n",
      "857# 764259802650378240\n",
      "858# 763956972077010945\n",
      "859# 763837565564780549\n",
      "860# 763183847194451968\n",
      "861# 763167063695355904\n",
      "862# 763103485927849985\n",
      "863# 762699858130116608\n",
      "864# 762471784394268675\n",
      "865# 762464539388485633\n",
      "866# 762316489655476224\n",
      "867# 762035686371364864\n",
      "868# 761976711479193600\n",
      "869# 761750502866649088\n",
      "870# 761745352076779520\n",
      "871# 761672994376806400\n",
      "872# 761599872357261312\n",
      "873# 761371037149827077\n",
      "874# 761334018830917632\n",
      "875# 761292947749015552\n",
      "876# 761227390836215808\n",
      "877# 761004547850530816\n",
      "878# 760893934457552897\n",
      "879# 760656994973933572\n",
      "880# 760641137271070720\n",
      "881# 760539183865880579\n",
      "882# 760521673607086080\n",
      "883# 760290219849637889\n",
      "884# 760252756032651264\n",
      "885# 760190180481531904\n",
      "886# 760153949710192640\n",
      "887# 759943073749200896\n",
      "888# 759923798737051648\n",
      "889# 759846353224826880\n",
      "890# 759793422261743616\n",
      "891# 759566828574212096\n",
      "892# 759557299618865152\n",
      "893# 759447681597108224\n",
      "894# 759446261539934208\n",
      "895# 759197388317847553\n",
      "896# 759159934323924993\n",
      "897# 759099523532779520\n",
      "898# 759047813560868866\n",
      "899# 758854675097526272\n",
      "900# 758828659922702336\n",
      "901# 758740312047005698\n",
      "902# 758474966123810816\n",
      "903# 758467244762497024\n",
      "904# 758405701903519748\n",
      "905# 758355060040593408\n",
      "906# 758099635764359168\n",
      "907# 758041019896193024\n",
      "908# 757741869644341248\n",
      "909# 757729163776290825\n",
      "910# 757725642876129280\n",
      "911# 757611664640446465\n",
      "912# 757597904299253760\n",
      "913# 757596066325864448\n",
      "914# 757400162377592832\n",
      "915# 757393109802180609\n",
      "916# 757354760399941633\n",
      "917# 756998049151549440\n",
      "918# 756939218950160384\n",
      "919# 756651752796094464\n",
      "920# 756526248105566208\n",
      "921# 756303284449767430\n",
      "922# 756288534030475264\n",
      "923# 756275833623502848\n",
      "924# 755955933503782912\n",
      "925# 755206590534418437\n",
      "926# 755110668769038337\n",
      "927# 754874841593970688\n",
      "928# 754856583969079297\n",
      "929# 754747087846248448\n",
      "930# 754482103782404096\n",
      "931# 754449512966619136\n",
      "932# 754120377874386944\n",
      "933# 754011816964026368\n",
      "754011816964026368: No status found with that ID.\n",
      "\n",
      "934# 753655901052166144\n",
      "935# 753420520834629632\n",
      "936# 753398408988139520\n",
      "937# 753375668877008896\n",
      "938# 753298634498793472\n",
      "939# 753294487569522689\n",
      "940# 753039830821511168\n",
      "941# 753026973505581056\n",
      "942# 752932432744185856\n",
      "943# 752917284578922496\n",
      "944# 752701944171524096\n",
      "945# 752682090207055872\n",
      "946# 752660715232722944\n",
      "947# 752568224206688256\n",
      "948# 752519690950500352\n",
      "949# 752334515931054080\n",
      "950# 752309394570878976\n",
      "951# 752173152931807232\n",
      "952# 751950017322246144\n",
      "953# 751937170840121344\n",
      "954# 751830394383790080\n",
      "955# 751793661361422336\n",
      "956# 751598357617971201\n",
      "957# 751583847268179968\n",
      "958# 751538714308972544\n",
      "959# 751456908746354688\n",
      "960# 751251247299190784\n",
      "961# 751205363882532864\n",
      "962# 751132876104687617\n",
      "963# 750868782890057730\n",
      "964# 750719632563142656\n",
      "965# 750506206503038976\n",
      "966# 750429297815552001\n",
      "967# 750383411068534784\n",
      "968# 750381685133418496\n",
      "969# 750147208377409536\n",
      "970# 750132105863102464\n",
      "971# 750117059602808832\n",
      "972# 750101899009982464\n",
      "973# 750086836815486976\n",
      "974# 750071704093859840\n",
      "975# 750056684286914561\n",
      "976# 750041628174217216\n",
      "977# 750026558547456000\n",
      "978# 750011400160841729\n",
      "979# 749996283729883136\n",
      "980# 749981277374128128\n",
      "981# 749774190421639168\n",
      "982# 749417653287129088\n",
      "983# 749403093750648834\n",
      "984# 749395845976588288\n",
      "985# 749317047558017024\n",
      "986# 749075273010798592\n",
      "987# 749064354620928000\n",
      "988# 749036806121881602\n",
      "989# 748977405889503236\n",
      "990# 748932637671223296\n",
      "991# 748705597323898880\n",
      "992# 748699167502000129\n",
      "993# 748692773788876800\n",
      "994# 748575535303884801\n",
      "995# 748568946752774144\n"
     ]
    },
    {
     "name": "stdout",
     "output_type": "stream",
     "text": [
      "996# 748346686624440324\n",
      "997# 748337862848962560\n",
      "998# 748324050481647620\n",
      "999# 748307329658011649\n",
      "1000# 748220828303695873\n",
      "1001# 747963614829678593\n",
      "1002# 747933425676525569\n",
      "1003# 747885874273214464\n",
      "1004# 747844099428986880\n",
      "1005# 747816857231626240\n",
      "1006# 747651430853525504\n",
      "1007# 747648653817413632\n",
      "1008# 747600769478692864\n",
      "1009# 747594051852075008\n",
      "1010# 747512671126323200\n",
      "1011# 747461612269887489\n",
      "1012# 747439450712596480\n",
      "1013# 747242308580548608\n",
      "1014# 747219827526344708\n",
      "1015# 747204161125646336\n",
      "1016# 747103485104099331\n",
      "1017# 746906459439529985\n",
      "1018# 746872823977771008\n",
      "1019# 746818907684614144\n",
      "1020# 746790600704425984\n",
      "1021# 746757706116112384\n",
      "1022# 746726898085036033\n",
      "1023# 746542875601690625\n",
      "1024# 746521445350707200\n",
      "1025# 746507379341139972\n",
      "1026# 746369468511756288\n",
      "1027# 746131877086527488\n",
      "1028# 746056683365994496\n",
      "1029# 745789745784041472\n",
      "1030# 745712589599014916\n",
      "1031# 745433870967832576\n",
      "1032# 745422732645535745\n",
      "1033# 745314880350101504\n",
      "1034# 745074613265149952\n",
      "1035# 745057283344719872\n",
      "1036# 744995568523612160\n",
      "1037# 744971049620602880\n",
      "1038# 744709971296780288\n",
      "1039# 744334592493166593\n",
      "1040# 744234799360020481\n",
      "1041# 744223424764059648\n",
      "1042# 743980027717509120\n",
      "1043# 743895849529389061\n",
      "1044# 743835915802583040\n",
      "1045# 743609206067040256\n",
      "1046# 743595368194129920\n",
      "1047# 743545585370791937\n",
      "1048# 743510151680958465\n",
      "1049# 743253157753532416\n",
      "1050# 743222593470234624\n",
      "1051# 743210557239623680\n",
      "1052# 742534281772302336\n",
      "1053# 742528092657332225\n",
      "1054# 742465774154047488\n",
      "1055# 742423170473463808\n",
      "1056# 742385895052087300\n",
      "1057# 742161199639494656\n",
      "1058# 742150209887731712\n",
      "1059# 741793263812808706\n",
      "1060# 741743634094141440\n",
      "1061# 741438259667034112\n",
      "1062# 741303864243200000\n",
      "1063# 741099773336379392\n",
      "1064# 741067306818797568\n",
      "1065# 740995100998766593\n",
      "1066# 740711788199743490\n",
      "1067# 740699697422163968\n",
      "1068# 740676976021798912\n",
      "1069# 740373189193256964\n",
      "1070# 740365076218183684\n",
      "1071# 740359016048689152\n",
      "1072# 740214038584557568\n",
      "1073# 739979191639244800\n",
      "1074# 739932936087216128\n",
      "1075# 739844404073074688\n",
      "1076# 739623569819336705\n",
      "1077# 739606147276148736\n",
      "1078# 739544079319588864\n",
      "1079# 739485634323156992\n",
      "1080# 739238157791694849\n",
      "1081# 738891149612572673\n",
      "1082# 738885046782832640\n",
      "1083# 738883359779196928\n",
      "1084# 738537504001953792\n",
      "1085# 738402415918125056\n",
      "1086# 738184450748633089\n",
      "1087# 738166403467907072\n",
      "1088# 738156290900254721\n",
      "1089# 737826014890496000\n",
      "1090# 737800304142471168\n",
      "1091# 737678689543020544\n",
      "1092# 737445876994609152\n",
      "1093# 737322739594330112\n",
      "1094# 737310737551491075\n",
      "1095# 736736130620620800\n",
      "1096# 736392552031657984\n",
      "1097# 736365877722001409\n",
      "1098# 736225175608430592\n",
      "1099# 736010884653420544\n",
      "1100# 735991953473572864\n",
      "1101# 735648611367784448\n",
      "1102# 735635087207878657\n",
      "1103# 735274964362878976\n",
      "1104# 735256018284875776\n",
      "1105# 735137028879360001\n",
      "1106# 734912297295085568\n",
      "1107# 734787690684657664\n",
      "1108# 734776360183431168\n",
      "1109# 734559631394082816\n",
      "1110# 733828123016450049\n",
      "1111# 733822306246479872\n",
      "1112# 733482008106668032\n",
      "1113# 733460102733135873\n",
      "1114# 733109485275860992\n",
      "1115# 732732193018155009\n",
      "1116# 732726085725589504\n",
      "1117# 732585889486888962\n",
      "1118# 732375214819057664\n",
      "1119# 732005617171337216\n",
      "1120# 731285275100512256\n",
      "1121# 731156023742988288\n",
      "1122# 730924654643314689\n",
      "1123# 730573383004487680\n",
      "1124# 730427201120833536\n",
      "1125# 730211855403241472\n",
      "1126# 730196704625098752\n",
      "1127# 729854734790754305\n",
      "1128# 729838605770891264\n",
      "1129# 729823566028484608\n",
      "1130# 729463711119904772\n",
      "1131# 729113531270991872\n",
      "1132# 728986383096946689\n",
      "1133# 728760639972315136\n",
      "1134# 728751179681943552\n",
      "1135# 728653952833728512\n",
      "1136# 728409960103686147\n",
      "1137# 728387165835677696\n",
      "1138# 728046963732717569\n",
      "1139# 728035342121635841\n",
      "1140# 728015554473250816\n",
      "1141# 727685679342333952\n",
      "1142# 727644517743104000\n",
      "1143# 727524757080539137\n",
      "1144# 727314416056803329\n",
      "1145# 727286334147182592\n",
      "1146# 727175381690781696\n",
      "1147# 727155742655025152\n",
      "1148# 726935089318363137\n",
      "1149# 726887082820554753\n",
      "1150# 726828223124897792\n",
      "1151# 726224900189511680\n",
      "1152# 725842289046749185\n",
      "1153# 725786712245440512\n",
      "1154# 725729321944506368\n",
      "1155# 725458796924002305\n",
      "1156# 724983749226668032\n",
      "1157# 724771698126512129\n",
      "1158# 724405726123311104\n",
      "1159# 724049859469295616\n",
      "1160# 724046343203856385\n",
      "1161# 724004602748780546\n",
      "1162# 723912936180330496\n",
      "1163# 723688335806480385\n",
      "1164# 723673163800948736\n",
      "1165# 723179728551723008\n",
      "1166# 722974582966214656\n",
      "1167# 722613351520608256\n",
      "1168# 721503162398597120\n",
      "1169# 721001180231503872\n",
      "1170# 720785406564900865\n",
      "1171# 720775346191278080\n",
      "1172# 720415127506415616\n",
      "1173# 720389942216527872\n",
      "1174# 720340705894408192\n",
      "1175# 720059472081784833\n",
      "1176# 720043174954147842\n",
      "1177# 719991154352222208\n",
      "1178# 719704490224398336\n",
      "1179# 719551379208073216\n",
      "1180# 719367763014393856\n",
      "1181# 719339463458033665\n",
      "1182# 719332531645071360\n",
      "1183# 718971898235854848\n",
      "1184# 718939241951195136\n",
      "1185# 718631497683582976\n",
      "1186# 718613305783398402\n",
      "1187# 718540630683709445\n",
      "1188# 718460005985447936\n",
      "1189# 718454725339934721\n",
      "1190# 718246886998687744\n",
      "1191# 718234618122661888\n",
      "1192# 717841801130979328\n",
      "1193# 717790033953034240\n",
      "1194# 717537687239008257\n",
      "1195# 717428917016076293\n",
      "1196# 717421804990701568\n",
      "1197# 717047459982213120\n",
      "1198# 717009362452090881\n",
      "1199# 716802964044845056\n",
      "1200# 716791146589110272\n",
      "1201# 716730379797970944\n",
      "1202# 716447146686459905\n",
      "1203# 716439118184652801\n",
      "1204# 716285507865542656\n",
      "1205# 716080869887381504\n",
      "1206# 715928423106027520\n",
      "1207# 715758151270801409\n",
      "1208# 715733265223708672\n",
      "1209# 715704790270025728\n",
      "1210# 715696743237730304\n",
      "1211# 715680795826982913\n",
      "1212# 715360349751484417\n",
      "1213# 715342466308784130\n",
      "1214# 715220193576927233\n",
      "1215# 715200624753819648\n",
      "1216# 715009755312439296\n",
      "1217# 714982300363173890\n",
      "1218# 714962719905021952\n",
      "1219# 714957620017307648\n",
      "1220# 714631576617938945\n",
      "1221# 714606013974974464\n",
      "1222# 714485234495041536\n",
      "1223# 714258258790387713\n",
      "1224# 714251586676113411\n",
      "1225# 714214115368108032\n",
      "1226# 714141408463036416\n",
      "1227# 713919462244790272\n",
      "1228# 713909862279876608\n",
      "1229# 713900603437621249\n",
      "1230# 713761197720473600\n",
      "1231# 713411074226274305\n",
      "1232# 713177543487135744\n",
      "1233# 713175907180089344\n",
      "1234# 712809025985978368\n",
      "1235# 712717840512598017\n",
      "1236# 712668654853337088\n",
      "1237# 712438159032893441\n",
      "1238# 712309440758808576\n",
      "1239# 712097430750289920\n",
      "1240# 712092745624633345\n",
      "1241# 712085617388212225\n",
      "1242# 712065007010385924\n",
      "1243# 711998809858043904\n",
      "1244# 711968124745228288\n",
      "1245# 711743778164514816\n",
      "1246# 711732680602345472\n",
      "1247# 711694788429553666\n",
      "1248# 711652651650457602\n",
      "1249# 711363825979756544\n",
      "1250# 711306686208872448\n",
      "1251# 711008018775851008\n",
      "1252# 710997087345876993\n",
      "1253# 710844581445812225\n",
      "1254# 710833117892898816\n",
      "1255# 710658690886586372\n",
      "1256# 710609963652087808\n",
      "1257# 710588934686908417\n",
      "1258# 710296729921429505\n",
      "1259# 710283270106132480\n",
      "1260# 710272297844797440\n",
      "1261# 710269109699739648\n",
      "1262# 710153181850935296\n",
      "1263# 710140971284037632\n",
      "1264# 710117014656950272\n",
      "1265# 709918798883774466\n",
      "1266# 709901256215666688\n",
      "1267# 709852847387627521\n",
      "1268# 709566166965075968\n",
      "1269# 709556954897764353\n",
      "1270# 709519240576036864\n",
      "1271# 709449600415961088\n",
      "1272# 709409458133323776\n",
      "1273# 709225125749587968\n",
      "1274# 709207347839836162\n",
      "1275# 709198395643068416\n",
      "1276# 709179584944730112\n",
      "1277# 709158332880297985\n",
      "1278# 709042156699303936\n",
      "1279# 708853462201716736\n",
      "1280# 708845821941387268\n",
      "1281# 708834316713893888\n",
      "1282# 708810915978854401\n",
      "1283# 708738143638450176\n",
      "1284# 708711088997666817\n",
      "1285# 708479650088034305\n",
      "1286# 708469915515297792\n",
      "1287# 708400866336894977\n",
      "1288# 708356463048204288\n",
      "1289# 708349470027751425\n",
      "1290# 708149363256774660\n",
      "1291# 708130923141795840\n",
      "1292# 708119489313951744\n",
      "1293# 708109389455101952\n",
      "1294# 708026248782585858\n",
      "1295# 707995814724026368\n",
      "1296# 707983188426153984\n",
      "1297# 707969809498152960\n",
      "1298# 707776935007539200\n",
      "1299# 707741517457260545\n",
      "1300# 707738799544082433\n",
      "1301# 707693576495472641\n",
      "1302# 707629649552134146\n",
      "1303# 707610948723478529\n",
      "1304# 707420581654872064\n",
      "1305# 707411934438625280\n",
      "1306# 707387676719185920\n",
      "1307# 707377100785885184\n",
      "1308# 707315916783140866\n",
      "1309# 707297311098011648\n",
      "1310# 707059547140169728\n",
      "1311# 707038192327901184\n",
      "1312# 707021089608753152\n",
      "1313# 707014260413456384\n",
      "1314# 706904523814649856\n",
      "1315# 706901761596989440\n",
      "1316# 706681918348251136\n",
      "1317# 706644897839910912\n",
      "1318# 706593038911545345\n",
      "1319# 706538006853918722\n",
      "1320# 706516534877929472\n",
      "1321# 706346369204748288\n",
      "1322# 706310011488698368\n",
      "1323# 706291001778950144\n"
     ]
    },
    {
     "name": "stdout",
     "output_type": "stream",
     "text": [
      "1324# 706265994973601792\n",
      "1325# 706169069255446529\n",
      "1326# 706166467411222528\n",
      "1327# 706153300320784384\n",
      "1328# 705975130514706432\n",
      "1329# 705970349788291072\n",
      "1330# 705898680587526145\n",
      "1331# 705786532653883392\n",
      "1332# 705591895322394625\n",
      "1333# 705475953783398401\n",
      "1334# 705442520700944385\n",
      "1335# 705428427625635840\n",
      "1336# 705239209544720384\n",
      "1337# 705223444686888960\n",
      "1338# 705102439679201280\n",
      "1339# 705066031337840642\n",
      "1340# 704871453724954624\n",
      "1341# 704859558691414016\n",
      "1342# 704847917308362754\n",
      "1343# 704819833553219584\n",
      "1344# 704761120771465216\n",
      "1345# 704499785726889984\n",
      "1346# 704491224099647488\n",
      "1347# 704480331685040129\n",
      "1348# 704364645503647744\n",
      "1349# 704347321748819968\n",
      "1350# 704134088924532736\n",
      "1351# 704113298707505153\n",
      "1352# 704054845121142784\n",
      "1353# 703774238772166656\n",
      "1354# 703769065844768768\n",
      "1355# 703631701117943808\n",
      "1356# 703611486317502464\n",
      "1357# 703425003149250560\n",
      "1358# 703407252292673536\n",
      "1359# 703382836347330562\n",
      "1360# 703356393781329922\n",
      "1361# 703268521220972544\n",
      "1362# 703079050210877440\n",
      "1363# 703041949650034688\n",
      "1364# 702932127499816960\n",
      "1365# 702899151802126337\n",
      "1366# 702684942141153280\n",
      "1367# 702671118226825216\n",
      "1368# 702598099714314240\n",
      "1369# 702539513671897089\n",
      "1370# 702332542343577600\n",
      "1371# 702321140488925184\n",
      "1372# 702276748847800320\n",
      "1373# 702217446468493312\n",
      "1374# 701981390485725185\n",
      "1375# 701952816642965504\n",
      "1376# 701889187134500865\n",
      "1377# 701805642395348998\n",
      "1378# 701601587219795968\n",
      "1379# 701570477911896070\n",
      "1380# 701545186879471618\n",
      "1381# 701214700881756160\n",
      "1382# 700890391244103680\n",
      "1383# 700864154249383937\n",
      "1384# 700847567345688576\n",
      "1385# 700796979434098688\n",
      "1386# 700747788515020802\n",
      "1387# 700518061187723268\n",
      "1388# 700505138482569216\n",
      "1389# 700462010979500032\n",
      "1390# 700167517596164096\n",
      "1391# 700151421916807169\n",
      "1392# 700143752053182464\n",
      "1393# 700062718104104960\n",
      "1394# 700029284593901568\n",
      "1395# 700002074055016451\n",
      "1396# 699801817392291840\n",
      "1397# 699788877217865730\n",
      "1398# 699779630832685056\n",
      "1399# 699775878809702401\n",
      "1400# 699691744225525762\n",
      "1401# 699446877801091073\n",
      "1402# 699434518667751424\n",
      "1403# 699423671849451520\n",
      "1404# 699413908797464576\n",
      "1405# 699370870310113280\n",
      "1406# 699323444782047232\n",
      "1407# 699088579889332224\n",
      "1408# 699079609774645248\n",
      "1409# 699072405256409088\n",
      "1410# 699060279947165696\n",
      "1411# 699036661657767936\n",
      "1412# 698989035503689728\n",
      "1413# 698953797952008193\n",
      "1414# 698907974262222848\n",
      "1415# 698710712454139905\n",
      "1416# 698703483621523456\n",
      "1417# 698635131305795584\n",
      "1418# 698549713696649216\n",
      "1419# 698355670425473025\n",
      "1420# 698342080612007937\n",
      "1421# 698262614669991936\n",
      "1422# 698195409219559425\n",
      "1423# 698178924120031232\n",
      "1424# 697995514407682048\n",
      "1425# 697990423684476929\n",
      "1426# 697943111201378304\n",
      "1427# 697881462549430272\n",
      "1428# 697630435728322560\n",
      "1429# 697616773278015490\n",
      "1430# 697596423848730625\n",
      "1431# 697575480820686848\n",
      "1432# 697516214579523584\n",
      "1433# 697482927769255936\n",
      "1434# 697463031882764288\n",
      "1435# 697270446429966336\n",
      "1436# 697259378236399616\n",
      "1437# 697255105972801536\n",
      "1438# 697242256848379904\n",
      "1439# 696900204696625153\n",
      "1440# 696894894812565505\n",
      "1441# 696886256886657024\n",
      "1442# 696877980375769088\n",
      "1443# 696754882863349760\n",
      "1444# 696744641916489729\n",
      "1445# 696713835009417216\n",
      "1446# 696518437233913856\n",
      "1447# 696490539101908992\n",
      "1448# 696488710901260288\n",
      "1449# 696405997980676096\n",
      "1450# 696100768806522880\n",
      "1451# 695816827381944320\n",
      "1452# 695794761660297217\n",
      "1453# 695767669421768709\n",
      "1454# 695629776980148225\n",
      "1455# 695446424020918272\n",
      "1456# 695409464418041856\n",
      "1457# 695314793360662529\n",
      "1458# 695095422348574720\n",
      "1459# 695074328191332352\n",
      "1460# 695064344191721472\n",
      "1461# 695051054296211456\n",
      "1462# 694925794720792577\n",
      "1463# 694905863685980160\n",
      "1464# 694669722378485760\n",
      "1465# 694356675654983680\n",
      "1466# 694352839993344000\n",
      "1467# 694342028726001664\n",
      "1468# 694329668942569472\n",
      "1469# 694206574471057408\n",
      "1470# 694183373896572928\n",
      "1471# 694001791655137281\n",
      "1472# 693993230313091072\n",
      "1473# 693942351086120961\n",
      "1474# 693647888581312512\n",
      "1475# 693644216740769793\n",
      "1476# 693642232151285760\n",
      "1477# 693629975228977152\n",
      "1478# 693622659251335168\n",
      "1479# 693590843962331137\n",
      "1480# 693582294167244802\n",
      "1481# 693486665285931008\n",
      "1482# 693280720173801472\n",
      "1483# 693267061318012928\n",
      "1484# 693262851218264065\n",
      "1485# 693231807727280129\n",
      "1486# 693155686491000832\n",
      "1487# 693109034023534592\n",
      "1488# 693095443459342336\n",
      "1489# 692919143163629568\n",
      "1490# 692905862751522816\n",
      "1491# 692901601640583168\n",
      "1492# 692894228850999298\n",
      "1493# 692828166163931137\n",
      "1494# 692752401762250755\n",
      "1495# 692568918515392513\n",
      "1496# 692535307825213440\n",
      "1497# 692530551048294401\n",
      "1498# 692423280028966913\n",
      "1499# 692417313023332352\n",
      "1500# 692187005137076224\n",
      "1501# 692158366030913536\n",
      "1502# 692142790915014657\n",
      "1503# 692041934689402880\n",
      "1504# 692017291282812928\n",
      "1505# 691820333922455552\n",
      "1506# 691793053716221953\n",
      "1507# 691756958957883396\n",
      "1508# 691675652215414786\n",
      "1509# 691483041324204033\n",
      "1510# 691459709405118465\n",
      "1511# 691444869282295808\n",
      "1512# 691416866452082688\n",
      "1513# 691321916024623104\n",
      "1514# 691096613310316544\n",
      "1515# 691090071332753408\n",
      "1516# 690989312272396288\n",
      "1517# 690959652130045952\n",
      "1518# 690938899477221376\n",
      "1519# 690932576555528194\n",
      "1520# 690735892932222976\n",
      "1521# 690728923253055490\n",
      "1522# 690690673629138944\n",
      "1523# 690649993829576704\n",
      "1524# 690607260360429569\n",
      "1525# 690597161306841088\n",
      "1526# 690400367696297985\n",
      "1527# 690374419777196032\n",
      "1528# 690360449368465409\n",
      "1529# 690348396616552449\n",
      "1530# 690248561355657216\n",
      "1531# 690021994562220032\n",
      "1532# 690015576308211712\n",
      "1533# 690005060500217858\n",
      "1534# 689999384604450816\n",
      "1535# 689993469801164801\n",
      "1536# 689977555533848577\n",
      "1537# 689905486972461056\n",
      "1538# 689877686181715968\n",
      "1539# 689835978131935233\n",
      "1540# 689661964914655233\n",
      "1541# 689659372465688576\n",
      "1542# 689623661272240129\n",
      "1543# 689599056876867584\n",
      "1544# 689557536375177216\n",
      "1545# 689517482558820352\n",
      "1546# 689289219123089408\n",
      "1547# 689283819090870273\n",
      "1548# 689280876073582592\n",
      "1549# 689275259254616065\n",
      "1550# 689255633275777024\n",
      "1551# 689154315265683456\n",
      "1552# 689143371370250240\n",
      "1553# 688916208532455424\n",
      "1554# 688908934925697024\n",
      "1555# 688898160958271489\n",
      "1556# 688894073864884227\n",
      "1557# 688828561667567616\n",
      "1558# 688804835492233216\n",
      "1559# 688789766343622656\n",
      "1560# 688547210804498433\n",
      "1561# 688519176466644993\n",
      "1562# 688385280030670848\n",
      "1563# 688211956440801280\n",
      "1564# 688179443353796608\n",
      "1565# 688116655151435777\n",
      "1566# 688064179421470721\n",
      "1567# 687841446767013888\n",
      "1568# 687826841265172480\n",
      "1569# 687818504314159109\n",
      "1570# 687807801670897665\n",
      "1571# 687732144991551489\n",
      "1572# 687704180304273409\n",
      "1573# 687664829264453632\n",
      "1574# 687494652870668288\n",
      "1575# 687480748861947905\n",
      "1576# 687476254459715584\n",
      "1577# 687460506001633280\n",
      "1578# 687399393394311168\n",
      "1579# 687317306314240000\n",
      "1580# 687312378585812992\n",
      "1581# 687127927494963200\n",
      "1582# 687124485711986689\n",
      "1583# 687109925361856513\n",
      "1584# 687102708889812993\n",
      "1585# 687096057537363968\n",
      "1586# 686947101016735744\n",
      "1587# 686760001961103360\n",
      "1588# 686749460672679938\n",
      "1589# 686730991906516992\n",
      "1590# 686683045143953408\n",
      "1591# 686618349602762752\n",
      "1592# 686606069955735556\n",
      "1593# 686394059078897668\n",
      "1594# 686386521809772549\n",
      "1595# 686377065986265092\n",
      "1596# 686358356425093120\n",
      "1597# 686286779679375361\n",
      "1598# 686050296934563840\n",
      "1599# 686035780142297088\n",
      "1600# 686034024800862208\n",
      "1601# 686007916130873345\n",
      "1602# 686003207160610816\n",
      "1603# 685973236358713344\n",
      "1604# 685943807276412928\n",
      "1605# 685906723014619143\n",
      "1606# 685681090388975616\n",
      "1607# 685667379192414208\n",
      "1608# 685663452032069632\n",
      "1609# 685641971164143616\n",
      "1610# 685547936038666240\n",
      "1611# 685532292383666176\n",
      "1612# 685325112850124800\n",
      "1613# 685321586178670592\n",
      "1614# 685315239903100929\n",
      "1615# 685307451701334016\n",
      "1616# 685268753634967552\n",
      "1617# 685198997565345792\n",
      "1618# 685169283572338688\n",
      "1619# 684969860808454144\n",
      "1620# 684959798585110529\n",
      "1621# 684940049151070208\n",
      "1622# 684926975086034944\n",
      "1623# 684914660081053696\n",
      "1624# 684902183876321280\n",
      "1625# 684880619965411328\n",
      "1626# 684830982659280897\n",
      "1627# 684800227459624960\n",
      "1628# 684594889858887680\n",
      "1629# 684588130326986752\n",
      "1630# 684567543613382656\n",
      "1631# 684538444857667585\n",
      "1632# 684481074559381504\n",
      "1633# 684460069371654144\n",
      "1634# 684241637099323392\n",
      "1635# 684225744407494656\n",
      "1636# 684222868335505415\n",
      "1637# 684200372118904832\n",
      "1638# 684195085588783105\n",
      "1639# 684188786104872960\n",
      "1640# 684177701129875456\n",
      "1641# 684147889187209216\n",
      "1642# 684122891630342144\n",
      "1643# 684097758874210310\n",
      "1644# 683857920510050305\n",
      "1645# 683852578183077888\n",
      "1646# 683849932751646720\n",
      "1647# 683834909291606017\n",
      "1648# 683828599284170753\n",
      "1649# 683773439333797890\n",
      "1650# 683742671509258241\n",
      "1651# 683515932363329536\n"
     ]
    },
    {
     "name": "stdout",
     "output_type": "stream",
     "text": [
      "1652# 683498322573824003\n",
      "1653# 683481228088049664\n",
      "1654# 683462770029932544\n",
      "1655# 683449695444799489\n",
      "1656# 683391852557561860\n",
      "1657# 683357973142474752\n",
      "1658# 683142553609318400\n",
      "1659# 683111407806746624\n",
      "1660# 683098815881154561\n",
      "1661# 683078886620553216\n",
      "1662# 683030066213818368\n",
      "1663# 682962037429899265\n",
      "1664# 682808988178739200\n",
      "1665# 682788441537560576\n",
      "1666# 682750546109968385\n",
      "1667# 682697186228989953\n",
      "1668# 682662431982772225\n",
      "1669# 682638830361513985\n",
      "1670# 682429480204398592\n",
      "1671# 682406705142087680\n",
      "1672# 682393905736888321\n",
      "1673# 682389078323662849\n",
      "1674# 682303737705140231\n",
      "1675# 682259524040966145\n",
      "1676# 682242692827447297\n",
      "1677# 682088079302213632\n",
      "1678# 682059653698686977\n",
      "1679# 682047327939461121\n",
      "1680# 682032003584274432\n",
      "1681# 682003177596559360\n",
      "1682# 681981167097122816\n",
      "1683# 681891461017812993\n",
      "1684# 681694085539872773\n",
      "1685# 681679526984871937\n",
      "1686# 681654059175129088\n",
      "1687# 681610798867845120\n",
      "1688# 681579835668455424\n",
      "1689# 681523177663676416\n",
      "1690# 681340665377193984\n",
      "1691# 681339448655802368\n",
      "1692# 681320187870711809\n",
      "1693# 681302363064414209\n",
      "1694# 681297372102656000\n",
      "1695# 681281657291280384\n",
      "1696# 681261549936340994\n",
      "1697# 681242418453299201\n",
      "1698# 681231109724700672\n",
      "1699# 681193455364796417\n",
      "1700# 680970795137544192\n",
      "1701# 680959110691590145\n",
      "1702# 680940246314430465\n",
      "1703# 680934982542561280\n",
      "1704# 680913438424612864\n",
      "1705# 680889648562991104\n",
      "1706# 680836378243002368\n",
      "1707# 680805554198020098\n",
      "1708# 680801747103793152\n",
      "1709# 680798457301471234\n",
      "1710# 680609293079592961\n",
      "1711# 680583894916304897\n",
      "1712# 680497766108381184\n",
      "1713# 680494726643068929\n",
      "1714# 680473011644985345\n",
      "1715# 680440374763077632\n",
      "1716# 680221482581123072\n",
      "1717# 680206703334408192\n",
      "1718# 680191257256136705\n",
      "1719# 680176173301628928\n",
      "1720# 680161097740095489\n",
      "1721# 680145970311643136\n",
      "1722# 680130881361686529\n",
      "1723# 680115823365742593\n",
      "1724# 680100725817409536\n",
      "1725# 680085611152338944\n",
      "1726# 680070545539371008\n",
      "1727# 680055455951884288\n",
      "680055455951884288: No status found with that ID.\n",
      "\n",
      "1728# 679877062409191424\n",
      "1729# 679872969355714560\n",
      "1730# 679862121895714818\n",
      "1731# 679854723806179328\n",
      "1732# 679844490799091713\n",
      "1733# 679828447187857408\n",
      "1734# 679777920601223168\n",
      "1735# 679736210798047232\n",
      "1736# 679729593985699840\n",
      "1737# 679722016581222400\n",
      "1738# 679530280114372609\n",
      "1739# 679527802031484928\n",
      "1740# 679511351870550016\n",
      "1741# 679503373272485890\n",
      "1742# 679475951516934144\n",
      "1743# 679462823135686656\n",
      "1744# 679405845277462528\n",
      "1745# 679158373988876288\n",
      "1746# 679148763231985668\n",
      "1747# 679132435750195208\n",
      "1748# 679111216690831360\n",
      "1749# 679062614270468097\n",
      "1750# 679047485189439488\n",
      "1751# 679001094530465792\n",
      "1752# 678991772295516161\n",
      "1753# 678969228704284672\n",
      "1754# 678800283649069056\n",
      "1755# 678798276842360832\n",
      "1756# 678774928607469569\n",
      "1757# 678767140346941444\n",
      "1758# 678764513869611008\n",
      "1759# 678755239630127104\n",
      "1760# 678740035362037760\n",
      "1761# 678708137298427904\n",
      "1762# 678675843183484930\n",
      "1763# 678643457146150913\n",
      "1764# 678446151570427904\n",
      "1765# 678424312106393600\n",
      "1766# 678410210315247616\n",
      "1767# 678399652199309312\n",
      "1768# 678396796259975168\n",
      "1769# 678389028614488064\n",
      "1770# 678380236862578688\n",
      "1771# 678341075375947776\n",
      "1772# 678334497360859136\n",
      "1773# 678278586130948096\n",
      "1774# 678255464182861824\n",
      "1775# 678023323247357953\n",
      "1776# 678021115718029313\n",
      "1777# 677961670166224897\n",
      "1778# 677918531514703872\n",
      "1779# 677895101218201600\n",
      "1780# 677716515794329600\n",
      "1781# 677700003327029250\n",
      "1782# 677698403548192770\n",
      "1783# 677687604918272002\n",
      "1784# 677673981332312066\n",
      "1785# 677662372920729601\n",
      "1786# 677644091929329666\n",
      "1787# 677573743309385728\n",
      "1788# 677565715327688705\n",
      "1789# 677557565589463040\n",
      "1790# 677547928504967168\n",
      "1791# 677530072887205888\n",
      "1792# 677335745548390400\n",
      "1793# 677334615166730240\n",
      "1794# 677331501395156992\n",
      "1795# 677328882937298944\n",
      "1796# 677314812125323265\n",
      "1797# 677301033169788928\n",
      "1798# 677269281705472000\n",
      "1799# 677228873407442944\n",
      "1800# 677187300187611136\n",
      "1801# 676975532580409345\n",
      "1802# 676957860086095872\n",
      "1803# 676949632774234114\n",
      "1804# 676948236477857792\n",
      "1805# 676946864479084545\n",
      "1806# 676942428000112642\n",
      "1807# 676936541936185344\n",
      "1808# 676916996760600576\n",
      "1809# 676897532954456065\n",
      "1810# 676864501615042560\n",
      "1811# 676821958043033607\n",
      "1812# 676819651066732545\n",
      "1813# 676811746707918848\n",
      "1814# 676776431406465024\n",
      "1815# 676617503762681856\n",
      "1816# 676613908052996102\n",
      "1817# 676606785097199616\n",
      "1818# 676603393314578432\n",
      "1819# 676593408224403456\n",
      "1820# 676590572941893632\n",
      "1821# 676588346097852417\n",
      "1822# 676582956622721024\n",
      "1823# 676575501977128964\n",
      "1824# 676533798876651520\n",
      "1825# 676496375194980353\n",
      "1826# 676470639084101634\n",
      "1827# 676440007570247681\n",
      "1828# 676430933382295552\n",
      "1829# 676263575653122048\n",
      "1830# 676237365392908289\n",
      "1831# 676219687039057920\n",
      "1832# 676215927814406144\n",
      "1833# 676191832485810177\n",
      "1834# 676146341966438401\n",
      "1835# 676121918416756736\n",
      "1836# 676101918813499392\n",
      "1837# 676098748976615425\n",
      "1838# 676089483918516224\n",
      "1839# 675898130735476737\n",
      "1840# 675891555769696257\n",
      "1841# 675888385639251968\n",
      "1842# 675878199931371520\n",
      "1843# 675870721063669760\n",
      "1844# 675853064436391936\n",
      "1845# 675849018447167488\n",
      "1846# 675845657354215424\n",
      "1847# 675822767435051008\n",
      "1848# 675820929667219457\n",
      "1849# 675798442703122432\n",
      "1850# 675781562965868544\n",
      "1851# 675740360753160193\n",
      "1852# 675710890956750848\n",
      "1853# 675707330206547968\n",
      "1854# 675706639471788032\n",
      "1855# 675534494439489536\n",
      "1856# 675531475945709568\n",
      "1857# 675522403582218240\n",
      "1858# 675517828909424640\n",
      "1859# 675501075957489664\n",
      "1860# 675497103322386432\n",
      "1861# 675489971617296384\n",
      "1862# 675483430902214656\n",
      "1863# 675432746517426176\n",
      "1864# 675372240448454658\n",
      "1865# 675362609739206656\n",
      "1866# 675354435921575936\n",
      "1867# 675349384339542016\n",
      "1868# 675334060156301312\n",
      "1869# 675166823650848770\n",
      "1870# 675153376133427200\n",
      "1871# 675149409102012420\n",
      "1872# 675147105808306176\n",
      "1873# 675146535592706048\n",
      "1874# 675145476954566656\n",
      "1875# 675135153782571009\n",
      "1876# 675113801096802304\n",
      "1877# 675111688094527488\n",
      "1878# 675109292475830276\n",
      "1879# 675047298674663426\n",
      "1880# 675015141583413248\n",
      "1881# 675006312288268288\n",
      "1882# 675003128568291329\n",
      "1883# 674999807681908736\n",
      "1884# 674805413498527744\n",
      "1885# 674800520222154752\n",
      "1886# 674793399141146624\n",
      "1887# 674790488185167872\n",
      "1888# 674788554665512960\n",
      "1889# 674781762103414784\n",
      "1890# 674774481756377088\n",
      "1891# 674767892831932416\n",
      "1892# 674764817387900928\n",
      "1893# 674754018082705410\n",
      "1894# 674752233200820224\n",
      "1895# 674743008475090944\n",
      "1896# 674742531037511680\n",
      "1897# 674739953134403584\n",
      "1898# 674737130913071104\n",
      "1899# 674690135443775488\n",
      "1900# 674670581682434048\n",
      "1901# 674664755118911488\n",
      "1902# 674646392044941312\n",
      "1903# 674644256330530816\n",
      "1904# 674638615994089473\n",
      "1905# 674632714662858753\n",
      "1906# 674606911342424069\n",
      "1907# 674468880899788800\n",
      "1908# 674447403907457024\n",
      "1909# 674436901579923456\n",
      "1910# 674422304705744896\n",
      "1911# 674416750885273600\n",
      "1912# 674410619106390016\n",
      "1913# 674394782723014656\n",
      "1914# 674372068062928900\n",
      "1915# 674330906434379776\n",
      "1916# 674318007229923329\n",
      "1917# 674307341513269249\n",
      "1918# 674291837063053312\n",
      "1919# 674271431610523648\n",
      "1920# 674269164442398721\n",
      "1921# 674265582246694913\n",
      "1922# 674262580978937856\n",
      "1923# 674255168825880576\n",
      "1924# 674082852460433408\n",
      "1925# 674075285688614912\n",
      "1926# 674063288070742018\n",
      "1927# 674053186244734976\n",
      "1928# 674051556661161984\n",
      "1929# 674045139690631169\n",
      "1930# 674042553264685056\n",
      "1931# 674038233588723717\n",
      "1932# 674036086168010753\n",
      "1933# 674024893172875264\n",
      "1934# 674019345211760640\n",
      "1935# 674014384960745472\n",
      "1936# 674008982932058114\n",
      "1937# 673956914389192708\n",
      "1938# 673919437611909120\n",
      "1939# 673906403526995968\n",
      "1940# 673887867907739649\n",
      "1941# 673716320723169284\n",
      "1942# 673715861853720576\n",
      "1943# 673711475735838725\n",
      "1944# 673709992831262724\n",
      "1945# 673708611235921920\n",
      "1946# 673707060090052608\n",
      "1947# 673705679337693185\n",
      "1948# 673700254269775872\n",
      "1949# 673697980713705472\n",
      "1950# 673689733134946305\n",
      "1951# 673688752737402881\n",
      "1952# 673686845050527744\n",
      "1953# 673680198160809984\n",
      "1954# 673662677122719744\n",
      "1955# 673656262056419329\n",
      "1956# 673636718965334016\n",
      "1957# 673612854080196609\n",
      "1958# 673583129559498752\n",
      "1959# 673580926094458881\n",
      "1960# 673576835670777856\n",
      "1961# 673363615379013632\n",
      "1962# 673359818736984064\n",
      "1963# 673355879178194945\n",
      "1964# 673352124999274496\n",
      "1965# 673350198937153538\n",
      "1966# 673345638550134785\n",
      "1967# 673343217010679808\n",
      "1968# 673342308415348736\n",
      "1969# 673320132811366400\n",
      "1970# 673317986296586240\n",
      "1971# 673295268553605120\n",
      "1972# 673270968295534593\n",
      "1973# 673240798075449344\n",
      "1974# 673213039743795200\n",
      "1975# 673148804208660480\n",
      "1976# 672997845381865473\n",
      "1977# 672995267319328768\n"
     ]
    },
    {
     "name": "stdout",
     "output_type": "stream",
     "text": [
      "1978# 672988786805112832\n",
      "1979# 672984142909456390\n",
      "1980# 672980819271634944\n",
      "1981# 672975131468300288\n",
      "1982# 672970152493887488\n",
      "1983# 672968025906282496\n",
      "1984# 672964561327235073\n",
      "1985# 672902681409806336\n",
      "1986# 672898206762672129\n",
      "1987# 672884426393653248\n",
      "1988# 672877615439593473\n",
      "1989# 672834301050937345\n",
      "1990# 672828477930868736\n",
      "1991# 672640509974827008\n",
      "1992# 672622327801233409\n",
      "1993# 672614745925664768\n",
      "1994# 672609152938721280\n",
      "1995# 672604026190569472\n",
      "1996# 672594978741354496\n",
      "1997# 672591762242805761\n",
      "1998# 672591271085670400\n",
      "1999# 672538107540070400\n",
      "2000# 672523490734551040\n",
      "2001# 672488522314567680\n",
      "2002# 672482722825261057\n",
      "2003# 672481316919734272\n",
      "2004# 672475084225949696\n",
      "2005# 672466075045466113\n",
      "2006# 672272411274932228\n",
      "2007# 672267570918129665\n",
      "2008# 672264251789176834\n",
      "2009# 672256522047614977\n",
      "2010# 672254177670729728\n",
      "2011# 672248013293752320\n",
      "2012# 672245253877968896\n",
      "2013# 672239279297454080\n",
      "2014# 672231046314901505\n",
      "2015# 672222792075620352\n",
      "2016# 672205392827572224\n",
      "2017# 672169685991993344\n",
      "2018# 672160042234327040\n",
      "2019# 672139350159835138\n",
      "2020# 672125275208069120\n",
      "2021# 672095186491711488\n",
      "2022# 672082170312290304\n",
      "2023# 672068090318987265\n",
      "2024# 671896809300709376\n",
      "2025# 671891728106971137\n",
      "2026# 671882082306625538\n",
      "2027# 671879137494245376\n",
      "2028# 671874878652489728\n",
      "2029# 671866342182637568\n",
      "2030# 671855973984772097\n",
      "2031# 671789708968640512\n",
      "2032# 671768281401958400\n",
      "2033# 671763349865160704\n",
      "2034# 671744970634719232\n",
      "2035# 671743150407421952\n",
      "2036# 671735591348891648\n",
      "2037# 671729906628341761\n",
      "2038# 671561002136281088\n",
      "2039# 671550332464455680\n",
      "2040# 671547767500775424\n",
      "2041# 671544874165002241\n",
      "2042# 671542985629241344\n",
      "2043# 671538301157904385\n",
      "2044# 671536543010570240\n",
      "2045# 671533943490011136\n",
      "2046# 671528761649688577\n",
      "2047# 671520732782923777\n",
      "2048# 671518598289059840\n",
      "2049# 671511350426865664\n",
      "2050# 671504605491109889\n",
      "2051# 671497587707535361\n",
      "2052# 671488513339211776\n",
      "2053# 671486386088865792\n",
      "2054# 671485057807351808\n",
      "2055# 671390180817915904\n",
      "2056# 671362598324076544\n",
      "2057# 671357843010908160\n",
      "2058# 671355857343524864\n",
      "2059# 671347597085433856\n",
      "2060# 671186162933985280\n",
      "2061# 671182547775299584\n",
      "2062# 671166507850801152\n",
      "2063# 671163268581498880\n",
      "2064# 671159727754231808\n",
      "2065# 671154572044468225\n",
      "2066# 671151324042559489\n",
      "2067# 671147085991960577\n",
      "2068# 671141549288370177\n",
      "2069# 671138694582165504\n",
      "2070# 671134062904504320\n",
      "2071# 671122204919246848\n",
      "2072# 671115716440031232\n",
      "2073# 671109016219725825\n",
      "2074# 670995969505435648\n",
      "2075# 670842764863651840\n",
      "2076# 670840546554966016\n",
      "2077# 670838202509447168\n",
      "2078# 670833812859932673\n",
      "2079# 670832455012716544\n",
      "2080# 670826280409919488\n",
      "2081# 670823764196741120\n",
      "2082# 670822709593571328\n",
      "2083# 670815497391357952\n",
      "2084# 670811965569282048\n",
      "2085# 670807719151067136\n",
      "2086# 670804601705242624\n",
      "2087# 670803562457407488\n",
      "2088# 670797304698376195\n",
      "2089# 670792680469889025\n",
      "2090# 670789397210615808\n",
      "2091# 670786190031921152\n",
      "2092# 670783437142401025\n",
      "2093# 670782429121134593\n",
      "2094# 670780561024270336\n",
      "2095# 670778058496974848\n",
      "2096# 670764103623966721\n",
      "2097# 670755717859713024\n",
      "2098# 670733412878163972\n",
      "2099# 670727704916926465\n",
      "2100# 670717338665226240\n",
      "2101# 670704688707301377\n",
      "2102# 670691627984359425\n",
      "2103# 670679630144274432\n",
      "2104# 670676092097810432\n",
      "2105# 670668383499735048\n",
      "2106# 670474236058800128\n",
      "2107# 670468609693655041\n",
      "2108# 670465786746662913\n",
      "2109# 670452855871037440\n",
      "2110# 670449342516494336\n",
      "2111# 670444955656130560\n",
      "2112# 670442337873600512\n",
      "2113# 670435821946826752\n",
      "2114# 670434127938719744\n",
      "2115# 670433248821026816\n",
      "2116# 670428280563085312\n",
      "2117# 670427002554466305\n",
      "2118# 670421925039075328\n",
      "2119# 670420569653809152\n",
      "2120# 670417414769758208\n",
      "2121# 670411370698022913\n",
      "2122# 670408998013820928\n",
      "2123# 670403879788544000\n",
      "2124# 670385711116361728\n",
      "2125# 670374371102445568\n",
      "2126# 670361874861563904\n",
      "2127# 670338931251150849\n",
      "2128# 670319130621435904\n",
      "2129# 670303360680108032\n",
      "2130# 670290420111441920\n",
      "2131# 670093938074779648\n",
      "2132# 670086499208155136\n",
      "2133# 670079681849372674\n",
      "2134# 670073503555706880\n",
      "2135# 670069087419133954\n",
      "2136# 670061506722140161\n",
      "2137# 670055038660800512\n",
      "2138# 670046952931721218\n",
      "2139# 670040295598354432\n",
      "2140# 670037189829525505\n",
      "2141# 670003130994700288\n",
      "2142# 669993076832759809\n",
      "2143# 669972011175813120\n",
      "2144# 669970042633789440\n",
      "2145# 669942763794931712\n",
      "2146# 669926384437997569\n",
      "2147# 669923323644657664\n",
      "2148# 669753178989142016\n",
      "2149# 669749430875258880\n",
      "2150# 669684865554620416\n",
      "2151# 669683899023405056\n",
      "2152# 669682095984410625\n",
      "2153# 669680153564442624\n",
      "2154# 669661792646373376\n",
      "2155# 669625907762618368\n",
      "2156# 669603084620980224\n",
      "2157# 669597912108789760\n",
      "2158# 669583744538451968\n",
      "2159# 669573570759163904\n",
      "2160# 669571471778410496\n",
      "2161# 669567591774625800\n",
      "2162# 669564461267722241\n",
      "2163# 669393256313184256\n",
      "2164# 669375718304980992\n",
      "2165# 669371483794317312\n",
      "2166# 669367896104181761\n",
      "2167# 669363888236994561\n",
      "2168# 669359674819481600\n",
      "2169# 669354382627049472\n",
      "2170# 669353438988365824\n",
      "2171# 669351434509529089\n",
      "2172# 669328503091937280\n",
      "2173# 669327207240699904\n",
      "2174# 669324657376567296\n",
      "2175# 669216679721873412\n",
      "2176# 669214165781868544\n",
      "2177# 669203728096960512\n",
      "2178# 669037058363662336\n",
      "2179# 669015743032369152\n",
      "2180# 669006782128353280\n",
      "2181# 669000397445533696\n",
      "2182# 668994913074286592\n",
      "2183# 668992363537309700\n",
      "2184# 668989615043424256\n",
      "2185# 668988183816871936\n",
      "2186# 668986018524233728\n",
      "2187# 668981893510119424\n",
      "2188# 668979806671884288\n",
      "2189# 668975677807423489\n",
      "2190# 668967877119254528\n",
      "2191# 668960084974809088\n",
      "2192# 668955713004314625\n",
      "2193# 668932921458302977\n",
      "2194# 668902994700836864\n",
      "2195# 668892474547511297\n",
      "2196# 668872652652679168\n",
      "2197# 668852170888998912\n",
      "2198# 668826086256599040\n",
      "2199# 668815180734689280\n",
      "2200# 668779399630725120\n",
      "2201# 668655139528511488\n",
      "2202# 668645506898350081\n",
      "2203# 668643542311546881\n",
      "2204# 668641109086707712\n",
      "2205# 668636665813057536\n",
      "2206# 668633411083464705\n",
      "2207# 668631377374486528\n",
      "2208# 668627278264475648\n",
      "2209# 668625577880875008\n",
      "2210# 668623201287675904\n",
      "2211# 668620235289837568\n",
      "2212# 668614819948453888\n",
      "2213# 668587383441514497\n",
      "2214# 668567822092664832\n",
      "2215# 668544745690562560\n",
      "2216# 668542336805281792\n",
      "2217# 668537837512433665\n",
      "2218# 668528771708952576\n",
      "2219# 668507509523615744\n",
      "2220# 668496999348633600\n",
      "2221# 668484198282485761\n",
      "2222# 668480044826800133\n",
      "2223# 668466899341221888\n",
      "2224# 668297328638447616\n",
      "2225# 668291999406125056\n",
      "2226# 668286279830867968\n",
      "2227# 668274247790391296\n",
      "2228# 668268907921326080\n",
      "2229# 668256321989451776\n",
      "2230# 668248472370458624\n",
      "2231# 668237644992782336\n",
      "2232# 668226093875376128\n",
      "2233# 668221241640230912\n",
      "2234# 668204964695683073\n",
      "2235# 668190681446379520\n",
      "2236# 668171859951755264\n",
      "2237# 668154635664932864\n",
      "2238# 668142349051129856\n",
      "2239# 668113020489474048\n",
      "2240# 667937095915278337\n",
      "2241# 667924896115245057\n",
      "2242# 667915453470232577\n",
      "2243# 667911425562669056\n",
      "2244# 667902449697558528\n",
      "2245# 667886921285246976\n",
      "2246# 667885044254572545\n",
      "2247# 667878741721415682\n",
      "2248# 667873844930215936\n",
      "2249# 667866724293877760\n",
      "2250# 667861340749471744\n",
      "2251# 667832474953625600\n",
      "2252# 667806454573760512\n",
      "2253# 667801013445750784\n",
      "2254# 667793409583771648\n",
      "2255# 667782464991965184\n",
      "2256# 667773195014021121\n",
      "2257# 667766675769573376\n",
      "2258# 667728196545200128\n",
      "2259# 667724302356258817\n",
      "2260# 667550904950915073\n",
      "2261# 667550882905632768\n",
      "2262# 667549055577362432\n",
      "2263# 667546741521195010\n",
      "2264# 667544320556335104\n",
      "2265# 667538891197542400\n",
      "2266# 667534815156183040\n",
      "2267# 667530908589760512\n",
      "2268# 667524857454854144\n",
      "2269# 667517642048163840\n",
      "2270# 667509364010450944\n",
      "2271# 667502640335572993\n",
      "2272# 667495797102141441\n",
      "2273# 667491009379606528\n",
      "2274# 667470559035432960\n",
      "2275# 667455448082227200\n",
      "2276# 667453023279554560\n",
      "2277# 667443425659232256\n",
      "2278# 667437278097252352\n",
      "2279# 667435689202614272\n",
      "2280# 667405339315146752\n",
      "2281# 667393430834667520\n",
      "2282# 667369227918143488\n",
      "2283# 667211855547486208\n",
      "2284# 667200525029539841\n",
      "2285# 667192066997374976\n",
      "2286# 667188689915760640\n",
      "2287# 667182792070062081\n",
      "2288# 667177989038297088\n",
      "2289# 667176164155375616\n",
      "2290# 667174963120574464\n",
      "2291# 667171260800061440\n",
      "2292# 667165590075940865\n",
      "2293# 667160273090932737\n",
      "2294# 667152164079423490\n",
      "2295# 667138269671505920\n",
      "2296# 667119796878725120\n",
      "2297# 667090893657276420\n",
      "2298# 667073648344346624\n",
      "2299# 667070482143944705\n",
      "2300# 667065535570550784\n",
      "2301# 667062181243039745\n",
      "2302# 667044094246576128\n",
      "2303# 667012601033924608\n",
      "2304# 666996132027977728\n",
      "2305# 666983947667116034\n"
     ]
    },
    {
     "name": "stdout",
     "output_type": "stream",
     "text": [
      "2306# 666837028449972224\n",
      "2307# 666835007768551424\n",
      "2308# 666826780179869698\n",
      "2309# 666817836334096384\n",
      "2310# 666804364988780544\n",
      "2311# 666786068205871104\n",
      "2312# 666781792255496192\n",
      "2313# 666776908487630848\n",
      "2314# 666739327293083650\n",
      "2315# 666701168228331520\n",
      "2316# 666691418707132416\n",
      "2317# 666649482315059201\n",
      "2318# 666644823164719104\n",
      "2319# 666454714377183233\n",
      "2320# 666447344410484738\n",
      "2321# 666437273139982337\n",
      "2322# 666435652385423360\n",
      "2323# 666430724426358785\n",
      "2324# 666428276349472768\n",
      "2325# 666421158376562688\n",
      "2326# 666418789513326592\n",
      "2327# 666411507551481857\n",
      "2328# 666407126856765440\n",
      "2329# 666396247373291520\n",
      "2330# 666373753744588802\n",
      "2331# 666362758909284353\n",
      "2332# 666353288456101888\n",
      "2333# 666345417576210432\n",
      "2334# 666337882303524864\n",
      "2335# 666293911632134144\n",
      "2336# 666287406224695296\n",
      "2337# 666273097616637952\n",
      "2338# 666268910803644416\n",
      "2339# 666104133288665088\n",
      "2340# 666102155909144576\n",
      "2341# 666099513787052032\n",
      "2342# 666094000022159362\n",
      "2343# 666082916733198337\n",
      "2344# 666073100786774016\n",
      "2345# 666071193221509120\n",
      "2346# 666063827256086533\n",
      "2347# 666058600524156928\n",
      "2348# 666057090499244032\n",
      "2349# 666055525042405380\n",
      "2350# 666051853826850816\n",
      "2351# 666050758794694657\n",
      "2352# 666049248165822465\n",
      "2353# 666044226329800704\n",
      "2354# 666033412701032449\n",
      "2355# 666029285002620928\n",
      "2356# 666020888022790149\n",
      "Valid tweets: 2339\n",
      "Error tweets: 17\n",
      "0.034820335149765014\n"
     ]
    }
   ],
   "source": [
    "# Using the tweet IDs in the Twitter archive, query the Twitter API for each tweet's JSON\n",
    "\n",
    "start = time.time() # start timer\n",
    "\n",
    "with open('getstatus_error.txt', 'w') as errfile: \n",
    "    valid_ids = 0\n",
    "    err_ids = 0\n",
    "    tweet_ids = arch_df.tweet_id\n",
    "    with open('tweet_json.txt', 'w', encoding='utf-8') as outfile:\n",
    "        for i, tweet_id in tweet_ids.iteritems():\n",
    "            try:\n",
    "                print(\"%s# %s\" % (str(i+1), tweet_id))\n",
    "                # Get tweet data using Twitter API\n",
    "                tweet = api.get_status(tweet_id, tweet_mode='extended')\n",
    "                json_content = tweet._json\n",
    "                \n",
    "                # Write each tweet's JSON data to its own line in a file\n",
    "                json.dump(json_content, outfile)\n",
    "                outfile.write('\\n')\n",
    "                valid_ids += 1\n",
    "            except tweepy.TweepError as e:\n",
    "                err_ids += 1\n",
    "                err_str = []\n",
    "                err_str.append(str(tweet_id))\n",
    "                err_str.append(': ')\n",
    "                err_str.append(e.response.json()['errors'][0]['message'])\n",
    "                err_str.append('\\n')\n",
    "                errfile.write(''.join(err_str))\n",
    "                print(''.join(err_str))\n",
    "                continue\n",
    "        print(\"%s %s\" % ('Valid tweets:', valid_ids))\n",
    "        print(\"%s %s\" % ('Error tweets:', err_ids))\n",
    "        \n",
    "end = time.time() # end timer\n",
    "print((end - start)/(1000*60))"
   ]
  },
  {
   "cell_type": "code",
   "execution_count": 23,
   "metadata": {},
   "outputs": [],
   "source": [
    "# List of dictionaries to read tweet's JSON data line by line and later convert to a DataFrame\n",
    "df_list = []\n",
    "with open('tweet_json.txt', 'r') as json_file:\n",
    "    for line in json_file:\n",
    "        status = json.loads(line)\n",
    "        \n",
    "        # Append to list of dictionaries\n",
    "        df_list.append({'tweet_id': status['id'],\n",
    "                        'retweet_count': status['retweet_count'],\n",
    "                        'favorite_count': status['favorite_count'],\n",
    "                        'display_text_range': status['display_text_range']\n",
    "                       })\n",
    "\n",
    "# Create a DataFrame with tweet ID, retweet count, favorite count and display_text_range\n",
    "status_df = pd.DataFrame(df_list, columns = ['tweet_id', 'retweet_count', 'favorite_count', 'display_text_range'])"
   ]
  },
  {
   "cell_type": "markdown",
   "metadata": {},
   "source": [
    "- ### Programmatic Assessment of data source 3"
   ]
  },
  {
   "cell_type": "code",
   "execution_count": 24,
   "metadata": {},
   "outputs": [],
   "source": [
    "# Save masater data of status_df\n",
    "status_df.to_csv('status_df.csv', encoding='utf-8', index=False)"
   ]
  },
  {
   "cell_type": "code",
   "execution_count": 25,
   "metadata": {},
   "outputs": [
    {
     "name": "stdout",
     "output_type": "stream",
     "text": [
      "<class 'pandas.core.frame.DataFrame'>\n",
      "RangeIndex: 2339 entries, 0 to 2338\n",
      "Data columns (total 4 columns):\n",
      "tweet_id              2339 non-null int64\n",
      "retweet_count         2339 non-null int64\n",
      "favorite_count        2339 non-null int64\n",
      "display_text_range    2339 non-null object\n",
      "dtypes: int64(3), object(1)\n",
      "memory usage: 73.2+ KB\n"
     ]
    }
   ],
   "source": [
    "status_df.info()"
   ]
  },
  {
   "cell_type": "code",
   "execution_count": 26,
   "metadata": {},
   "outputs": [
    {
     "data": {
      "text/html": [
       "<div>\n",
       "<style scoped>\n",
       "    .dataframe tbody tr th:only-of-type {\n",
       "        vertical-align: middle;\n",
       "    }\n",
       "\n",
       "    .dataframe tbody tr th {\n",
       "        vertical-align: top;\n",
       "    }\n",
       "\n",
       "    .dataframe thead th {\n",
       "        text-align: right;\n",
       "    }\n",
       "</style>\n",
       "<table border=\"1\" class=\"dataframe\">\n",
       "  <thead>\n",
       "    <tr style=\"text-align: right;\">\n",
       "      <th></th>\n",
       "      <th>tweet_id</th>\n",
       "      <th>retweet_count</th>\n",
       "      <th>favorite_count</th>\n",
       "      <th>display_text_range</th>\n",
       "    </tr>\n",
       "  </thead>\n",
       "  <tbody>\n",
       "    <tr>\n",
       "      <th>672</th>\n",
       "      <td>788150585577050112</td>\n",
       "      <td>1421</td>\n",
       "      <td>6538</td>\n",
       "      <td>[0, 80]</td>\n",
       "    </tr>\n",
       "    <tr>\n",
       "      <th>1752</th>\n",
       "      <td>678380236862578688</td>\n",
       "      <td>961</td>\n",
       "      <td>2527</td>\n",
       "      <td>[0, 94]</td>\n",
       "    </tr>\n",
       "    <tr>\n",
       "      <th>1332</th>\n",
       "      <td>704347321748819968</td>\n",
       "      <td>367</td>\n",
       "      <td>1654</td>\n",
       "      <td>[0, 139]</td>\n",
       "    </tr>\n",
       "  </tbody>\n",
       "</table>\n",
       "</div>"
      ],
      "text/plain": [
       "                tweet_id  retweet_count  favorite_count display_text_range\n",
       "672   788150585577050112           1421            6538            [0, 80]\n",
       "1752  678380236862578688            961            2527            [0, 94]\n",
       "1332  704347321748819968            367            1654           [0, 139]"
      ]
     },
     "execution_count": 26,
     "metadata": {},
     "output_type": "execute_result"
    }
   ],
   "source": [
    "status_df.sample(3)"
   ]
  },
  {
   "cell_type": "code",
   "execution_count": 27,
   "metadata": {},
   "outputs": [
    {
     "data": {
      "text/html": [
       "<div>\n",
       "<style scoped>\n",
       "    .dataframe tbody tr th:only-of-type {\n",
       "        vertical-align: middle;\n",
       "    }\n",
       "\n",
       "    .dataframe tbody tr th {\n",
       "        vertical-align: top;\n",
       "    }\n",
       "\n",
       "    .dataframe thead th {\n",
       "        text-align: right;\n",
       "    }\n",
       "</style>\n",
       "<table border=\"1\" class=\"dataframe\">\n",
       "  <thead>\n",
       "    <tr style=\"text-align: right;\">\n",
       "      <th></th>\n",
       "      <th>tweet_id</th>\n",
       "      <th>jpg_url</th>\n",
       "      <th>img_num</th>\n",
       "      <th>p1</th>\n",
       "      <th>p1_conf</th>\n",
       "      <th>p1_dog</th>\n",
       "      <th>p2</th>\n",
       "      <th>p2_conf</th>\n",
       "      <th>p2_dog</th>\n",
       "      <th>p3</th>\n",
       "      <th>p3_conf</th>\n",
       "      <th>p3_dog</th>\n",
       "    </tr>\n",
       "  </thead>\n",
       "  <tbody>\n",
       "    <tr>\n",
       "      <th>432</th>\n",
       "      <td>674291837063053312</td>\n",
       "      <td>https://pbs.twimg.com/media/CVuQ2LeUsAAIe3s.jpg</td>\n",
       "      <td>1</td>\n",
       "      <td>Cardigan</td>\n",
       "      <td>0.611525</td>\n",
       "      <td>True</td>\n",
       "      <td>Pembroke</td>\n",
       "      <td>0.368566</td>\n",
       "      <td>True</td>\n",
       "      <td>Chihuahua</td>\n",
       "      <td>0.003330</td>\n",
       "      <td>True</td>\n",
       "    </tr>\n",
       "    <tr>\n",
       "      <th>1738</th>\n",
       "      <td>822244816520155136</td>\n",
       "      <td>https://pbs.twimg.com/media/C2kzTGxWEAEOpPL.jpg</td>\n",
       "      <td>1</td>\n",
       "      <td>Samoyed</td>\n",
       "      <td>0.585441</td>\n",
       "      <td>True</td>\n",
       "      <td>Pomeranian</td>\n",
       "      <td>0.193654</td>\n",
       "      <td>True</td>\n",
       "      <td>Arctic_fox</td>\n",
       "      <td>0.071648</td>\n",
       "      <td>False</td>\n",
       "    </tr>\n",
       "    <tr>\n",
       "      <th>329</th>\n",
       "      <td>672082170312290304</td>\n",
       "      <td>https://pbs.twimg.com/media/CVO3KodXAAAj1de.jpg</td>\n",
       "      <td>1</td>\n",
       "      <td>hamster</td>\n",
       "      <td>0.132440</td>\n",
       "      <td>False</td>\n",
       "      <td>toy_poodle</td>\n",
       "      <td>0.123962</td>\n",
       "      <td>True</td>\n",
       "      <td>bubble</td>\n",
       "      <td>0.056212</td>\n",
       "      <td>False</td>\n",
       "    </tr>\n",
       "  </tbody>\n",
       "</table>\n",
       "</div>"
      ],
      "text/plain": [
       "                tweet_id                                          jpg_url  \\\n",
       "432   674291837063053312  https://pbs.twimg.com/media/CVuQ2LeUsAAIe3s.jpg   \n",
       "1738  822244816520155136  https://pbs.twimg.com/media/C2kzTGxWEAEOpPL.jpg   \n",
       "329   672082170312290304  https://pbs.twimg.com/media/CVO3KodXAAAj1de.jpg   \n",
       "\n",
       "      img_num        p1   p1_conf  p1_dog          p2   p2_conf  p2_dog  \\\n",
       "432         1  Cardigan  0.611525    True    Pembroke  0.368566    True   \n",
       "1738        1   Samoyed  0.585441    True  Pomeranian  0.193654    True   \n",
       "329         1   hamster  0.132440   False  toy_poodle  0.123962    True   \n",
       "\n",
       "              p3   p3_conf  p3_dog  \n",
       "432    Chihuahua  0.003330    True  \n",
       "1738  Arctic_fox  0.071648   False  \n",
       "329       bubble  0.056212   False  "
      ]
     },
     "execution_count": 27,
     "metadata": {},
     "output_type": "execute_result"
    }
   ],
   "source": [
    "image_df.sample(3)"
   ]
  },
  {
   "cell_type": "code",
   "execution_count": 28,
   "metadata": {},
   "outputs": [
    {
     "data": {
      "text/html": [
       "<div>\n",
       "<style scoped>\n",
       "    .dataframe tbody tr th:only-of-type {\n",
       "        vertical-align: middle;\n",
       "    }\n",
       "\n",
       "    .dataframe tbody tr th {\n",
       "        vertical-align: top;\n",
       "    }\n",
       "\n",
       "    .dataframe thead th {\n",
       "        text-align: right;\n",
       "    }\n",
       "</style>\n",
       "<table border=\"1\" class=\"dataframe\">\n",
       "  <thead>\n",
       "    <tr style=\"text-align: right;\">\n",
       "      <th></th>\n",
       "      <th>tweet_id</th>\n",
       "      <th>retweet_count</th>\n",
       "      <th>favorite_count</th>\n",
       "      <th>display_text_range</th>\n",
       "    </tr>\n",
       "  </thead>\n",
       "  <tbody>\n",
       "    <tr>\n",
       "      <th>313</th>\n",
       "      <td>834089966724603904</td>\n",
       "      <td>2268</td>\n",
       "      <td>10500</td>\n",
       "      <td>[0, 52]</td>\n",
       "    </tr>\n",
       "    <tr>\n",
       "      <th>1162</th>\n",
       "      <td>719551379208073216</td>\n",
       "      <td>2032</td>\n",
       "      <td>5240</td>\n",
       "      <td>[0, 118]</td>\n",
       "    </tr>\n",
       "    <tr>\n",
       "      <th>164</th>\n",
       "      <td>858860390427611136</td>\n",
       "      <td>8250</td>\n",
       "      <td>0</td>\n",
       "      <td>[0, 140]</td>\n",
       "    </tr>\n",
       "  </tbody>\n",
       "</table>\n",
       "</div>"
      ],
      "text/plain": [
       "                tweet_id  retweet_count  favorite_count display_text_range\n",
       "313   834089966724603904           2268           10500            [0, 52]\n",
       "1162  719551379208073216           2032            5240           [0, 118]\n",
       "164   858860390427611136           8250               0           [0, 140]"
      ]
     },
     "execution_count": 28,
     "metadata": {},
     "output_type": "execute_result"
    }
   ],
   "source": [
    "status_df.sample(3)"
   ]
  },
  {
   "cell_type": "code",
   "execution_count": 29,
   "metadata": {},
   "outputs": [
    {
     "name": "stdout",
     "output_type": "stream",
     "text": [
      "<class 'pandas.core.frame.DataFrame'>\n",
      "RangeIndex: 2339 entries, 0 to 2338\n",
      "Data columns (total 4 columns):\n",
      "tweet_id              2339 non-null int64\n",
      "retweet_count         2339 non-null int64\n",
      "favorite_count        2339 non-null int64\n",
      "display_text_range    2339 non-null object\n",
      "dtypes: int64(3), object(1)\n",
      "memory usage: 73.2+ KB\n"
     ]
    }
   ],
   "source": [
    "status_df.info()"
   ]
  },
  {
   "cell_type": "markdown",
   "metadata": {},
   "source": [
    "#### status_df (tweet status) columns:\n",
    "- **tweet_id**: the unique identifier for each tweet\n",
    "- **retweet_count**: number of times this Tweet has been retweeted\n",
    "- **favorite_count**: indicates approximately how many times this Tweet has been liked by Twitter users\n",
    "- **display_text_range**: an array of two unicode code point indices, identifying the inclusive start and exclusive end of the displayable content of the Tweet"
   ]
  },
  {
   "cell_type": "markdown",
   "metadata": {},
   "source": [
    "- ### Issue Found (Quality and Tidiness) of data source 3"
   ]
  },
  {
   "cell_type": "markdown",
   "metadata": {},
   "source": [
    "### Quality\n",
    "#### arch_df (Twitter archive) table\n",
    "- Incorrect datatype of **tweet_ID**.\n",
    "- Incorrect datatype of **in_reply_to_status_id,in_reply_to_user_id**\n",
    "- contains retweets, as we only want original ratings (no retweets).So the retweets shouldn't be there\n",
    "- duplicates many tweet_id(s) of arch_df table, in which they are missing in image_df (image predictions) table. We only want ratings with images. But not all ratings have images.\n",
    "- erroneous datatypes (in_reply_to_status_id, in_reply_to_user_id and timestamp columns) for timestamp\n",
    "- unnecessary html tags in source column in place of utility name e.g. <a href=\"\"http://twitter.com/download/iphone\"\" rel=\"\"nofollow\"\">Twitter for iPhone</a>\n",
    "- text column contains untruncated text instead of displayable text\n",
    "- rating_numerator column has values less than 10 as well as some very large numbers (e.g. 1176)\n",
    "- rating_denominator column has values other than 10\n",
    "- erroneous dog names starting with lowercase characters (e.g. a, an, actually, by)\n",
    "- some records have more than one dog stage\n",
    "- nulls represented as 'None' in columns 'name', 'doggo', 'floofer', 'pupper','puppo'.\n",
    "- some dog names are not correct."
   ]
  },
  {
   "cell_type": "markdown",
   "metadata": {},
   "source": [
    "### Cleaning for arch_df table"
   ]
  },
  {
   "cell_type": "code",
   "execution_count": 30,
   "metadata": {},
   "outputs": [
    {
     "data": {
      "text/plain": [
       "181"
      ]
     },
     "execution_count": 30,
     "metadata": {},
     "output_type": "execute_result"
    }
   ],
   "source": [
    "# Count of retweet status id\n",
    "len(arch_df[arch_df.retweeted_status_id.isnull() == False])"
   ]
  },
  {
   "cell_type": "code",
   "execution_count": 31,
   "metadata": {},
   "outputs": [],
   "source": [
    "# Duplicate arch_df for cleaning\n",
    "arch_clean = arch_df.copy()"
   ]
  },
  {
   "cell_type": "markdown",
   "metadata": {},
   "source": [
    "### Issue 1 "
   ]
  },
  {
   "cell_type": "markdown",
   "metadata": {},
   "source": [
    "### **Define** \n",
    "#### 1) Keep original tweets and remove retweets at arch_clean dateframe"
   ]
  },
  {
   "cell_type": "markdown",
   "metadata": {},
   "source": [
    "### Code"
   ]
  },
  {
   "cell_type": "code",
   "execution_count": 32,
   "metadata": {},
   "outputs": [],
   "source": [
    "arch_clean = arch_clean[arch_clean.retweeted_status_id.isnull()]"
   ]
  },
  {
   "cell_type": "markdown",
   "metadata": {},
   "source": [
    "### Test"
   ]
  },
  {
   "cell_type": "code",
   "execution_count": 33,
   "metadata": {},
   "outputs": [
    {
     "data": {
      "text/plain": [
       "0"
      ]
     },
     "execution_count": 33,
     "metadata": {},
     "output_type": "execute_result"
    }
   ],
   "source": [
    "#Checking\n",
    "len(arch_clean[arch_clean.retweeted_status_id.isnull() == False])"
   ]
  },
  {
   "cell_type": "markdown",
   "metadata": {},
   "source": [
    "### **Define** \n",
    "#### 2) Keep those tweet_id records in arc_df table where they are also existed in image_df table"
   ]
  },
  {
   "cell_type": "markdown",
   "metadata": {},
   "source": [
    "### Code"
   ]
  },
  {
   "cell_type": "code",
   "execution_count": 34,
   "metadata": {},
   "outputs": [],
   "source": [
    "arch_clean = arch_clean[arch_clean.tweet_id.isin(image_df.tweet_id)]"
   ]
  },
  {
   "cell_type": "markdown",
   "metadata": {},
   "source": [
    "### Test"
   ]
  },
  {
   "cell_type": "code",
   "execution_count": 35,
   "metadata": {
    "scrolled": true
   },
   "outputs": [
    {
     "data": {
      "text/plain": [
       "0"
      ]
     },
     "execution_count": 35,
     "metadata": {},
     "output_type": "execute_result"
    }
   ],
   "source": [
    "#Checking\n",
    "len(arch_clean[~arch_clean.tweet_id.isin(image_df.tweet_id)])"
   ]
  },
  {
   "cell_type": "markdown",
   "metadata": {},
   "source": [
    "### Tidiness"
   ]
  },
  {
   "cell_type": "markdown",
   "metadata": {},
   "source": [
    "- **arch_df** remove any duplicates **retweeted_status_id**, **retweeted_status_user_id** and **retweeted_status_timestamp** columns.\n",
    "- **doggo**, **floofer**, **pupper** and **puppo** columns in **arch_df** table could be merged into one column named as **stage**.\n",
    "- **breed** column could be added in **arc_df** table as its values based on **p1_conf** and **p1_dog** columns of **image_df** (image predictions) table.\n",
    "- **retweet_count** and **favorite_count** columns from **status_df** (tweet status) table should be joined with **arch_df** table"
   ]
  },
  {
   "cell_type": "code",
   "execution_count": 36,
   "metadata": {},
   "outputs": [
    {
     "name": "stdout",
     "output_type": "stream",
     "text": [
      "<class 'pandas.core.frame.DataFrame'>\n",
      "Int64Index: 1994 entries, 0 to 2355\n",
      "Data columns (total 17 columns):\n",
      "tweet_id                      1994 non-null int64\n",
      "in_reply_to_status_id         23 non-null float64\n",
      "in_reply_to_user_id           23 non-null float64\n",
      "timestamp                     1994 non-null object\n",
      "source                        1994 non-null object\n",
      "text                          1994 non-null object\n",
      "retweeted_status_id           0 non-null float64\n",
      "retweeted_status_user_id      0 non-null float64\n",
      "retweeted_status_timestamp    0 non-null object\n",
      "expanded_urls                 1994 non-null object\n",
      "rating_numerator              1994 non-null int64\n",
      "rating_denominator            1994 non-null int64\n",
      "name                          1994 non-null object\n",
      "doggo                         1994 non-null object\n",
      "floofer                       1994 non-null object\n",
      "pupper                        1994 non-null object\n",
      "puppo                         1994 non-null object\n",
      "dtypes: float64(4), int64(3), object(10)\n",
      "memory usage: 280.4+ KB\n"
     ]
    }
   ],
   "source": [
    "arch_clean.info()"
   ]
  },
  {
   "cell_type": "markdown",
   "metadata": {},
   "source": [
    "### Define\n",
    "#### 1) Drop retweeted_status_id, retweeted_status_user_id and retweeted_status_timestamp columns from arc_df table"
   ]
  },
  {
   "cell_type": "markdown",
   "metadata": {},
   "source": [
    "### Code"
   ]
  },
  {
   "cell_type": "code",
   "execution_count": 37,
   "metadata": {},
   "outputs": [],
   "source": [
    "#Remove three columns \"retweeted_status_id', 'retweeted_status_user_id', 'retweeted_status_timestamp'\n",
    "arch_clean.drop(['retweeted_status_id', 'retweeted_status_user_id', 'retweeted_status_timestamp'], axis=1, inplace=True)"
   ]
  },
  {
   "cell_type": "markdown",
   "metadata": {},
   "source": [
    "### Test"
   ]
  },
  {
   "cell_type": "code",
   "execution_count": 38,
   "metadata": {},
   "outputs": [
    {
     "name": "stdout",
     "output_type": "stream",
     "text": [
      "<class 'pandas.core.frame.DataFrame'>\n",
      "Int64Index: 1994 entries, 0 to 2355\n",
      "Data columns (total 14 columns):\n",
      "tweet_id                 1994 non-null int64\n",
      "in_reply_to_status_id    23 non-null float64\n",
      "in_reply_to_user_id      23 non-null float64\n",
      "timestamp                1994 non-null object\n",
      "source                   1994 non-null object\n",
      "text                     1994 non-null object\n",
      "expanded_urls            1994 non-null object\n",
      "rating_numerator         1994 non-null int64\n",
      "rating_denominator       1994 non-null int64\n",
      "name                     1994 non-null object\n",
      "doggo                    1994 non-null object\n",
      "floofer                  1994 non-null object\n",
      "pupper                   1994 non-null object\n",
      "puppo                    1994 non-null object\n",
      "dtypes: float64(2), int64(3), object(9)\n",
      "memory usage: 233.7+ KB\n"
     ]
    }
   ],
   "source": [
    "#Checking\n",
    "arch_clean.info()"
   ]
  },
  {
   "cell_type": "markdown",
   "metadata": {},
   "source": [
    "### Quality"
   ]
  },
  {
   "cell_type": "markdown",
   "metadata": {},
   "source": [
    "### Define\n",
    "#### 1) Convert **in_reply_to_status_id** and **in_reply_to_user_id** to **integer  data type**. Convert **timestamp** to **datetime data type**"
   ]
  },
  {
   "cell_type": "markdown",
   "metadata": {},
   "source": [
    "### Code"
   ]
  },
  {
   "cell_type": "code",
   "execution_count": 39,
   "metadata": {},
   "outputs": [],
   "source": [
    "#Replace all NaN elements with 0\n",
    "arch_clean.in_reply_to_status_id = arch_clean.in_reply_to_status_id.fillna(0)\n",
    "arch_clean.in_reply_to_user_id = arch_clean.in_reply_to_user_id.fillna(0)\n",
    "#Convert float64 column to int64\n",
    "arch_clean.in_reply_to_status_id = arch_clean.in_reply_to_status_id.astype(np.int64)\n",
    "arch_clean.in_reply_to_user_id = arch_clean.in_reply_to_user_id.astype(np.int64)\n",
    "#Convert pandas column to datetime\n",
    "arch_clean.timestamp = pd.to_datetime(arch_clean.timestamp)"
   ]
  },
  {
   "cell_type": "markdown",
   "metadata": {},
   "source": [
    "### Test"
   ]
  },
  {
   "cell_type": "code",
   "execution_count": 40,
   "metadata": {},
   "outputs": [
    {
     "name": "stdout",
     "output_type": "stream",
     "text": [
      "<class 'pandas.core.frame.DataFrame'>\n",
      "Int64Index: 1994 entries, 0 to 2355\n",
      "Data columns (total 14 columns):\n",
      "tweet_id                 1994 non-null int64\n",
      "in_reply_to_status_id    1994 non-null int64\n",
      "in_reply_to_user_id      1994 non-null int64\n",
      "timestamp                1994 non-null datetime64[ns]\n",
      "source                   1994 non-null object\n",
      "text                     1994 non-null object\n",
      "expanded_urls            1994 non-null object\n",
      "rating_numerator         1994 non-null int64\n",
      "rating_denominator       1994 non-null int64\n",
      "name                     1994 non-null object\n",
      "doggo                    1994 non-null object\n",
      "floofer                  1994 non-null object\n",
      "pupper                   1994 non-null object\n",
      "puppo                    1994 non-null object\n",
      "dtypes: datetime64[ns](1), int64(5), object(8)\n",
      "memory usage: 233.7+ KB\n"
     ]
    }
   ],
   "source": [
    "#Checking\n",
    "arch_clean.info()"
   ]
  },
  {
   "cell_type": "markdown",
   "metadata": {},
   "source": [
    "### Define\n",
    "#### 2) Remove all html anchor tags (i.e. <a..></a>) in source column and retain the text in between the tags. Convert source column from string to category."
   ]
  },
  {
   "cell_type": "markdown",
   "metadata": {},
   "source": [
    "### Code"
   ]
  },
  {
   "cell_type": "code",
   "execution_count": 41,
   "metadata": {},
   "outputs": [],
   "source": [
    "#remove html anchor tags\n",
    "arch_clean.source = arch_clean.source.str.replace(r'<(?:a\\b[^>]*>|/a>)', '')"
   ]
  },
  {
   "cell_type": "code",
   "execution_count": 42,
   "metadata": {},
   "outputs": [],
   "source": [
    "#convert source column from object to category.\n",
    "arch_clean.source = arch_clean.source.astype('category')"
   ]
  },
  {
   "cell_type": "markdown",
   "metadata": {},
   "source": [
    "### Test"
   ]
  },
  {
   "cell_type": "code",
   "execution_count": 43,
   "metadata": {},
   "outputs": [
    {
     "data": {
      "text/plain": [
       "Twitter for iPhone    1955\n",
       "Twitter Web Client      28\n",
       "TweetDeck               11\n",
       "Name: source, dtype: int64"
      ]
     },
     "execution_count": 43,
     "metadata": {},
     "output_type": "execute_result"
    }
   ],
   "source": [
    "#Checking\n",
    "arch_clean.source.value_counts()"
   ]
  },
  {
   "cell_type": "code",
   "execution_count": 44,
   "metadata": {},
   "outputs": [
    {
     "data": {
      "text/html": [
       "<div>\n",
       "<style scoped>\n",
       "    .dataframe tbody tr th:only-of-type {\n",
       "        vertical-align: middle;\n",
       "    }\n",
       "\n",
       "    .dataframe tbody tr th {\n",
       "        vertical-align: top;\n",
       "    }\n",
       "\n",
       "    .dataframe thead th {\n",
       "        text-align: right;\n",
       "    }\n",
       "</style>\n",
       "<table border=\"1\" class=\"dataframe\">\n",
       "  <thead>\n",
       "    <tr style=\"text-align: right;\">\n",
       "      <th></th>\n",
       "      <th>tweet_id</th>\n",
       "      <th>in_reply_to_status_id</th>\n",
       "      <th>in_reply_to_user_id</th>\n",
       "      <th>timestamp</th>\n",
       "      <th>source</th>\n",
       "      <th>text</th>\n",
       "      <th>expanded_urls</th>\n",
       "      <th>rating_numerator</th>\n",
       "      <th>rating_denominator</th>\n",
       "      <th>name</th>\n",
       "      <th>doggo</th>\n",
       "      <th>floofer</th>\n",
       "      <th>pupper</th>\n",
       "      <th>puppo</th>\n",
       "    </tr>\n",
       "  </thead>\n",
       "  <tbody>\n",
       "    <tr>\n",
       "      <th>1363</th>\n",
       "      <td>702932127499816960</td>\n",
       "      <td>0</td>\n",
       "      <td>0</td>\n",
       "      <td>2016-02-25 19:04:13</td>\n",
       "      <td>Twitter for iPhone</td>\n",
       "      <td>This is Chip. He's an Upper West Nile Pantaloo...</td>\n",
       "      <td>https://twitter.com/dog_rates/status/702932127...</td>\n",
       "      <td>6</td>\n",
       "      <td>10</td>\n",
       "      <td>Chip</td>\n",
       "      <td>None</td>\n",
       "      <td>None</td>\n",
       "      <td>None</td>\n",
       "      <td>None</td>\n",
       "    </tr>\n",
       "    <tr>\n",
       "      <th>1388</th>\n",
       "      <td>700462010979500032</td>\n",
       "      <td>0</td>\n",
       "      <td>0</td>\n",
       "      <td>2016-02-18 23:28:52</td>\n",
       "      <td>Twitter for iPhone</td>\n",
       "      <td>This is Murphy. He's a mini golden retriever. ...</td>\n",
       "      <td>https://twitter.com/dog_rates/status/700462010...</td>\n",
       "      <td>6</td>\n",
       "      <td>10</td>\n",
       "      <td>Murphy</td>\n",
       "      <td>None</td>\n",
       "      <td>None</td>\n",
       "      <td>None</td>\n",
       "      <td>None</td>\n",
       "    </tr>\n",
       "    <tr>\n",
       "      <th>390</th>\n",
       "      <td>826240494070030336</td>\n",
       "      <td>0</td>\n",
       "      <td>0</td>\n",
       "      <td>2017-01-31 01:27:39</td>\n",
       "      <td>Twitter for iPhone</td>\n",
       "      <td>We only rate dogs. Please don't send in any mo...</td>\n",
       "      <td>https://twitter.com/dog_rates/status/826240494...</td>\n",
       "      <td>11</td>\n",
       "      <td>10</td>\n",
       "      <td>None</td>\n",
       "      <td>None</td>\n",
       "      <td>None</td>\n",
       "      <td>None</td>\n",
       "      <td>None</td>\n",
       "    </tr>\n",
       "  </tbody>\n",
       "</table>\n",
       "</div>"
      ],
      "text/plain": [
       "                tweet_id  in_reply_to_status_id  in_reply_to_user_id  \\\n",
       "1363  702932127499816960                      0                    0   \n",
       "1388  700462010979500032                      0                    0   \n",
       "390   826240494070030336                      0                    0   \n",
       "\n",
       "               timestamp              source  \\\n",
       "1363 2016-02-25 19:04:13  Twitter for iPhone   \n",
       "1388 2016-02-18 23:28:52  Twitter for iPhone   \n",
       "390  2017-01-31 01:27:39  Twitter for iPhone   \n",
       "\n",
       "                                                   text  \\\n",
       "1363  This is Chip. He's an Upper West Nile Pantaloo...   \n",
       "1388  This is Murphy. He's a mini golden retriever. ...   \n",
       "390   We only rate dogs. Please don't send in any mo...   \n",
       "\n",
       "                                          expanded_urls  rating_numerator  \\\n",
       "1363  https://twitter.com/dog_rates/status/702932127...                 6   \n",
       "1388  https://twitter.com/dog_rates/status/700462010...                 6   \n",
       "390   https://twitter.com/dog_rates/status/826240494...                11   \n",
       "\n",
       "      rating_denominator    name doggo floofer pupper puppo  \n",
       "1363                  10    Chip  None    None   None  None  \n",
       "1388                  10  Murphy  None    None   None  None  \n",
       "390                   10    None  None    None   None  None  "
      ]
     },
     "execution_count": 44,
     "metadata": {},
     "output_type": "execute_result"
    }
   ],
   "source": [
    "arch_clean.sample(3)"
   ]
  },
  {
   "cell_type": "markdown",
   "metadata": {},
   "source": [
    "### Define\n",
    "#### 3) At status_df table, extract displayable text from text column"
   ]
  },
  {
   "cell_type": "code",
   "execution_count": 45,
   "metadata": {},
   "outputs": [
    {
     "name": "stdout",
     "output_type": "stream",
     "text": [
      "This is Phineas. He's a mystical boy. Only ever appears in the hole of a donut. 13/10 https://t.co/MgUWQ76dJU\n",
      "This is Tilly. She's just checking pup on you. Hopes you're doing ok. If not, she's available for pats, snugs, boops, the whole bit. 13/10 https://t.co/0Xxu71qeIV\n",
      "This is Archie. He is a rare Norwegian Pouncing Corgo. Lives in the tall grass. You never know when one may strike. 12/10 https://t.co/wUnZnhtVJB\n"
     ]
    }
   ],
   "source": [
    "# Before extraction: untruncated text of first 3 records\n",
    "print(arch_clean.iloc[0].text)\n",
    "print(arch_clean.iloc[1].text)\n",
    "print(arch_clean.iloc[2].text)"
   ]
  },
  {
   "cell_type": "code",
   "execution_count": 46,
   "metadata": {},
   "outputs": [],
   "source": [
    "# merge status_df display_text_range column to arch_clean to extract text using range values\n",
    "arch_clean = pd.merge(arch_clean, status_df[['tweet_id', 'display_text_range']], on='tweet_id')"
   ]
  },
  {
   "cell_type": "code",
   "execution_count": 47,
   "metadata": {},
   "outputs": [
    {
     "name": "stdout",
     "output_type": "stream",
     "text": [
      "<class 'pandas.core.frame.DataFrame'>\n",
      "Int64Index: 1991 entries, 0 to 1990\n",
      "Data columns (total 15 columns):\n",
      "tweet_id                 1991 non-null int64\n",
      "in_reply_to_status_id    1991 non-null int64\n",
      "in_reply_to_user_id      1991 non-null int64\n",
      "timestamp                1991 non-null datetime64[ns]\n",
      "source                   1991 non-null category\n",
      "text                     1991 non-null object\n",
      "expanded_urls            1991 non-null object\n",
      "rating_numerator         1991 non-null int64\n",
      "rating_denominator       1991 non-null int64\n",
      "name                     1991 non-null object\n",
      "doggo                    1991 non-null object\n",
      "floofer                  1991 non-null object\n",
      "pupper                   1991 non-null object\n",
      "puppo                    1991 non-null object\n",
      "display_text_range       1991 non-null object\n",
      "dtypes: category(1), datetime64[ns](1), int64(5), object(8)\n",
      "memory usage: 235.4+ KB\n"
     ]
    }
   ],
   "source": [
    "arch_clean.info()"
   ]
  },
  {
   "cell_type": "code",
   "execution_count": 48,
   "metadata": {},
   "outputs": [
    {
     "data": {
      "text/html": [
       "<div>\n",
       "<style scoped>\n",
       "    .dataframe tbody tr th:only-of-type {\n",
       "        vertical-align: middle;\n",
       "    }\n",
       "\n",
       "    .dataframe tbody tr th {\n",
       "        vertical-align: top;\n",
       "    }\n",
       "\n",
       "    .dataframe thead th {\n",
       "        text-align: right;\n",
       "    }\n",
       "</style>\n",
       "<table border=\"1\" class=\"dataframe\">\n",
       "  <thead>\n",
       "    <tr style=\"text-align: right;\">\n",
       "      <th></th>\n",
       "      <th>tweet_id</th>\n",
       "      <th>in_reply_to_status_id</th>\n",
       "      <th>in_reply_to_user_id</th>\n",
       "      <th>timestamp</th>\n",
       "      <th>source</th>\n",
       "      <th>text</th>\n",
       "      <th>expanded_urls</th>\n",
       "      <th>rating_numerator</th>\n",
       "      <th>rating_denominator</th>\n",
       "      <th>name</th>\n",
       "      <th>doggo</th>\n",
       "      <th>floofer</th>\n",
       "      <th>pupper</th>\n",
       "      <th>puppo</th>\n",
       "      <th>display_text_range</th>\n",
       "    </tr>\n",
       "  </thead>\n",
       "  <tbody>\n",
       "    <tr>\n",
       "      <th>117</th>\n",
       "      <td>863432100342583297</td>\n",
       "      <td>0</td>\n",
       "      <td>0</td>\n",
       "      <td>2017-05-13 16:33:49</td>\n",
       "      <td>Twitter for iPhone</td>\n",
       "      <td>This is Belle. She's never been more pupset. E...</td>\n",
       "      <td>https://twitter.com/dog_rates/status/863432100...</td>\n",
       "      <td>12</td>\n",
       "      <td>10</td>\n",
       "      <td>Belle</td>\n",
       "      <td>None</td>\n",
       "      <td>None</td>\n",
       "      <td>None</td>\n",
       "      <td>None</td>\n",
       "      <td>[0, 128]</td>\n",
       "    </tr>\n",
       "    <tr>\n",
       "      <th>1199</th>\n",
       "      <td>690932576555528194</td>\n",
       "      <td>0</td>\n",
       "      <td>0</td>\n",
       "      <td>2016-01-23 16:22:17</td>\n",
       "      <td>Twitter for iPhone</td>\n",
       "      <td>This is Buddy. He's testing out the water. Suc...</td>\n",
       "      <td>https://twitter.com/dog_rates/status/690932576...</td>\n",
       "      <td>12</td>\n",
       "      <td>10</td>\n",
       "      <td>Buddy</td>\n",
       "      <td>None</td>\n",
       "      <td>None</td>\n",
       "      <td>None</td>\n",
       "      <td>None</td>\n",
       "      <td>[0, 100]</td>\n",
       "    </tr>\n",
       "    <tr>\n",
       "      <th>1587</th>\n",
       "      <td>673707060090052608</td>\n",
       "      <td>0</td>\n",
       "      <td>0</td>\n",
       "      <td>2015-12-07 03:34:14</td>\n",
       "      <td>Twitter for iPhone</td>\n",
       "      <td>This is Raymond. He's absolutely terrified of ...</td>\n",
       "      <td>https://twitter.com/dog_rates/status/673707060...</td>\n",
       "      <td>10</td>\n",
       "      <td>10</td>\n",
       "      <td>Raymond</td>\n",
       "      <td>None</td>\n",
       "      <td>None</td>\n",
       "      <td>pupper</td>\n",
       "      <td>None</td>\n",
       "      <td>[0, 116]</td>\n",
       "    </tr>\n",
       "  </tbody>\n",
       "</table>\n",
       "</div>"
      ],
      "text/plain": [
       "                tweet_id  in_reply_to_status_id  in_reply_to_user_id  \\\n",
       "117   863432100342583297                      0                    0   \n",
       "1199  690932576555528194                      0                    0   \n",
       "1587  673707060090052608                      0                    0   \n",
       "\n",
       "               timestamp              source  \\\n",
       "117  2017-05-13 16:33:49  Twitter for iPhone   \n",
       "1199 2016-01-23 16:22:17  Twitter for iPhone   \n",
       "1587 2015-12-07 03:34:14  Twitter for iPhone   \n",
       "\n",
       "                                                   text  \\\n",
       "117   This is Belle. She's never been more pupset. E...   \n",
       "1199  This is Buddy. He's testing out the water. Suc...   \n",
       "1587  This is Raymond. He's absolutely terrified of ...   \n",
       "\n",
       "                                          expanded_urls  rating_numerator  \\\n",
       "117   https://twitter.com/dog_rates/status/863432100...                12   \n",
       "1199  https://twitter.com/dog_rates/status/690932576...                12   \n",
       "1587  https://twitter.com/dog_rates/status/673707060...                10   \n",
       "\n",
       "      rating_denominator     name doggo floofer  pupper puppo  \\\n",
       "117                   10    Belle  None    None    None  None   \n",
       "1199                  10    Buddy  None    None    None  None   \n",
       "1587                  10  Raymond  None    None  pupper  None   \n",
       "\n",
       "     display_text_range  \n",
       "117            [0, 128]  \n",
       "1199           [0, 100]  \n",
       "1587           [0, 116]  "
      ]
     },
     "execution_count": 48,
     "metadata": {},
     "output_type": "execute_result"
    }
   ],
   "source": [
    "arch_clean.sample(3)"
   ]
  },
  {
   "cell_type": "markdown",
   "metadata": {},
   "source": [
    "### Code"
   ]
  },
  {
   "cell_type": "code",
   "execution_count": 49,
   "metadata": {},
   "outputs": [
    {
     "name": "stderr",
     "output_type": "stream",
     "text": [
      "/anaconda3/lib/python3.5/site-packages/ipykernel_launcher.py:5: FutureWarning: set_value is deprecated and will be removed in a future release. Please use .at[] or .iat[] accessors instead\n",
      "  \"\"\"\n"
     ]
    }
   ],
   "source": [
    "# using display_text_range of arch_clean, extract displayable text\n",
    "for i, row in arch_clean.iterrows():\n",
    "    text_range = row.display_text_range\n",
    "    display_text = row.text[text_range[0]:text_range[1]]\n",
    "    arch_clean.set_value(i, 'text', display_text)"
   ]
  },
  {
   "cell_type": "code",
   "execution_count": 50,
   "metadata": {},
   "outputs": [],
   "source": [
    "# drop display_text_range column\n",
    "arch_clean.drop('display_text_range', axis=1, inplace=True)"
   ]
  },
  {
   "cell_type": "markdown",
   "metadata": {},
   "source": [
    "### Test"
   ]
  },
  {
   "cell_type": "code",
   "execution_count": 51,
   "metadata": {},
   "outputs": [
    {
     "name": "stdout",
     "output_type": "stream",
     "text": [
      "This is Phineas. He's a mystical boy. Only ever appears in the hole of a donut. 13/10\n",
      "This is Tilly. She's just checking pup on you. Hopes you're doing ok. If not, she's available for pats, snugs, boops, the whole bit. 13/10\n",
      "This is Archie. He is a rare Norwegian Pouncing Corgo. Lives in the tall grass. You never know when one may strike. 12/10\n"
     ]
    }
   ],
   "source": [
    "#Checking\n",
    "# After extraction: first 3 records now show displayable text\n",
    "print(arch_clean.iloc[0].text)\n",
    "print(arch_clean.iloc[1].text)\n",
    "print(arch_clean.iloc[2].text)"
   ]
  },
  {
   "cell_type": "markdown",
   "metadata": {},
   "source": [
    "### Define\n",
    "#### 4) Replace all lowercase value of name into \"None\" in \"arch_clean\" dataframe"
   ]
  },
  {
   "cell_type": "markdown",
   "metadata": {},
   "source": [
    "### Code"
   ]
  },
  {
   "cell_type": "code",
   "execution_count": 52,
   "metadata": {},
   "outputs": [
    {
     "name": "stderr",
     "output_type": "stream",
     "text": [
      "/anaconda3/lib/python3.5/site-packages/ipykernel_launcher.py:2: SettingWithCopyWarning: \n",
      "A value is trying to be set on a copy of a slice from a DataFrame\n",
      "\n",
      "See the caveats in the documentation: http://pandas.pydata.org/pandas-docs/stable/indexing.html#indexing-view-versus-copy\n",
      "  \n"
     ]
    }
   ],
   "source": [
    "# Replace all lowercase value of name into \"None\"\n",
    "arch_clean['name'][arch_clean['name'].str.match('[a-z]+')] = 'None'"
   ]
  },
  {
   "cell_type": "markdown",
   "metadata": {},
   "source": [
    "### Test"
   ]
  },
  {
   "cell_type": "code",
   "execution_count": 53,
   "metadata": {},
   "outputs": [
    {
     "data": {
      "text/plain": [
       "None    644\n",
       "Name: name, dtype: int64"
      ]
     },
     "execution_count": 53,
     "metadata": {},
     "output_type": "execute_result"
    }
   ],
   "source": [
    "#Checking\n",
    "arch_clean.name[arch_clean.name == 'None'].value_counts()"
   ]
  },
  {
   "cell_type": "code",
   "execution_count": 54,
   "metadata": {},
   "outputs": [
    {
     "data": {
      "text/plain": [
       "Abby            2\n",
       "Ace             1\n",
       "Acro            1\n",
       "Adele           1\n",
       "Aiden           1\n",
       "Aja             1\n",
       "Akumi           1\n",
       "Al              1\n",
       "Albert          2\n",
       "Albus           2\n",
       "Aldrick         1\n",
       "Alejandro       1\n",
       "Alexander       1\n",
       "Alexanderson    1\n",
       "Alf             1\n",
       "Alfie           4\n",
       "Alfy            1\n",
       "Alice           2\n",
       "Amber           1\n",
       "Ambrose         1\n",
       "Amy             1\n",
       "Amélie          1\n",
       "Anakin          1\n",
       "Andru           1\n",
       "Andy            1\n",
       "Angel           1\n",
       "Anna            1\n",
       "Anthony         1\n",
       "Antony          1\n",
       "Apollo          1\n",
       "               ..\n",
       "Waffles         3\n",
       "Walker          1\n",
       "Wallace         3\n",
       "Wally           2\n",
       "Walter          3\n",
       "Watson          2\n",
       "Wesley          1\n",
       "Wiggles         1\n",
       "Willem          1\n",
       "William         1\n",
       "Willie          1\n",
       "Willow          1\n",
       "Willy           1\n",
       "Wilson          3\n",
       "Winifred        1\n",
       "Winnie          4\n",
       "Winston         8\n",
       "Wishes          1\n",
       "Wyatt           3\n",
       "Yoda            1\n",
       "Yogi            2\n",
       "Zara            1\n",
       "Zeek            1\n",
       "Zeke            3\n",
       "Zeus            1\n",
       "Ziva            1\n",
       "Zoe             1\n",
       "Zoey            3\n",
       "Zooey           1\n",
       "Zuzu            1\n",
       "Name: name, Length: 913, dtype: int64"
      ]
     },
     "execution_count": 54,
     "metadata": {},
     "output_type": "execute_result"
    }
   ],
   "source": [
    "# Sort ascending by name to check if there are any names starting with a lowercase alphabet\n",
    "arch_clean.name.value_counts().sort_index(ascending=True)"
   ]
  },
  {
   "cell_type": "markdown",
   "metadata": {},
   "source": [
    "### Define\n",
    "#### 5) Some records have more than one dog stages in \"arch_clean\" dataframe"
   ]
  },
  {
   "cell_type": "markdown",
   "metadata": {},
   "source": [
    "### Code"
   ]
  },
  {
   "cell_type": "code",
   "execution_count": 55,
   "metadata": {},
   "outputs": [
    {
     "name": "stdout",
     "output_type": "stream",
     "text": [
      "1\n",
      "1\n",
      "9\n"
     ]
    }
   ],
   "source": [
    "# Check no. of records are more than one dog stages\n",
    "print(len(arch_clean[(arch_clean.doggo != 'None') & (arch_clean.floofer != 'None')]))\n",
    "print(len(arch_clean[(arch_clean.doggo != 'None') & (arch_clean.puppo != 'None')]))\n",
    "print(len(arch_clean[(arch_clean.doggo != 'None') & (arch_clean.pupper != 'None')]))"
   ]
  },
  {
   "cell_type": "markdown",
   "metadata": {},
   "source": [
    "There is one record has both doggo and floofer;\n",
    "One record has both doggo and puppo;\n",
    "Nine records have both doggo and pupper;"
   ]
  },
  {
   "cell_type": "code",
   "execution_count": 56,
   "metadata": {},
   "outputs": [
    {
     "name": "stdout",
     "output_type": "stream",
     "text": [
      "855851453814013952 Here's a puppo participating in the #ScienceMarch. Cleverly disguising her own doggo agenda. 13/10 would keep the planet habitable for\n",
      "\n",
      "854010172552949760 At first I thought this was a shy doggo, but it's actually a Rare Canadian Floofer Owl. Amateurs would confuse the two. 11/10 only send dogs\n",
      "\n"
     ]
    }
   ],
   "source": [
    "# Identify which two records have both doggo and floofer & doggo and puppo\n",
    "for i, row in arch_clean[((arch_clean.doggo != 'None') & (arch_clean.floofer != 'None'))\n",
    "                   | ((arch_clean.doggo != 'None') & (arch_clean.puppo != 'None'))].iterrows():\n",
    "    print('%s %s\\n'%(row.tweet_id, row.text))"
   ]
  },
  {
   "cell_type": "code",
   "execution_count": 57,
   "metadata": {},
   "outputs": [
    {
     "name": "stderr",
     "output_type": "stream",
     "text": [
      "/anaconda3/lib/python3.5/site-packages/ipykernel_launcher.py:2: SettingWithCopyWarning: \n",
      "A value is trying to be set on a copy of a slice from a DataFrame\n",
      "\n",
      "See the caveats in the documentation: http://pandas.pydata.org/pandas-docs/stable/indexing.html#indexing-view-versus-copy\n",
      "  \n"
     ]
    }
   ],
   "source": [
    "# From above results, doggo should be set as None for these two records\n",
    "arch_clean['doggo'][arch_clean.tweet_id.isin([855851453814013952, 854010172552949760])] = 'None'"
   ]
  },
  {
   "cell_type": "code",
   "execution_count": 58,
   "metadata": {},
   "outputs": [
    {
     "name": "stderr",
     "output_type": "stream",
     "text": [
      "/anaconda3/lib/python3.5/site-packages/ipykernel_launcher.py:2: SettingWithCopyWarning: \n",
      "A value is trying to be set on a copy of a slice from a DataFrame\n",
      "\n",
      "See the caveats in the documentation: http://pandas.pydata.org/pandas-docs/stable/indexing.html#indexing-view-versus-copy\n",
      "  \n"
     ]
    }
   ],
   "source": [
    "# We also set pupper column as None for records which have both doggo and pupper\n",
    "arch_clean['pupper'][(arch_clean.doggo != 'None') & (arch_clean.pupper != 'None')] = 'None'"
   ]
  },
  {
   "cell_type": "markdown",
   "metadata": {},
   "source": [
    "### Test"
   ]
  },
  {
   "cell_type": "code",
   "execution_count": 59,
   "metadata": {},
   "outputs": [
    {
     "data": {
      "text/plain": [
       "0"
      ]
     },
     "execution_count": 59,
     "metadata": {},
     "output_type": "execute_result"
    }
   ],
   "source": [
    "#Checking\n",
    "len(arch_clean[((arch_clean.doggo != 'None') & (arch_clean.pupper != 'None'))\n",
    "                  | ((arch_clean.doggo != 'None') & (arch_clean.floofer != 'None')) \n",
    "                  | ((arch_clean.doggo != 'None') & (arch_clean.puppo != 'None'))])"
   ]
  },
  {
   "cell_type": "markdown",
   "metadata": {},
   "source": [
    "#### After cleaning, no record has more than one dog stages."
   ]
  },
  {
   "cell_type": "markdown",
   "metadata": {},
   "source": [
    "### Tidiness"
   ]
  },
  {
   "cell_type": "markdown",
   "metadata": {},
   "source": [
    "### Define\n",
    "#### 1) In arc_df table, merge doggo, floofer, pupper and puppo columns into one column named as \"stage\""
   ]
  },
  {
   "cell_type": "markdown",
   "metadata": {},
   "source": [
    "### Code"
   ]
  },
  {
   "cell_type": "code",
   "execution_count": 60,
   "metadata": {},
   "outputs": [
    {
     "data": {
      "text/plain": [
       "None     1919\n",
       "doggo      72\n",
       "Name: doggo, dtype: int64"
      ]
     },
     "execution_count": 60,
     "metadata": {},
     "output_type": "execute_result"
    }
   ],
   "source": [
    "# No. of counts in doggo\n",
    "arch_clean.doggo.value_counts()"
   ]
  },
  {
   "cell_type": "code",
   "execution_count": 61,
   "metadata": {},
   "outputs": [
    {
     "data": {
      "text/plain": [
       "None       1983\n",
       "floofer       8\n",
       "Name: floofer, dtype: int64"
      ]
     },
     "execution_count": 61,
     "metadata": {},
     "output_type": "execute_result"
    }
   ],
   "source": [
    "# No. of counts in floofer\n",
    "arch_clean.floofer.value_counts()"
   ]
  },
  {
   "cell_type": "code",
   "execution_count": 62,
   "metadata": {},
   "outputs": [
    {
     "data": {
      "text/plain": [
       "None      1788\n",
       "pupper     203\n",
       "Name: pupper, dtype: int64"
      ]
     },
     "execution_count": 62,
     "metadata": {},
     "output_type": "execute_result"
    }
   ],
   "source": [
    "# No. of counts in pupper\n",
    "arch_clean.pupper.value_counts()"
   ]
  },
  {
   "cell_type": "code",
   "execution_count": 63,
   "metadata": {},
   "outputs": [
    {
     "data": {
      "text/plain": [
       "None     1968\n",
       "puppo      23\n",
       "Name: puppo, dtype: int64"
      ]
     },
     "execution_count": 63,
     "metadata": {},
     "output_type": "execute_result"
    }
   ],
   "source": [
    "# No. of counts in puppo\n",
    "arch_clean.puppo.value_counts()"
   ]
  },
  {
   "cell_type": "markdown",
   "metadata": {},
   "source": [
    "Merge doggo, floofer, pupper and puppo columns into one column named as \"stage\". \n",
    "Convert the datatype from string to categorical which saves memory."
   ]
  },
  {
   "cell_type": "code",
   "execution_count": 64,
   "metadata": {},
   "outputs": [],
   "source": [
    "# merge doggo, floofer, pupper and puppo columns to stage column\n",
    "arch_clean['stage'] = arch_clean[['doggo', 'floofer', 'pupper', 'puppo']].max(axis=1)"
   ]
  },
  {
   "cell_type": "code",
   "execution_count": 65,
   "metadata": {},
   "outputs": [],
   "source": [
    "# convert the datatype from string to categorical\n",
    "arch_clean.stage = arch_clean.stage.astype('category')"
   ]
  },
  {
   "cell_type": "code",
   "execution_count": 66,
   "metadata": {},
   "outputs": [],
   "source": [
    "# drop the doggo, floofer, pupper and puppo columns\n",
    "arch_clean.drop(['doggo', 'floofer', 'pupper', 'puppo'], axis=1, inplace=True)"
   ]
  },
  {
   "cell_type": "markdown",
   "metadata": {},
   "source": [
    "### Test"
   ]
  },
  {
   "cell_type": "code",
   "execution_count": 67,
   "metadata": {},
   "outputs": [
    {
     "data": {
      "text/plain": [
       "None       1685\n",
       "pupper      203\n",
       "doggo        72\n",
       "puppo        23\n",
       "floofer       8\n",
       "Name: stage, dtype: int64"
      ]
     },
     "execution_count": 67,
     "metadata": {},
     "output_type": "execute_result"
    }
   ],
   "source": [
    "#Checking\n",
    "arch_clean.stage.value_counts()"
   ]
  },
  {
   "cell_type": "code",
   "execution_count": 68,
   "metadata": {},
   "outputs": [
    {
     "name": "stdout",
     "output_type": "stream",
     "text": [
      "<class 'pandas.core.frame.DataFrame'>\n",
      "Int64Index: 1991 entries, 0 to 1990\n",
      "Data columns (total 11 columns):\n",
      "tweet_id                 1991 non-null int64\n",
      "in_reply_to_status_id    1991 non-null int64\n",
      "in_reply_to_user_id      1991 non-null int64\n",
      "timestamp                1991 non-null datetime64[ns]\n",
      "source                   1991 non-null category\n",
      "text                     1991 non-null object\n",
      "expanded_urls            1991 non-null object\n",
      "rating_numerator         1991 non-null int64\n",
      "rating_denominator       1991 non-null int64\n",
      "name                     1991 non-null object\n",
      "stage                    1991 non-null category\n",
      "dtypes: category(2), datetime64[ns](1), int64(5), object(3)\n",
      "memory usage: 239.7+ KB\n"
     ]
    }
   ],
   "source": [
    "arch_clean.info()"
   ]
  },
  {
   "cell_type": "markdown",
   "metadata": {},
   "source": [
    "### Define\n",
    "#### 2) Create breed, retweet_count and favorite_count columns in arc_df table;\n",
    "#### For each tweet_id, use the image_df table to check if p1_conf is greater than 0.95 (i.e. 95% confidence interval) and p1_dog is True. If it is true, set the value of p1 column in breed column."
   ]
  },
  {
   "cell_type": "markdown",
   "metadata": {},
   "source": [
    "### Code"
   ]
  },
  {
   "cell_type": "code",
   "execution_count": 69,
   "metadata": {},
   "outputs": [],
   "source": [
    "# create breed, retweet_count and favorite_count columns\n",
    "arch_clean['breed'] = 'None'\n",
    "arch_clean['retweet_count'] = 0\n",
    "arch_clean['favorite_count'] = 0"
   ]
  },
  {
   "cell_type": "code",
   "execution_count": 70,
   "metadata": {},
   "outputs": [
    {
     "name": "stderr",
     "output_type": "stream",
     "text": [
      "/anaconda3/lib/python3.5/site-packages/ipykernel_launcher.py:4: FutureWarning: set_value is deprecated and will be removed in a future release. Please use .at[] or .iat[] accessors instead\n",
      "  after removing the cwd from sys.path.\n",
      "/anaconda3/lib/python3.5/site-packages/ipykernel_launcher.py:5: FutureWarning: set_value is deprecated and will be removed in a future release. Please use .at[] or .iat[] accessors instead\n",
      "  \"\"\"\n",
      "/anaconda3/lib/python3.5/site-packages/ipykernel_launcher.py:12: FutureWarning: set_value is deprecated and will be removed in a future release. Please use .at[] or .iat[] accessors instead\n",
      "  if sys.path[0] == '':\n"
     ]
    }
   ],
   "source": [
    "# iterate through all the rows of arch_clean\n",
    "for i, row in arch_clean.iterrows():\n",
    "    # transfer retweet_count and favorite_count columns at status_df table and assign those values\n",
    "    arch_clean.set_value(i, 'retweet_count', status_df[status_df.tweet_id == row.tweet_id].retweet_count.iloc[0])\n",
    "    arch_clean.set_value(i, 'favorite_count', status_df[status_df.tweet_id == row.tweet_id].favorite_count.iloc[0])    \n",
    "    image_prediction = image_df[image_df.tweet_id == row.tweet_id]\n",
    "    p1_conf = image_prediction.p1_conf.iloc[0]\n",
    "    p1_dog = image_prediction.p1_dog.iloc[0]\n",
    "    #  check if p1_conf is greater than 0.95 (i.e. 95% confidence interval) and p1_dog is True\n",
    "    # set the value of p1 column in breed column.\n",
    "    if p1_conf >= 0.95 and p1_dog:\n",
    "        arch_clean.set_value(i, 'breed', image_prediction.p1.iloc[0])"
   ]
  },
  {
   "cell_type": "markdown",
   "metadata": {},
   "source": [
    "### Test"
   ]
  },
  {
   "cell_type": "code",
   "execution_count": 71,
   "metadata": {},
   "outputs": [
    {
     "data": {
      "text/plain": [
       "None                           1807\n",
       "pug                              20\n",
       "Pembroke                         19\n",
       "Samoyed                          18\n",
       "golden_retriever                 16\n",
       "Pomeranian                       13\n",
       "Chihuahua                         9\n",
       "Labrador_retriever                8\n",
       "French_bulldog                    8\n",
       "chow                              7\n",
       "Bernese_mountain_dog              4\n",
       "German_shepherd                   4\n",
       "Shetland_sheepdog                 4\n",
       "beagle                            3\n",
       "Old_English_sheepdog              3\n",
       "Pekinese                          3\n",
       "Blenheim_spaniel                  3\n",
       "malamute                          2\n",
       "basset                            2\n",
       "dalmatian                         2\n",
       "Boston_bull                       2\n",
       "keeshond                          2\n",
       "bull_mastiff                      2\n",
       "English_springer                  2\n",
       "komondor                          2\n",
       "Saint_Bernard                     2\n",
       "vizsla                            2\n",
       "cocker_spaniel                    2\n",
       "Shih-Tzu                          2\n",
       "Rottweiler                        2\n",
       "briard                            1\n",
       "German_short-haired_pointer       1\n",
       "Cardigan                          1\n",
       "collie                            1\n",
       "Great_Dane                        1\n",
       "Weimaraner                        1\n",
       "Great_Pyrenees                    1\n",
       "Brittany_spaniel                  1\n",
       "Siberian_husky                    1\n",
       "Tibetan_mastiff                   1\n",
       "miniature_pinscher                1\n",
       "Norwegian_elkhound                1\n",
       "toy_poodle                        1\n",
       "boxer                             1\n",
       "schipperke                        1\n",
       "Maltese_dog                       1\n",
       "Name: breed, dtype: int64"
      ]
     },
     "execution_count": 71,
     "metadata": {},
     "output_type": "execute_result"
    }
   ],
   "source": [
    "# Checking: Counts of breed\n",
    "arch_clean.breed.value_counts()"
   ]
  },
  {
   "cell_type": "code",
   "execution_count": 72,
   "metadata": {},
   "outputs": [
    {
     "data": {
      "text/html": [
       "<div>\n",
       "<style scoped>\n",
       "    .dataframe tbody tr th:only-of-type {\n",
       "        vertical-align: middle;\n",
       "    }\n",
       "\n",
       "    .dataframe tbody tr th {\n",
       "        vertical-align: top;\n",
       "    }\n",
       "\n",
       "    .dataframe thead th {\n",
       "        text-align: right;\n",
       "    }\n",
       "</style>\n",
       "<table border=\"1\" class=\"dataframe\">\n",
       "  <thead>\n",
       "    <tr style=\"text-align: right;\">\n",
       "      <th></th>\n",
       "      <th>tweet_id</th>\n",
       "      <th>retweet_count</th>\n",
       "      <th>favorite_count</th>\n",
       "    </tr>\n",
       "  </thead>\n",
       "  <tbody>\n",
       "    <tr>\n",
       "      <th>444</th>\n",
       "      <td>796387464403357696</td>\n",
       "      <td>4547</td>\n",
       "      <td>11710</td>\n",
       "    </tr>\n",
       "    <tr>\n",
       "      <th>1322</th>\n",
       "      <td>683111407806746624</td>\n",
       "      <td>966</td>\n",
       "      <td>3532</td>\n",
       "    </tr>\n",
       "    <tr>\n",
       "      <th>65</th>\n",
       "      <td>877736472329191424</td>\n",
       "      <td>18607</td>\n",
       "      <td>77878</td>\n",
       "    </tr>\n",
       "  </tbody>\n",
       "</table>\n",
       "</div>"
      ],
      "text/plain": [
       "                tweet_id  retweet_count  favorite_count\n",
       "444   796387464403357696           4547           11710\n",
       "1322  683111407806746624            966            3532\n",
       "65    877736472329191424          18607           77878"
      ]
     },
     "execution_count": 72,
     "metadata": {},
     "output_type": "execute_result"
    }
   ],
   "source": [
    "arch_clean[['tweet_id', 'retweet_count', 'favorite_count']].sample(3)"
   ]
  },
  {
   "cell_type": "code",
   "execution_count": 73,
   "metadata": {},
   "outputs": [
    {
     "name": "stdout",
     "output_type": "stream",
     "text": [
      "<class 'pandas.core.frame.DataFrame'>\n",
      "Int64Index: 1991 entries, 0 to 1990\n",
      "Data columns (total 14 columns):\n",
      "tweet_id                 1991 non-null int64\n",
      "in_reply_to_status_id    1991 non-null int64\n",
      "in_reply_to_user_id      1991 non-null int64\n",
      "timestamp                1991 non-null datetime64[ns]\n",
      "source                   1991 non-null category\n",
      "text                     1991 non-null object\n",
      "expanded_urls            1991 non-null object\n",
      "rating_numerator         1991 non-null int64\n",
      "rating_denominator       1991 non-null int64\n",
      "name                     1991 non-null object\n",
      "stage                    1991 non-null category\n",
      "breed                    1991 non-null object\n",
      "retweet_count            1991 non-null int64\n",
      "favorite_count           1991 non-null int64\n",
      "dtypes: category(2), datetime64[ns](1), int64(7), object(4)\n",
      "memory usage: 286.4+ KB\n"
     ]
    }
   ],
   "source": [
    "arch_clean.info()"
   ]
  },
  {
   "cell_type": "markdown",
   "metadata": {},
   "source": [
    "### Save master data"
   ]
  },
  {
   "cell_type": "code",
   "execution_count": 74,
   "metadata": {},
   "outputs": [],
   "source": [
    "# Save masater data\n",
    "arch_clean.to_csv('twitter_arch_master.csv', encoding='utf-8', index=False)"
   ]
  },
  {
   "cell_type": "markdown",
   "metadata": {},
   "source": [
    "### Data Analysis"
   ]
  },
  {
   "cell_type": "code",
   "execution_count": 75,
   "metadata": {},
   "outputs": [],
   "source": [
    "# create a copy for data analysis\n",
    "df = arch_clean.copy()"
   ]
  },
  {
   "cell_type": "code",
   "execution_count": 76,
   "metadata": {},
   "outputs": [
    {
     "name": "stdout",
     "output_type": "stream",
     "text": [
      "<class 'pandas.core.frame.DataFrame'>\n",
      "Int64Index: 1991 entries, 0 to 1990\n",
      "Data columns (total 14 columns):\n",
      "tweet_id                 1991 non-null int64\n",
      "in_reply_to_status_id    1991 non-null int64\n",
      "in_reply_to_user_id      1991 non-null int64\n",
      "timestamp                1991 non-null datetime64[ns]\n",
      "source                   1991 non-null category\n",
      "text                     1991 non-null object\n",
      "expanded_urls            1991 non-null object\n",
      "rating_numerator         1991 non-null int64\n",
      "rating_denominator       1991 non-null int64\n",
      "name                     1991 non-null object\n",
      "stage                    1991 non-null category\n",
      "breed                    1991 non-null object\n",
      "retweet_count            1991 non-null int64\n",
      "favorite_count           1991 non-null int64\n",
      "dtypes: category(2), datetime64[ns](1), int64(7), object(4)\n",
      "memory usage: 206.4+ KB\n"
     ]
    }
   ],
   "source": [
    "df.info()"
   ]
  },
  {
   "cell_type": "markdown",
   "metadata": {},
   "source": [
    "#### Question 1: When is the most people to tweet post of WeRateDogs?"
   ]
  },
  {
   "cell_type": "code",
   "execution_count": 77,
   "metadata": {},
   "outputs": [
    {
     "data": {
      "text/plain": [
       "2015-11    296\n",
       "2015-12    366\n",
       "2016-01    169\n",
       "2016-02    111\n",
       "2016-03    120\n",
       "2016-04     54\n",
       "2016-05     57\n",
       "2016-06     81\n",
       "2016-07     87\n",
       "2016-08     59\n",
       "2016-09     63\n",
       "2016-10     65\n",
       "2016-11     53\n",
       "2016-12     54\n",
       "2017-01     66\n",
       "2017-02     64\n",
       "2017-03     48\n",
       "2017-04     41\n",
       "2017-05     43\n",
       "2017-06     43\n",
       "2017-07     49\n",
       "2017-08      2\n",
       "Name: timestamp, dtype: int64"
      ]
     },
     "execution_count": 77,
     "metadata": {},
     "output_type": "execute_result"
    }
   ],
   "source": [
    "#Analyze no. of tweets posted by months and years\n",
    "df['timestamp'].apply(lambda x: x.strftime('%Y-%m')).value_counts().sort_index()"
   ]
  },
  {
   "cell_type": "markdown",
   "metadata": {},
   "source": [
    "### Insight 1\n",
    "#### Most of tweets posted by WeRateDogs are between Nov 2015 and Mar 2016."
   ]
  },
  {
   "cell_type": "markdown",
   "metadata": {},
   "source": [
    "### Question 2: What is the most popular device for posting WeRateDogs?"
   ]
  },
  {
   "cell_type": "code",
   "execution_count": 78,
   "metadata": {},
   "outputs": [
    {
     "data": {
      "text/plain": [
       "Twitter for iPhone    1953\n",
       "Twitter Web Client      28\n",
       "TweetDeck               10\n",
       "Name: source, dtype: int64"
      ]
     },
     "execution_count": 78,
     "metadata": {},
     "output_type": "execute_result"
    }
   ],
   "source": [
    "# Counts of source\n",
    "df['source'].value_counts()"
   ]
  },
  {
   "cell_type": "markdown",
   "metadata": {},
   "source": [
    "### Insight 2\n",
    "#### More than 98% users are using iPhone for posting WeRateDogs Twitter."
   ]
  },
  {
   "cell_type": "markdown",
   "metadata": {},
   "source": [
    "### Question 3: How many counts of rating (numerator) is greater than 10 in posting WeRateDogs?"
   ]
  },
  {
   "cell_type": "code",
   "execution_count": 79,
   "metadata": {},
   "outputs": [
    {
     "data": {
      "text/plain": [
       "0         2\n",
       "1         5\n",
       "2         9\n",
       "3        19\n",
       "4        16\n",
       "5        33\n",
       "6        32\n",
       "7        52\n",
       "8        95\n",
       "9       151\n",
       "10      418\n",
       "11      396\n",
       "12      449\n",
       "13      260\n",
       "14       35\n",
       "24        1\n",
       "26        1\n",
       "27        1\n",
       "44        1\n",
       "45        1\n",
       "50        1\n",
       "60        1\n",
       "75        1\n",
       "80        1\n",
       "84        1\n",
       "88        1\n",
       "99        1\n",
       "121       1\n",
       "143       1\n",
       "144       1\n",
       "165       1\n",
       "204       1\n",
       "420       1\n",
       "1776      1\n",
       "Name: rating_numerator, dtype: int64"
      ]
     },
     "execution_count": 79,
     "metadata": {},
     "output_type": "execute_result"
    }
   ],
   "source": [
    "# Rating of dogs\n",
    "df['rating_numerator'].value_counts().sort_index()"
   ]
  },
  {
   "cell_type": "code",
   "execution_count": 80,
   "metadata": {},
   "outputs": [
    {
     "data": {
      "text/plain": [
       "1159"
      ]
     },
     "execution_count": 80,
     "metadata": {},
     "output_type": "execute_result"
    }
   ],
   "source": [
    "df['rating_numerator'][df['rating_numerator'] > 10].value_counts().sum()"
   ]
  },
  {
   "cell_type": "markdown",
   "metadata": {},
   "source": [
    "### Insight 3\n",
    "#### There are 1159 counts of rating (numerator) is greater than 10 which is contributed more than 58%. "
   ]
  },
  {
   "cell_type": "markdown",
   "metadata": {},
   "source": [
    "### Question 4: What is the most popular dog breeds in posting WeRateDogs?"
   ]
  },
  {
   "cell_type": "code",
   "execution_count": 81,
   "metadata": {},
   "outputs": [
    {
     "data": {
      "text/plain": [
       "None                           1807\n",
       "pug                              20\n",
       "Pembroke                         19\n",
       "Samoyed                          18\n",
       "golden_retriever                 16\n",
       "Pomeranian                       13\n",
       "Chihuahua                         9\n",
       "Labrador_retriever                8\n",
       "French_bulldog                    8\n",
       "chow                              7\n",
       "Bernese_mountain_dog              4\n",
       "German_shepherd                   4\n",
       "Shetland_sheepdog                 4\n",
       "beagle                            3\n",
       "Old_English_sheepdog              3\n",
       "Pekinese                          3\n",
       "Blenheim_spaniel                  3\n",
       "malamute                          2\n",
       "basset                            2\n",
       "dalmatian                         2\n",
       "Boston_bull                       2\n",
       "keeshond                          2\n",
       "bull_mastiff                      2\n",
       "English_springer                  2\n",
       "komondor                          2\n",
       "Saint_Bernard                     2\n",
       "vizsla                            2\n",
       "cocker_spaniel                    2\n",
       "Shih-Tzu                          2\n",
       "Rottweiler                        2\n",
       "briard                            1\n",
       "German_short-haired_pointer       1\n",
       "Cardigan                          1\n",
       "collie                            1\n",
       "Great_Dane                        1\n",
       "Weimaraner                        1\n",
       "Great_Pyrenees                    1\n",
       "Brittany_spaniel                  1\n",
       "Siberian_husky                    1\n",
       "Tibetan_mastiff                   1\n",
       "miniature_pinscher                1\n",
       "Norwegian_elkhound                1\n",
       "toy_poodle                        1\n",
       "boxer                             1\n",
       "schipperke                        1\n",
       "Maltese_dog                       1\n",
       "Name: breed, dtype: int64"
      ]
     },
     "execution_count": 81,
     "metadata": {},
     "output_type": "execute_result"
    }
   ],
   "source": [
    "# Counts of dog breed\n",
    "df['breed'].value_counts()"
   ]
  },
  {
   "cell_type": "markdown",
   "metadata": {},
   "source": [
    "### Insight 4\n",
    "#### Around 90% cannot identify their breed. Top 3 breed come from pug, Pembroke & Samoyed."
   ]
  },
  {
   "cell_type": "markdown",
   "metadata": {},
   "source": [
    "### Question 5: What is the mean counts of Retweet and Favorite in posting WeRateDogs?"
   ]
  },
  {
   "cell_type": "code",
   "execution_count": 82,
   "metadata": {},
   "outputs": [
    {
     "name": "stdout",
     "output_type": "stream",
     "text": [
      "Mean Retweet Count\t2629\n",
      "Mean Favorite Count\t8664\n"
     ]
    }
   ],
   "source": [
    "# Mean of Retweet and Favourite Counts\n",
    "print('%s\\t%s' % ('Mean Retweet Count', round(df.retweet_count.mean())))\n",
    "print('%s\\t%s' % ('Mean Favorite Count', round(df.favorite_count.mean())))"
   ]
  },
  {
   "cell_type": "markdown",
   "metadata": {},
   "source": [
    "### Insight 5\n",
    "#### Mean Retweet Count and Mean Favorite Count are 2630 and 8667, respectively."
   ]
  },
  {
   "cell_type": "markdown",
   "metadata": {},
   "source": [
    "### Question 6: What is the popular stage in posting WeRateDogs?"
   ]
  },
  {
   "cell_type": "code",
   "execution_count": 83,
   "metadata": {},
   "outputs": [
    {
     "data": {
      "text/plain": [
       "None       1685\n",
       "pupper      203\n",
       "doggo        72\n",
       "puppo        23\n",
       "floofer       8\n",
       "Name: stage, dtype: int64"
      ]
     },
     "execution_count": 83,
     "metadata": {},
     "output_type": "execute_result"
    }
   ],
   "source": [
    "# Counts of stage\n",
    "df['stage'].value_counts()"
   ]
  },
  {
   "cell_type": "markdown",
   "metadata": {},
   "source": [
    "### Insight 6\n",
    "#### Around 85% cannot identify their stage. While Pupper is contributed the most."
   ]
  },
  {
   "cell_type": "markdown",
   "metadata": {},
   "source": [
    "### Visualization "
   ]
  },
  {
   "cell_type": "markdown",
   "metadata": {},
   "source": [
    "#### Trend of WeRateDogs"
   ]
  },
  {
   "cell_type": "code",
   "execution_count": 84,
   "metadata": {},
   "outputs": [
    {
     "data": {
      "image/png": "[encoded data removed]",
      "text/plain": [
       "<Figure size 864x648 with 1 Axes>"
      ]
     },
     "metadata": {},
     "output_type": "display_data"
    }
   ],
   "source": [
    "%matplotlib inline\n",
    "plt.rcParams[\"figure.figsize\"] = [12, 9]\n",
    "# Plot of no. of tweets over time\n",
    "# Group by years and months\n",
    "data = df.tweet_id.groupby([df[\"timestamp\"].dt.year, df[\"timestamp\"].dt.month]).count()\n",
    "ax = data.plot('line', title='Trend of WeRateDogs',color='purple')\n",
    "ax.set_xlabel('(Year, Month)')\n",
    "ax.set_ylabel(\"Number of Tweets\")\n",
    "ax.set_ylim(0, )\n",
    "\n",
    "plt.savefig('tweet_trend')"
   ]
  },
  {
   "cell_type": "markdown",
   "metadata": {},
   "source": [
    "#### Distribution of Dog Rating"
   ]
  },
  {
   "cell_type": "code",
   "execution_count": 85,
   "metadata": {},
   "outputs": [
    {
     "data": {
      "image/png": "[encoded data removed]",
      "text/plain": [
       "<Figure size 864x648 with 1 Axes>"
      ]
     },
     "metadata": {},
     "output_type": "display_data"
    }
   ],
   "source": [
    "# rating_distribution\n",
    "ax = df.rating_numerator.value_counts().sort_index().plot('bar', title = 'Distribution of Dog Rating >= 2', color='purple', alpha= 0.6)\n",
    "ax.set_xlabel(\"Rating out of 10\")\n",
    "ax.set_ylabel(\"Number of Dogs\")\n",
    "ax.set_yticks([0, 50, 100, 150, 200, 250, 300, 350, 400, 450])\n",
    "ax.set_xlim(0, 15)\n",
    "plt.savefig('rating_distribution')"
   ]
  },
  {
   "cell_type": "markdown",
   "metadata": {},
   "source": [
    "#### Trend of Retweet and Favorite"
   ]
  },
  {
   "cell_type": "code",
   "execution_count": 86,
   "metadata": {},
   "outputs": [
    {
     "data": {
      "image/png": "[encoded data removed]",
      "text/plain": [
       "<Figure size 864x648 with 1 Axes>"
      ]
     },
     "metadata": {},
     "output_type": "display_data"
    }
   ],
   "source": [
    "# Trend of Retweet and Favorite\n",
    "plt.subplots(1, sharex=True)\n",
    "df.retweet_count.groupby([df[\"timestamp\"].dt.year, df[\"timestamp\"].dt.month]).mean().plot('line', color='purple')\n",
    "df.favorite_count.groupby([df[\"timestamp\"].dt.year, df[\"timestamp\"].dt.month]).mean().plot('line').set_ylim(0, )\n",
    "plt.title('Trend of Retweet and Favorite')\n",
    "plt.ylabel('Count')\n",
    "plt.xlabel(('Year', 'Month'))\n",
    "plt.legend(('Retweets', 'Favorites'))\n",
    "plt.savefig('retweet_favarite')"
   ]
  },
  {
   "cell_type": "markdown",
   "metadata": {},
   "source": [
    "#### twitter_source"
   ]
  },
  {
   "cell_type": "code",
   "execution_count": 87,
   "metadata": {},
   "outputs": [
    {
     "data": {
      "image/png": "[encoded data removed]",
      "text/plain": [
       "<Figure size 792x360 with 1 Axes>"
      ]
     },
     "metadata": {},
     "output_type": "display_data"
    }
   ],
   "source": [
    "df['source'].value_counts().plot('barh', figsize=(11,5), color='orange', alpha= 0.6,title='Twitter source').set_xlabel(\"Number of Tweets\")\n",
    "plt.savefig('twitter_source')"
   ]
  },
  {
   "cell_type": "markdown",
   "metadata": {},
   "source": [
    "#### Dog breed"
   ]
  },
  {
   "cell_type": "code",
   "execution_count": 88,
   "metadata": {},
   "outputs": [
    {
     "data": {
      "image/png": "[encoded data removed]",
      "text/plain": [
       "<Figure size 792x360 with 1 Axes>"
      ]
     },
     "metadata": {},
     "output_type": "display_data"
    }
   ],
   "source": [
    "# Top 6 dogs breed\n",
    "df.breed.value_counts()[1:7].plot('barh', color='green', alpha= 0.8,figsize=(11,5), title='Top 6 dogs breed').set_xlabel(\"Number of Dogs\")\n",
    "plt.savefig('dog_names')"
   ]
  },
  {
   "cell_type": "code",
   "execution_count": 89,
   "metadata": {},
   "outputs": [
    {
     "data": {
      "image/png": "[encoded data removed]",
      "text/plain": [
       "<Figure size 792x360 with 1 Axes>"
      ]
     },
     "metadata": {},
     "output_type": "display_data"
    }
   ],
   "source": [
    "df['stage'].value_counts().plot('barh', figsize=(11,5), color='pink', alpha= 0.8,title='Twitter stage').set_xlabel(\"Number of Tweets\")\n",
    "plt.savefig('twitter_stage')"
   ]
  },
  {
   "cell_type": "markdown",
   "metadata": {},
   "source": [
    "#### Correlation map"
   ]
  },
  {
   "cell_type": "code",
   "execution_count": 90,
   "metadata": {},
   "outputs": [
    {
     "data": {
      "image/png": "[encoded data removed]",
      "text/plain": [
       "<Figure size 1008x1008 with 2 Axes>"
      ]
     },
     "metadata": {},
     "output_type": "display_data"
    }
   ],
   "source": [
    "f,ax = plt.subplots(figsize=(14, 14))\n",
    "sns.heatmap(df[['favorite_count',\n",
    "                       'retweet_count', \n",
    "                       'rating_numerator']].corr(), annot=True, linewidths=.5, fmt= '.1f',ax=ax)\n",
    "plt.title('Correlation Map')\n",
    "plt.savefig('CorrelationMap')"
   ]
  },
  {
   "cell_type": "code",
   "execution_count": null,
   "metadata": {},
   "outputs": [],
   "source": []
  }
 ],
 "metadata": {
  "kernelspec": {
   "display_name": "Python 3",
   "language": "python",
   "name": "python3"
  },
  "language_info": {
   "codemirror_mode": {
    "name": "ipython",
    "version": 3
   },
   "file_extension": ".py",
   "mimetype": "text/x-python",
   "name": "python",
   "nbconvert_exporter": "python",
   "pygments_lexer": "ipython3",
   "version": "3.5.5"
  }
 },
 "nbformat": 4,
 "nbformat_minor": 2
}
