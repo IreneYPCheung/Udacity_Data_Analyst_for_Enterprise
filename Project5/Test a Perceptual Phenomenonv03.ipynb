{
 "cells": [
  {
   "cell_type": "markdown",
   "metadata": {},
   "source": [
    "### Analyzing the Stroop Effect\n",
    "Perform the analysis in the space below. Remember to follow [the instructions](https://docs.google.com/document/d/1-OkpZLjG_kX9J6LIQ5IltsqMzVWjh36QpnP2RYpVdPU/pub?embedded=True) and review the [project rubric](https://review.udacity.com/#!/rubrics/71/view) before submitting. Once you've completed the analysis and write-up, download this file as a PDF or HTML file, upload that PDF/HTML into the workspace here (click on the orange Jupyter icon in the upper left then Upload), then use the Submit Project button at the bottom of this page. This will create a zip file containing both this .ipynb doc and the PDF/HTML doc that will be submitted for your project.\n",
    "\n",
    "\n",
    "(1) What is the independent variable? What is the dependent variable?"
   ]
  },
  {
   "cell_type": "markdown",
   "metadata": {},
   "source": [
    "+ **Independent variable: congruency OR incongruent pair of words presented to the subject.**\n",
    "+ **Dependent variable: Time to complete the test.**"
   ]
  },
  {
   "cell_type": "markdown",
   "metadata": {},
   "source": [
    "(2) What is an appropriate set of hypotheses for this task? Specify your null and alternative hypotheses, and clearly define any notation used. Justify your choices."
   ]
  },
  {
   "cell_type": "markdown",
   "metadata": {},
   "source": [
    "#### Hypothesis Testing\n",
    "\n",
    "Null hypothesis **(H0)**states that there are no differences between the response time for congruent words (Congruent) and incongruent words (Incongruent). The mean difference between paired observations is zero.\n",
    "\n",
    "Alternative hypothesis **(H1)**states that there are difference between the response time for congruent words and incongruent words.\n",
    "\n",
    "**H0** :**μ_congruent = μ_incongruent**\n",
    "\n",
    "**H1** :**μ_congruent ≠ μ_incongruent**\n",
    "\n",
    "where \n",
    "\n",
    "**μ_congruent** is the population mean of response time for congruent words.\n",
    "\n",
    "**μ_incongruent** is the population mean of response time for incongruent words.\n",
    "\n",
    "#### **Paired Samples t-test**:\n",
    "#### **Assumption**:\n",
    "In a paired sample t-test, the observations are defined as the differences between two sets of values(ie: response time for congruent words and incongruent words,respectively.) and each assumption refers to these differences, not the original data values. The paired sample t-test has four main assumptions:\n",
    "+ The dependent variable (ie: Time to complete the test) must be continuous (interval/ratio).\n",
    "+ The observations are independent of one another.\n",
    "+ The dependent variable (ie: Time to complete the test) should be approximately normally distributed.\n",
    "+ The dependent variable (ie: Time to complete the test) should not contain any outliers.\n",
    "\n",
    "#### **Procedure**:\n",
    "The procedure for a paired sample t-test can be examined in four steps:\n",
    "\n",
    "1. Calculate the sample mean.\n",
    "2. Calculate the sample standard deviation.\n",
    "3. Calculate the test statistic.\n",
    "4. Calculate the probability of observing the test statistic under the null hypothesis. This value is obtained by comparing t to a t-distribution with (n − 1) degrees of freedom. \n",
    "\n",
    "#### **Analysis of Statistical Significance**:\n",
    "\n",
    "By observing the p-value. which gives the probability of observing the test results under the null hypothesis. Thus, a low p-value indicates decreased support for the null hypothesis. \n",
    "In summary, If we obtain a significant result, we can reject the null hypothesis and accept the alternative hypothesis. "
   ]
  },
  {
   "cell_type": "markdown",
   "metadata": {},
   "source": [
    "(3) Report some descriptive statistics regarding this dataset. Include at least one measure of central tendency and at least one measure of variability. The name of the data file is 'stroopdata.csv'."
   ]
  },
  {
   "cell_type": "markdown",
   "metadata": {},
   "source": [
    "Import libraries"
   ]
  },
  {
   "cell_type": "code",
   "execution_count": 1,
   "metadata": {},
   "outputs": [],
   "source": [
    "# Perform the analysis here\n",
    "\n",
    "import pandas as pd\n",
    "import numpy as np\n",
    "from math import sqrt\n",
    "\n",
    "%matplotlib inline\n",
    "import matplotlib.pyplot as plt\n",
    "import seaborn as sns\n",
    "#sns.set_context('notebook', font_scale = 1.5)\n",
    "sns.set_style(\"white\")"
   ]
  },
  {
   "cell_type": "code",
   "execution_count": 2,
   "metadata": {},
   "outputs": [],
   "source": [
    "import os\n",
    "cwd = os.getcwd()"
   ]
  },
  {
   "cell_type": "code",
   "execution_count": 3,
   "metadata": {},
   "outputs": [
    {
     "data": {
      "text/plain": [
       "'/Users/irene/Desktop/DAFD Office/Project_5'"
      ]
     },
     "execution_count": 3,
     "metadata": {},
     "output_type": "execute_result"
    }
   ],
   "source": [
    "cwd"
   ]
  },
  {
   "cell_type": "code",
   "execution_count": 4,
   "metadata": {},
   "outputs": [
    {
     "data": {
      "text/html": [
       "<div>\n",
       "<style scoped>\n",
       "    .dataframe tbody tr th:only-of-type {\n",
       "        vertical-align: middle;\n",
       "    }\n",
       "\n",
       "    .dataframe tbody tr th {\n",
       "        vertical-align: top;\n",
       "    }\n",
       "\n",
       "    .dataframe thead th {\n",
       "        text-align: right;\n",
       "    }\n",
       "</style>\n",
       "<table border=\"1\" class=\"dataframe\">\n",
       "  <thead>\n",
       "    <tr style=\"text-align: right;\">\n",
       "      <th></th>\n",
       "      <th>Congruent</th>\n",
       "      <th>Incongruent</th>\n",
       "      <th>Subject</th>\n",
       "    </tr>\n",
       "  </thead>\n",
       "  <tbody>\n",
       "    <tr>\n",
       "      <th>0</th>\n",
       "      <td>12.079</td>\n",
       "      <td>19.278</td>\n",
       "      <td>1</td>\n",
       "    </tr>\n",
       "    <tr>\n",
       "      <th>1</th>\n",
       "      <td>16.791</td>\n",
       "      <td>18.741</td>\n",
       "      <td>2</td>\n",
       "    </tr>\n",
       "    <tr>\n",
       "      <th>2</th>\n",
       "      <td>9.564</td>\n",
       "      <td>21.214</td>\n",
       "      <td>3</td>\n",
       "    </tr>\n",
       "    <tr>\n",
       "      <th>3</th>\n",
       "      <td>8.630</td>\n",
       "      <td>15.687</td>\n",
       "      <td>4</td>\n",
       "    </tr>\n",
       "    <tr>\n",
       "      <th>4</th>\n",
       "      <td>14.669</td>\n",
       "      <td>22.803</td>\n",
       "      <td>5</td>\n",
       "    </tr>\n",
       "  </tbody>\n",
       "</table>\n",
       "</div>"
      ],
      "text/plain": [
       "   Congruent  Incongruent  Subject\n",
       "0     12.079       19.278        1\n",
       "1     16.791       18.741        2\n",
       "2      9.564       21.214        3\n",
       "3      8.630       15.687        4\n",
       "4     14.669       22.803        5"
      ]
     },
     "execution_count": 4,
     "metadata": {},
     "output_type": "execute_result"
    }
   ],
   "source": [
    "# Load dataset, read into pandas dataframe and add subject column\n",
    "import csv\n",
    "stroop_data = pd.read_csv('stroopdata.csv')\n",
    "stroop_data['Subject'] = stroop_data.index + 1\n",
    "stroop_data.head()"
   ]
  },
  {
   "cell_type": "code",
   "execution_count": 5,
   "metadata": {},
   "outputs": [
    {
     "data": {
      "text/html": [
       "<div>\n",
       "<style scoped>\n",
       "    .dataframe tbody tr th:only-of-type {\n",
       "        vertical-align: middle;\n",
       "    }\n",
       "\n",
       "    .dataframe tbody tr th {\n",
       "        vertical-align: top;\n",
       "    }\n",
       "\n",
       "    .dataframe thead th {\n",
       "        text-align: right;\n",
       "    }\n",
       "</style>\n",
       "<table border=\"1\" class=\"dataframe\">\n",
       "  <thead>\n",
       "    <tr style=\"text-align: right;\">\n",
       "      <th></th>\n",
       "      <th>Congruent</th>\n",
       "      <th>Incongruent</th>\n",
       "      <th>Subject</th>\n",
       "      <th>Difference</th>\n",
       "    </tr>\n",
       "  </thead>\n",
       "  <tbody>\n",
       "    <tr>\n",
       "      <th>0</th>\n",
       "      <td>12.079</td>\n",
       "      <td>19.278</td>\n",
       "      <td>1</td>\n",
       "      <td>-7.199</td>\n",
       "    </tr>\n",
       "    <tr>\n",
       "      <th>1</th>\n",
       "      <td>16.791</td>\n",
       "      <td>18.741</td>\n",
       "      <td>2</td>\n",
       "      <td>-1.950</td>\n",
       "    </tr>\n",
       "    <tr>\n",
       "      <th>2</th>\n",
       "      <td>9.564</td>\n",
       "      <td>21.214</td>\n",
       "      <td>3</td>\n",
       "      <td>-11.650</td>\n",
       "    </tr>\n",
       "    <tr>\n",
       "      <th>3</th>\n",
       "      <td>8.630</td>\n",
       "      <td>15.687</td>\n",
       "      <td>4</td>\n",
       "      <td>-7.057</td>\n",
       "    </tr>\n",
       "    <tr>\n",
       "      <th>4</th>\n",
       "      <td>14.669</td>\n",
       "      <td>22.803</td>\n",
       "      <td>5</td>\n",
       "      <td>-8.134</td>\n",
       "    </tr>\n",
       "  </tbody>\n",
       "</table>\n",
       "</div>"
      ],
      "text/plain": [
       "   Congruent  Incongruent  Subject  Difference\n",
       "0     12.079       19.278        1      -7.199\n",
       "1     16.791       18.741        2      -1.950\n",
       "2      9.564       21.214        3     -11.650\n",
       "3      8.630       15.687        4      -7.057\n",
       "4     14.669       22.803        5      -8.134"
      ]
     },
     "execution_count": 5,
     "metadata": {},
     "output_type": "execute_result"
    }
   ],
   "source": [
    "#Add column to show the difference between response time for congruent and incongruent words\n",
    "stroop_data['Difference'] = stroop_data['Congruent'] - stroop_data['Incongruent']\n",
    "stroop_data.head()"
   ]
  },
  {
   "cell_type": "code",
   "execution_count": 6,
   "metadata": {},
   "outputs": [
    {
     "data": {
      "text/html": [
       "<div>\n",
       "<style scoped>\n",
       "    .dataframe tbody tr th:only-of-type {\n",
       "        vertical-align: middle;\n",
       "    }\n",
       "\n",
       "    .dataframe tbody tr th {\n",
       "        vertical-align: top;\n",
       "    }\n",
       "\n",
       "    .dataframe thead th {\n",
       "        text-align: right;\n",
       "    }\n",
       "</style>\n",
       "<table border=\"1\" class=\"dataframe\">\n",
       "  <thead>\n",
       "    <tr style=\"text-align: right;\">\n",
       "      <th></th>\n",
       "      <th>Congruent</th>\n",
       "      <th>Incongruent</th>\n",
       "      <th>Difference</th>\n",
       "    </tr>\n",
       "  </thead>\n",
       "  <tbody>\n",
       "    <tr>\n",
       "      <th>count</th>\n",
       "      <td>24.000000</td>\n",
       "      <td>24.000000</td>\n",
       "      <td>24.000000</td>\n",
       "    </tr>\n",
       "    <tr>\n",
       "      <th>mean</th>\n",
       "      <td>14.051125</td>\n",
       "      <td>22.015917</td>\n",
       "      <td>-7.964792</td>\n",
       "    </tr>\n",
       "    <tr>\n",
       "      <th>std</th>\n",
       "      <td>3.559358</td>\n",
       "      <td>4.797057</td>\n",
       "      <td>4.864827</td>\n",
       "    </tr>\n",
       "    <tr>\n",
       "      <th>min</th>\n",
       "      <td>8.630000</td>\n",
       "      <td>15.687000</td>\n",
       "      <td>-21.919000</td>\n",
       "    </tr>\n",
       "    <tr>\n",
       "      <th>25%</th>\n",
       "      <td>11.895250</td>\n",
       "      <td>18.716750</td>\n",
       "      <td>-10.258500</td>\n",
       "    </tr>\n",
       "    <tr>\n",
       "      <th>50%</th>\n",
       "      <td>14.356500</td>\n",
       "      <td>21.017500</td>\n",
       "      <td>-7.666500</td>\n",
       "    </tr>\n",
       "    <tr>\n",
       "      <th>75%</th>\n",
       "      <td>16.200750</td>\n",
       "      <td>24.051500</td>\n",
       "      <td>-3.645500</td>\n",
       "    </tr>\n",
       "    <tr>\n",
       "      <th>max</th>\n",
       "      <td>22.328000</td>\n",
       "      <td>35.255000</td>\n",
       "      <td>-1.950000</td>\n",
       "    </tr>\n",
       "  </tbody>\n",
       "</table>\n",
       "</div>"
      ],
      "text/plain": [
       "       Congruent  Incongruent  Difference\n",
       "count  24.000000    24.000000   24.000000\n",
       "mean   14.051125    22.015917   -7.964792\n",
       "std     3.559358     4.797057    4.864827\n",
       "min     8.630000    15.687000  -21.919000\n",
       "25%    11.895250    18.716750  -10.258500\n",
       "50%    14.356500    21.017500   -7.666500\n",
       "75%    16.200750    24.051500   -3.645500\n",
       "max    22.328000    35.255000   -1.950000"
      ]
     },
     "execution_count": 6,
     "metadata": {},
     "output_type": "execute_result"
    }
   ],
   "source": [
    "# Some descriptive statistics regarding this dataset\n",
    "stroop_data[['Congruent', 'Incongruent', 'Difference']].describe()"
   ]
  },
  {
   "cell_type": "markdown",
   "metadata": {},
   "source": [
    "#### Findings:\n",
    "+ Congruent sample has mean = 14.051s and standard deviation = 3.559s.\n",
    "+ Incongruent sample has mean= 22.016s and standard deviation σI = 4.797s.\n",
    "+ We found that the mean, median, minimum and maximum response time for incongruent words are higher than the congruent words. "
   ]
  },
  {
   "cell_type": "markdown",
   "metadata": {},
   "source": [
    "(4) Provide one or two visualizations that show the distribution of the sample data. Write one or two sentences noting what you observe about the plot or plots."
   ]
  },
  {
   "cell_type": "markdown",
   "metadata": {},
   "source": [
    "**Histogram and Rug plot**"
   ]
  },
  {
   "cell_type": "code",
   "execution_count": 7,
   "metadata": {},
   "outputs": [
    {
     "name": "stderr",
     "output_type": "stream",
     "text": [
      "/Users/irene/anaconda3/lib/python3.6/site-packages/matplotlib/axes/_axes.py:6499: MatplotlibDeprecationWarning: \n",
      "The 'normed' kwarg was deprecated in Matplotlib 2.1 and will be removed in 3.1. Use 'density' instead.\n",
      "  alternative=\"'density'\", removal=\"3.1\")\n",
      "/Users/irene/anaconda3/lib/python3.6/site-packages/matplotlib/axes/_axes.py:6499: MatplotlibDeprecationWarning: \n",
      "The 'normed' kwarg was deprecated in Matplotlib 2.1 and will be removed in 3.1. Use 'density' instead.\n",
      "  alternative=\"'density'\", removal=\"3.1\")\n"
     ]
    },
    {
     "data": {
      "image/png": "[encoded data removed]",
      "text/plain": [
       "<Figure size 432x288 with 1 Axes>"
      ]
     },
     "metadata": {},
     "output_type": "display_data"
    }
   ],
   "source": [
    "#Distribution of time response to Congruent and InCongruent Words\n",
    "#with a kernel density estimate,histogram and rug plot\n",
    "sns.distplot(stroop_data['Congruent'], rug = True, label = \"congruent\");\n",
    "sns.distplot(stroop_data['Incongruent'], rug = True, label = \"incongruent\");\n",
    "plt.xlabel(\"Time to complete the test (s)\");\n",
    "plt.ylabel(\"Kernel density\");\n",
    "plt.title(\"Response time for congruent and incongruent words\");\n",
    "plt.legend();"
   ]
  },
  {
   "cell_type": "markdown",
   "metadata": {},
   "source": [
    "#### Observations of Histogram and Rug plot\n",
    "+ Both dependent variables (ie: Time to complete the test in congruent and incongruent) are continuous.\n",
    "+ Both dependent variables (ie: Time to complete the test in congruent and incongruent) have been approximately normally distributed, but there is another small peak in incongruent. So  will check is it an outlier later.  \n",
    "+ The observations are independent of one another."
   ]
  },
  {
   "cell_type": "markdown",
   "metadata": {},
   "source": [
    "**Boxplot**"
   ]
  },
  {
   "cell_type": "code",
   "execution_count": 8,
   "metadata": {},
   "outputs": [
    {
     "data": {
      "image/png": "[encoded data removed]",
      "text/plain": [
       "<Figure size 432x288 with 1 Axes>"
      ]
     },
     "metadata": {},
     "output_type": "display_data"
    }
   ],
   "source": [
    "sns.boxplot(data=stroop_data[['Congruent', 'Incongruent']], orient=\"h\");\n",
    "plt.xlabel(\"Time to complete the test (s)\");"
   ]
  },
  {
   "cell_type": "markdown",
   "metadata": {},
   "source": [
    "#### Observations in Box-plot\n",
    "+ The median of time to complete the test at incongruent is higher than congruent task.\n",
    "+ Time to complete the test in incongruent contain outliers at 33-35 s."
   ]
  },
  {
   "cell_type": "code",
   "execution_count": 9,
   "metadata": {},
   "outputs": [
    {
     "data": {
      "text/plain": [
       "(24, 4)"
      ]
     },
     "execution_count": 9,
     "metadata": {},
     "output_type": "execute_result"
    }
   ],
   "source": [
    "# size of the dataset\n",
    "stroop_data.shape"
   ]
  },
  {
   "cell_type": "markdown",
   "metadata": {},
   "source": [
    "(5)  Now, perform the statistical test and report your results. What is your confidence level or Type I error associated with your test? What is your conclusion regarding the hypotheses you set up? Did the results match up with your expectations? **Hint:**  Think about what is being measured on each individual, and what statistic best captures how an individual reacts in each environment."
   ]
  },
  {
   "cell_type": "markdown",
   "metadata": {},
   "source": [
    "### Paired t-test\n",
    "\n"
   ]
  },
  {
   "cell_type": "markdown",
   "metadata": {
    "collapsed": true
   },
   "source": [
    "**Degree of freedom df = n-1, where n= 24, so df =23**\n"
   ]
  },
  {
   "cell_type": "code",
   "execution_count": 11,
   "metadata": {},
   "outputs": [
    {
     "name": "stdout",
     "output_type": "stream",
     "text": [
      "mean of congurent = 14.051125000000004\n",
      "mean of incongurent = 22.01591666666667\n",
      "mean of the differences = -7.964791666666667\n",
      "standard deviation of the differences = 4.864826910359056\n"
     ]
    }
   ],
   "source": [
    "n=24\n",
    "df=23\n",
    "# Calculte the mean of each test\n",
    "mean_congurent = stroop_data['Congruent'].mean()\n",
    "mean_incongurent = stroop_data['Incongruent'].mean()\n",
    "# Computes mean of the difference\n",
    "mean_of_the_differences = stroop_data['Difference'].mean() \n",
    "# Computes std deviation of the difference \n",
    "stdev_of_the_differences = stroop_data['Difference'].std() \n",
    "print(\"mean of congurent =\", mean_congurent)\n",
    "print(\"mean of incongurent =\", mean_incongurent)\n",
    "print(\"mean of the differences =\", mean_of_the_differences)\n",
    "print(\"standard deviation of the differences =\", stdev_of_the_differences)"
   ]
  },
  {
   "cell_type": "code",
   "execution_count": 16,
   "metadata": {},
   "outputs": [
    {
     "name": "stdout",
     "output_type": "stream",
     "text": [
      "t-statistic = -8.020706944109957\n"
     ]
    }
   ],
   "source": [
    "#t-statistic\n",
    "se = stdev_of_the_differences/float(sqrt(24))\n",
    "t_statistic = mean_of_the_differences/float(se)\n",
    "print(\"t-statistic =\", t_statistic)"
   ]
  },
  {
   "cell_type": "markdown",
   "metadata": {},
   "source": [
    "t-statistic tells us how much the sample mean deviates from the null hypothesis. If the t-statistic lies outside the critical values of the t-distribution corresponding to our confidence level and degrees of freedom, we reject the null hypothesis."
   ]
  },
  {
   "cell_type": "markdown",
   "metadata": {},
   "source": [
    "### t-critical values for two-tailed t-test\n",
    "Significance level(α ) is the criterion used for rejecting null hypothesis. Statisticians have commonly used either the 0.05 level (5% chance) or the 0.01 level (1% chance).\n",
    "\n",
    "**Confidence level = 1 - significance level**\n",
    "\n",
    "Since we hypothesized the possibility of relationship in both directions, we will use a two-tailed test to test our hypothesis. If we are using a significance level of 0.05, two-tailed t-test allocates 0.025 in each tail. Both left and right area are 2.5% of the total area under the curve.\n",
    "\n",
    "**(μ_congruent -  μ_incongruent)** is considered significantly different from **μ0** if the test statistic is in the top 2.5% or bottom 2.5% of its probability distribution, resulting in a p-value less than 0.05."
   ]
  },
  {
   "cell_type": "code",
   "execution_count": 17,
   "metadata": {},
   "outputs": [
    {
     "name": "stdout",
     "output_type": "stream",
     "text": [
      "t-critical values at alpha of 0.05 for two-tailed t-test: (-2.0686576104190411, 2.0686576104190406)\n"
     ]
    }
   ],
   "source": [
    "from scipy import stats\n",
    "# t-critical values at alpha = 0.05 and df = 20 for two-tailed t-test, q = Quantile to check\n",
    "t_critical_values = (stats.t.ppf(q=0.025,df=23), stats.t.ppf(q=0.975,df=23))  \n",
    "print (\"t-critical values at alpha of 0.05 for two-tailed t-test:\", t_critical_values)      "
   ]
  },
  {
   "cell_type": "markdown",
   "metadata": {},
   "source": [
    "We calculated t-statistic is smaller than the critical t-value, it concludes that there is a statistically significant difference between the two populations. Therefore, we reject the null hypothesis that there is statistically significant difference between two populations."
   ]
  },
  {
   "cell_type": "code",
   "execution_count": 18,
   "metadata": {},
   "outputs": [
    {
     "name": "stdout",
     "output_type": "stream",
     "text": [
      "p-value : p = 4.10300058571e-08\n"
     ]
    }
   ],
   "source": [
    "pvalue = stats.t.cdf(x = t_statistic, df = 23 ) * 2 \n",
    "print(\"p-value : p =\", pvalue)"
   ]
  },
  {
   "cell_type": "markdown",
   "metadata": {},
   "source": [
    "where p-value <0.05"
   ]
  },
  {
   "cell_type": "markdown",
   "metadata": {},
   "source": [
    "### Confidence intervals\n",
    "\n",
    "Confidence intervals (CI) is a type of interval estimate, computed from the statistics of the observed data, that might contain the true value of an unknown population parameter. It is common to report 95% confidence intervals."
   ]
  },
  {
   "cell_type": "markdown",
   "metadata": {},
   "source": [
    "### Confidence Level\n",
    "+ The percentage of time that a statistical result would be correct if we took numerous random samples.\n",
    "+ There is no such thing as a 100% confidence level, since this would require a sample size as large as the entire population. \n",
    "+ The most commonly selected confidence levels are 95% or 99%.\n",
    "+ Confidence level is also closely related to the statistical term α (Alpha), which is the probability of creating a Type 1 error:\n",
    " **Confidence Level = 1 – α**\n",
    " \n",
    "+ A Type 1 error is when we incorrectly conclude that an experiment was successful in detecting an improvement, but it actually was not. Obviously, this could be a serious and costly mistake.\n",
    "+ The greater the confidence level, the lower the α value, so an adequate confidence level is an important component in any meaningful testing."
   ]
  },
  {
   "cell_type": "markdown",
   "metadata": {},
   "source": [
    "#### In this project, I selected confidence levels 95% for analysis."
   ]
  },
  {
   "cell_type": "code",
   "execution_count": 19,
   "metadata": {},
   "outputs": [
    {
     "data": {
      "text/plain": [
       "(-9.9110920264491931, -6.0184913068841404)"
      ]
     },
     "execution_count": 19,
     "metadata": {},
     "output_type": "execute_result"
    }
   ],
   "source": [
    "#95% CI\n",
    "stats.norm.interval(0.95, loc = mean_of_the_differences, scale = se)"
   ]
  },
  {
   "cell_type": "markdown",
   "metadata": {},
   "source": [
    "### Observation"
   ]
  },
  {
   "cell_type": "markdown",
   "metadata": {},
   "source": [
    "We observed that\n",
    "+ t-Statistic is smaller than t-critical value, in the critical region with p-value < 0.05.\n",
    "+ We reject the Null Hypothesis with a 95% Confidence level and conclude that there is a significant difference in congruent and incongruent tasks.\n",
    "+ The results match up with our observations and expectations that there is indeed a statistically significant difference in the response time to perform the incongruent test compared to the congruent test.\n",
    "+ It takes longer time to complete incongruent task."
   ]
  },
  {
   "cell_type": "markdown",
   "metadata": {},
   "source": [
    "(6) Optional: What do you think is responsible for the effects observed? Can you think of an alternative or similar task that would result in a similar effect? Some research about the problem will be helpful for thinking about these two questions!\n"
   ]
  },
  {
   "cell_type": "markdown",
   "metadata": {},
   "source": [
    "+ As habitual readers, we encounter and comprehend words on such a persistent basis that the reading occurs almost effortlessly, whereas declaration of a color requires more cognitive effort. \n",
    "+ When there is a conflict between these two sources of information, our cognitive load is increased, and our brains have to work harder to resolve the required difference. \n",
    "+ Performing these tasks (preventing reading, processing word color, and resolving information conflict) ultimately slows down our responses, and makes the task take longer."
   ]
  },
  {
   "cell_type": "markdown",
   "metadata": {},
   "source": [
    "#### Alternative task\n",
    "**Emotional Stroop Test**\n",
    "+ Participants complete both the original Stroop, and a version which has both neutral and emotionally charged words. The resulting text features words such as “pain” or “joy” amongst everyday words. \n",
    "+ Research has shown that anxious people were likely to experience more interference (i.e. more time spent declaring word color) with emotionally charged words, suggesting a preponderance of the emotional word content."
   ]
  },
  {
   "cell_type": "markdown",
   "metadata": {},
   "source": [
    "### Reference:\n",
    "https://imotions.com/blog/the-stroop-effect/"
   ]
  }
 ],
 "metadata": {
  "kernelspec": {
   "display_name": "Python 3",
   "language": "python",
   "name": "python3"
  },
  "language_info": {
   "codemirror_mode": {
    "name": "ipython",
    "version": 3
   },
   "file_extension": ".py",
   "mimetype": "text/x-python",
   "name": "python",
   "nbconvert_exporter": "python",
   "pygments_lexer": "ipython3",
   "version": "3.6.5"
  }
 },
 "nbformat": 4,
 "nbformat_minor": 2
}
