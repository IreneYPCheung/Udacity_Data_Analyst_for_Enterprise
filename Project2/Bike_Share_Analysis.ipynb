{
 "cells": [
  {
   "cell_type": "markdown",
   "metadata": {},
   "source": [
    "# 2016 US Bike Share Activity Snapshot\n",
    "\n",
    "## Table of Contents\n",
    "- [Introduction](#intro)\n",
    "- [Posing Questions](#pose_questions)\n",
    "- [Data Collection and Wrangling](#wrangling)\n",
    "  - [Condensing the Trip Data](#condensing)\n",
    "- [Exploratory Data Analysis](#eda)\n",
    "  - [Statistics](#statistics)\n",
    "  - [Visualizations](#visualizations)\n",
    "- [Performing Your Own Analysis](#eda_continued)\n",
    "- [Conclusions](#conclusions)\n",
    "\n",
    "<a id='intro'></a>\n",
    "## Introduction\n",
    "\n",
    "Over the past decade, bicycle-sharing systems have been growing in number and popularity in cities across the world. Bicycle-sharing systems allow users to rent bicycles for short trips, typically 30 minutes or less. Thanks to the rise in information technologies, it is easy for a user of the system to access a dock within the system to unlock or return bicycles. These technologies also provide a wealth of data that can be used to explore how these bike-sharing systems are used.\n",
    "\n",
    "In this project, you will perform an exploratory analysis on data provided by [Motivate](https://www.motivateco.com/), a bike-share system provider for many major cities in the United States. You will compare the system usage between three large cities: New York City, Chicago, and Washington, DC. You will also see if there are any differences within each system for those users that are registered, regular users and those users that are short-term, casual users."
   ]
  },
  {
   "cell_type": "markdown",
   "metadata": {},
   "source": [
    "<a id='pose_questions'></a>\n",
    "## Posing Questions\n",
    "\n",
    "Before looking at the bike sharing data, you should start by asking questions you might want to understand about the bike share data. Consider, for example, if you were working for Motivate. What kinds of information would you want to know about in order to make smarter business decisions? If you were a user of the bike-share service, what factors might influence how you would want to use the service?\n",
    "\n",
    "**Question 1**: Write at least two questions related to bike sharing that you think could be answered by data.\n",
    "\n",
    "**Answer**: \n",
    "### Which city has the highest number of bike sharing users?\n",
    "### When is the peak hour of users using bike?\n",
    "\n",
   ]
  },
  {
   "cell_type": "markdown",
   "metadata": {},
   "source": [
    "<a id='wrangling'></a>\n",
    "## Data Collection and Wrangling\n",
    "\n",
    "Now it's time to collect and explore our data. In this project, we will focus on the record of individual trips taken in 2016 from our selected cities: New York City, Chicago, and Washington, DC. Each of these cities has a page where we can freely download the trip data.:\n",
    "\n",
    "- New York City (Citi Bike): [Link](https://www.citibikenyc.com/system-data)\n",
    "- Chicago (Divvy): [Link](https://www.divvybikes.com/system-data)\n",
    "- Washington, DC (Capital Bikeshare): [Link](https://www.capitalbikeshare.com/system-data)\n",
    "\n",
    "If you visit these pages, you will notice that each city has a different way of delivering its data. Chicago updates with new data twice a year, Washington DC is quarterly, and New York City is monthly. **However, you do not need to download the data yourself.** The data has already been collected for you in the `/data/` folder of the project files. While the original data for 2016 is spread among multiple files for each city, the files in the `/data/` folder collect all of the trip data for the year into one file per city. Some data wrangling of inconsistencies in timestamp format within each city has already been performed for you. In addition, a random 2% sample of the original data is taken to make the exploration more manageable. \n",
    "\n",
    "**Question 2**: However, there is still a lot of data for us to investigate, so it's a good idea to start off by looking at one entry from each of the cities we're going to analyze. Run the first code cell below to load some packages and functions that you'll be using in your analysis. Then, complete the second code cell to print out the first trip recorded from each of the cities (the second line of each data file).\n",
    "\n",
   ]
  },
  {
   "cell_type": "code",
   "execution_count": 1,
   "metadata": {},
   "outputs": [],
   "source": [
    "## import all necessary packages and functions.\n",
    "import csv # read and write csv files\n",
    "from datetime import datetime # operations to parse dates\n",
    "from pprint import pprint # use to print data structures like dictionaries in\n",
    "                          # a nicer way than the base print function."
   ]
  },
  {
   "cell_type": "code",
   "execution_count": 2,
   "metadata": {},
   "outputs": [
    {
     "name": "stdout",
     "output_type": "stream",
     "text": [
      "\n",
      "City: NYC\n",
      "OrderedDict([('tripduration', '839'),\n",
      "             ('starttime', '1/1/2016 00:09:55'),\n",
      "             ('stoptime', '1/1/2016 00:23:54'),\n",
      "             ('start station id', '532'),\n",
      "             ('start station name', 'S 5 Pl & S 4 St'),\n",
      "             ('start station latitude', '40.710451'),\n",
      "             ('start station longitude', '-73.960876'),\n",
      "             ('end station id', '401'),\n",
      "             ('end station name', 'Allen St & Rivington St'),\n",
      "             ('end station latitude', '40.72019576'),\n",
      "             ('end station longitude', '-73.98997825'),\n",
      "             ('bikeid', '17109'),\n",
      "             ('usertype', 'Customer'),\n",
      "             ('birth year', ''),\n",
      "             ('gender', '0')])\n",
      "\n",
      "City: Chicago\n",
      "OrderedDict([('trip_id', '9080545'),\n",
      "             ('starttime', '3/31/2016 23:30'),\n",
      "             ('stoptime', '3/31/2016 23:46'),\n",
      "             ('bikeid', '2295'),\n",
      "             ('tripduration', '926'),\n",
      "             ('from_station_id', '156'),\n",
      "             ('from_station_name', 'Clark St & Wellington Ave'),\n",
      "             ('to_station_id', '166'),\n",
      "             ('to_station_name', 'Ashland Ave & Wrightwood Ave'),\n",
      "             ('usertype', 'Subscriber'),\n",
      "             ('gender', 'Male'),\n",
      "             ('birthyear', '1990')])\n",
      "\n",
      "City: Washington\n",
      "OrderedDict([('Duration (ms)', '427387'),\n",
      "             ('Start date', '3/31/2016 22:57'),\n",
      "             ('End date', '3/31/2016 23:04'),\n",
      "             ('Start station number', '31602'),\n",
      "             ('Start station', 'Park Rd & Holmead Pl NW'),\n",
      "             ('End station number', '31207'),\n",
      "             ('End station', 'Georgia Ave and Fairmont St NW'),\n",
      "             ('Bike number', 'W20842'),\n",
      "             ('Member Type', 'Registered')])\n"
     ]
    }
   ],
   "source": [
    "def print_first_point(filename):\n",
    "    \"\"\"\n",
    "    This function prints and returns the first data point (second row) from\n",
    "    a csv file that includes a header row.\n",
    "    \"\"\"\n",
    "    # print city name for reference\n",
    "    city = filename.split('-')[0].split('/')[-1]\n",
    "    print('\\nCity: {}'.format(city))\n",
    "    \n",
    "    with open(filename, 'r') as f_in:\n",
    "        ## TODO: Use the csv library to set up a DictReader object. ##\n",
    "        ## see https://docs.python.org/3/library/csv.html           ##\n",
    "        trip_reader = csv.DictReader(f_in)\n",
    "        \n",
    "        ## TODO: Use a function on the DictReader object to read the     ##\n",
    "        ## first trip from the data file and store it in a variable.     ##\n",
    "        ## see https://docs.python.org/3/library/csv.html#reader-objects ##\n",
    "        first_trip =next(trip_reader)\n",
    "        \n",
    "        ## TODO: Use the pprint library to print the first trip. ##\n",
    "        ## see https://docs.python.org/3/library/pprint.html     ##\n",
    "        pprint(first_trip)\n",
    "    # output city name and first trip for later testing\n",
    "    return (city, first_trip)\n",
    "\n",
    "# list of files for each city\n",
    "data_files = ['/Users/irene/Desktop/Project_2 2016 US Bike Share Activity/data/NYC-CitiBike-2016.csv',\n",
    "              '/Users/irene/Desktop/Project_2 2016 US Bike Share Activity/data/Chicago-Divvy-2016.csv',\n",
    "              '/Users/irene/Desktop/Project_2 2016 US Bike Share Activity/data/Washington-CapitalBikeshare-2016.csv',]\n",
    "\n",
    "# print the first trip from each file, store in dictionary\n",
    "example_trips = {}\n",
    "for data_file in data_files:\n",
    "    city, first_trip = print_first_point(data_file)\n",
    "    example_trips[city] = first_trip"
   ]
  },
  {
   "cell_type": "markdown",
   "metadata": {},
   "source": [
    "If everything has been filled out correctly, you should see below the printout of each city name (which has been parsed from the data file name) that the first trip has been parsed in the form of a dictionary. When you set up a `DictReader` object, the first row of the data file is normally interpreted as column names. Every other row in the data file will use those column names as keys, as a dictionary is generated for each row.\n",
    "\n",
    "This will be useful since we can refer to quantities by an easily-understandable label instead of just a numeric index. For example, if we have a trip stored in the variable `row`, then we would rather get the trip duration from `row['duration']` instead of `row[0]`.\n",
    "\n",
    "<a id='condensing'></a>\n",
    "### Condensing the Trip Data\n",
    "\n",
    "It should also be observable from the above printout that each city provides different information. Even where the information is the same, the column names and formats are sometimes different. To make things as simple as possible when we get to the actual exploration, we should trim and clean the data. Cleaning the data makes sure that the data formats across the cities are consistent, while trimming focuses only on the parts of the data we are most interested in to make the exploration easier to work with.\n",
    "\n",
    "You will generate new data files with five values of interest for each trip: trip duration, starting month, starting hour, day of the week, and user type. Each of these may require additional wrangling depending on the city:\n",
    "\n",
    "- **Duration**: This has been given to us in seconds (New York, Chicago) or milliseconds (Washington). A more natural unit of analysis will be if all the trip durations are given in terms of minutes.\n",
    "- **Month**, **Hour**, **Day of Week**: Ridership volume is likely to change based on the season, time of day, and whether it is a weekday or weekend. Use the start time of the trip to obtain these values. The New York City data includes the seconds in their timestamps, while Washington and Chicago do not. The [`datetime`](https://docs.python.org/3/library/datetime.html) package will be very useful here to make the needed conversions.\n",
    "- **User Type**: It is possible that users who are subscribed to a bike-share system will have different patterns of use compared to users who only have temporary passes. Washington divides its users into two types: 'Registered' for users with annual, monthly, and other longer-term subscriptions, and 'Casual', for users with 24-hour, 3-day, and other short-term passes. The New York and Chicago data uses 'Subscriber' and 'Customer' for these groups, respectively. For consistency, you will convert the Washington labels to match the other two.\n",
    "\n",
    "\n",
    "**Question 3a**: Complete the helper functions in the code cells below to address each of the cleaning tasks described above."
   ]
  },
  {
   "cell_type": "code",
   "execution_count": 3,
   "metadata": {},
   "outputs": [],
   "source": [
    "def duration_in_mins(datum, city):\n",
    "    \"\"\"\n",
    "    Takes as input a dictionary containing info about a single trip (datum) and\n",
    "    its origin city (city) and returns the trip duration in units of minutes.\n",
    "    \n",
    "    Remember that Washington is in terms of milliseconds while Chicago and NYC\n",
    "    are in terms of seconds. \n",
    "    \n",
    "    HINT: The csv module reads in all of the data as strings, including numeric\n",
    "    values. You will need a function to convert the strings into an appropriate\n",
    "    numeric type when making your transformations.\n",
    "    see https://docs.python.org/3/library/functions.html\n",
    "    \"\"\"\n",
    "    if city == 'Washington':\n",
    "        duration = int(datum['Duration (ms)'])/60000          \n",
    "    elif city == 'NYC':\n",
    "        duration = int(datum['tripduration'])/60    \n",
    "    else:\n",
    "        duration = int(datum['tripduration'])/60\n",
    "    return duration\n",
    "\n",
    "# Some tests to check that your code works. There should be no output if all of\n",
    "# the assertions pass. The `example_trips` dictionary was obtained from when\n",
    "# you printed the first trip from each of the original data files.\n",
    "tests = {'NYC': 13.9833,\n",
    "         'Chicago': 15.4333,\n",
    "         'Washington': 7.1231}\n",
    "\n",
    "for city in tests:\n",
    "    assert abs(duration_in_mins(example_trips[city], city) - tests[city]) < .001"
   ]
  },
  {
   "cell_type": "code",
   "execution_count": 4,
   "metadata": {},
   "outputs": [],
   "source": [
    "def time_of_trip(datum, city):\n",
    "    \"\"\"\n",
    "    Takes as input a dictionary containing info about a single trip (datum) and\n",
    "    its origin city (city) and returns the month, hour, and day of the week in\n",
    "    which the trip was made.\n",
    "    \n",
    "    Remember that NYC includes seconds, while Washington and Chicago do not.\n",
    "    \n",
    "    HINT: You should use the datetime module to parse the original date\n",
    "    strings into a format that is useful for extracting the desired information.\n",
    "    see https://docs.python.org/3/library/datetime.html#strftime-and-strptime-behavior\n",
    "    \"\"\"\n",
    "    from datetime import datetime\n",
    "    if city == 'NYC':\n",
    "        trip_date = datetime.strptime(datum['starttime'], \"%m/%d/%Y %H:%M:%S\")\n",
    "        month = trip_date.month\n",
    "        hour = trip_date.hour\n",
    "        day_of_week = trip_date.strftime('%A')\n",
    "    elif city == 'Washington':\n",
    "        trip_date = datetime.strptime(datum['Start date'], \"%m/%d/%Y %H:%M\")\n",
    "        month = trip_date.month\n",
    "        hour = trip_date.hour\n",
    "        day_of_week = trip_date.strftime('%A')\n",
    "    elif city == 'Chicago':\n",
    "        trip_date = datetime.strptime(datum['starttime'], \"%m/%d/%Y %H:%M\") \n",
    "        month = trip_date.month\n",
    "        hour = trip_date.hour\n",
    "        day_of_week = trip_date.strftime('%A')\n",
    "    \n",
    "    return (month, hour, day_of_week)\n",
    "\n",
    "\n",
    "# Some tests to check that your code works. There should be no output if all of\n",
    "# the assertions pass. The `example_trips` dictionary was obtained from when\n",
    "# you printed the first trip from each of the original data files.\n",
    "tests = {'NYC': (1, 0, 'Friday'),\n",
    "         'Chicago': (3, 23, 'Thursday'),\n",
    "         'Washington': (3, 22, 'Thursday')}\n",
    "\n",
    "for city in tests:\n",
    "    assert time_of_trip(example_trips[city], city) == tests[city]"
   ]
  },
  {
   "cell_type": "code",
   "execution_count": 5,
   "metadata": {},
   "outputs": [],
   "source": [
    "def type_of_user(datum, city):\n",
    "    \"\"\"\n",
    "    Takes as input a dictionary containing info about a single trip (datum) and\n",
    "    its origin city (city) and returns the type of system user that made the\n",
    "    trip.\n",
    "    \n",
    "    Remember that Washington has different category names compared to Chicago\n",
    "    and NYC. \n",
    "    \"\"\"\n",
    "    \n",
    "    if city == 'Washington':\n",
    "        if datum['Member Type'] == 'Registered':\n",
    "            user_type = 'Subscriber'\n",
    "        else:\n",
    "            user_type = 'Customer'\n",
    "    elif city == 'NYC':\n",
    "        user_type = datum['usertype']\n",
    "    elif city == 'Chicago':\n",
    "        user_type = datum['usertype']\n",
    "    \n",
    "    return user_type\n",
    "\n",
    "\n",
    "# Some tests to check that your code works. There should be no output if all of\n",
    "# the assertions pass. The `example_trips` dictionary was obtained from when\n",
    "# you printed the first trip from each of the original data files.\n",
    "tests = {'NYC': 'Customer',\n",
    "         'Chicago': 'Subscriber',\n",
    "         'Washington': 'Subscriber'}\n",
    "\n",
    "for city in tests:\n",
    "    assert type_of_user(example_trips[city], city) == tests[city]"
   ]
  },
  {
   "cell_type": "markdown",
   "metadata": {},
   "source": [
    "**Question 3b**: Now, use the helper functions you wrote above to create a condensed data file for each city consisting only of the data fields indicated above. In the `/examples/` folder, you will see an example datafile from the [Bay Area Bike Share](http://www.bayareabikeshare.com/open-data) before and after conversion. Make sure that your output is formatted to be consistent with the example file."
   ]
  },
  {
   "cell_type": "code",
   "execution_count": 6,
   "metadata": {},
   "outputs": [],
   "source": [
    "def condense_data(in_file, out_file, city):\n",
    "    \"\"\"\n",
    "    This function takes full data from the specified input file\n",
    "    and writes the condensed data to a specified output file. The city\n",
    "    argument determines how the input file will be parsed.\n",
    "    \n",
    "    HINT: See the cell below to see how the arguments are structured!\n",
    "    \"\"\"\n",
    "    \n",
    "    with open(out_file, 'w') as f_out, open(in_file, 'r') as f_in:\n",
    "        # set up csv DictWriter object - writer requires column names for the\n",
    "        # first row as the \"fieldnames\" argument\n",
    "        out_colnames = ['duration', 'month', 'hour', 'day_of_week', 'user_type']        \n",
    "        trip_writer = csv.DictWriter(f_out, fieldnames = out_colnames)\n",
    "        trip_writer.writeheader()\n",
    "        \n",
    "        ## TODO: set up csv DictReader object ##\n",
    "        trip_reader = csv.DictReader(f_in)\n",
    "\n",
    "        # collect data from and process each row\n",
    "        for row in trip_reader:\n",
    "            # set up a dictionary to hold the values for the cleaned and trimmed\n",
    "            # data point\n",
    "            new_point = {}\n",
    "\n",
    "            ## TODO: use the helper functions to get the cleaned data from  ##\n",
    "            ## the original data dictionaries.                              ##\n",
    "            ## Note that the keys for the new_point dictionary should match ##\n",
    "            ## the column names set in the DictWriter object above.         ##\n",
    "            new_point = {}\n",
    "            new_point['duration'] = duration_in_mins(row,city)\n",
    "            new_point['month'] = time_of_trip(row,city)[0]\n",
    "            new_point['hour'] = time_of_trip(row,city)[1]\n",
    "            new_point['day_of_week'] = time_of_trip(row,city)[2]\n",
    "            new_point['user_type'] = type_of_user(row,city)\n",
    "            trip_writer.writerow(new_point)\n",
    "\n",
    "            ## TODO: write the processed information to the output file.     ##\n",
    "            ## see https://docs.python.org/3/library/csv.html#writer-objects ##\n",
    "            \n",
    "            "
   ]
  },
  {
   "cell_type": "code",
   "execution_count": 7,
   "metadata": {},
   "outputs": [
    {
     "name": "stdout",
     "output_type": "stream",
     "text": [
      "\n",
      "City: Washington\n",
      "OrderedDict([('duration', '7.123116666666666'),\n",
      "             ('month', '3'),\n",
      "             ('hour', '22'),\n",
      "             ('day_of_week', 'Thursday'),\n",
      "             ('user_type', 'Subscriber')])\n",
      "\n",
      "City: Chicago\n",
      "OrderedDict([('duration', '15.433333333333334'),\n",
      "             ('month', '3'),\n",
      "             ('hour', '23'),\n",
      "             ('day_of_week', 'Thursday'),\n",
      "             ('user_type', 'Subscriber')])\n",
      "\n",
      "City: NYC\n",
      "OrderedDict([('duration', '13.983333333333333'),\n",
      "             ('month', '1'),\n",
      "             ('hour', '0'),\n",
      "             ('day_of_week', 'Friday'),\n",
      "             ('user_type', 'Customer')])\n"
     ]
    }
   ],
   "source": [
    "# Run this cell to check your work\n",
    "city_info = {'Washington': {'in_file': '/Users/irene/Desktop/Project_2 2016 US Bike Share Activity/data/Washington-CapitalBikeshare-2016.csv',\n",
    "                            'out_file': '/Users/irene/Desktop/Project_2 2016 US Bike Share Activity/data/Washington-2016-Summary.csv'},\n",
    "             'Chicago': {'in_file': '/Users/irene/Desktop/Project_2 2016 US Bike Share Activity/data/Chicago-Divvy-2016.csv',\n",
    "                         'out_file': '/Users/irene/Desktop/Project_2 2016 US Bike Share Activity/data/Chicago-2016-Summary.csv'},\n",
    "             'NYC': {'in_file': '/Users/irene/Desktop/Project_2 2016 US Bike Share Activity/data/NYC-CitiBike-2016.csv',\n",
    "                     'out_file': '/Users/irene/Desktop/Project_2 2016 US Bike Share Activity/data/NYC-2016-Summary.csv'}}\n",
    "\n",
    "for city, filenames in city_info.items():\n",
    "    condense_data(filenames['in_file'], filenames['out_file'], city)\n",
    "    print_first_point(filenames['out_file'])"
   ]
  },
  {
   "cell_type": "markdown",
   "metadata": {},
   "source": [
    "> **Tip**: If you save a jupyter Notebook, the output from running code blocks will also be saved. However, the state of your workspace will be reset once a new session is started. Make sure that you run all of the necessary code blocks from your previous session to reestablish variables and functions before picking up where you last left off.\n",
    "\n",
    "<a id='eda'></a>\n",
    "## Exploratory Data Analysis\n",
    "\n",
    "Now that you have the data collected and wrangled, you're ready to start exploring the data. In this section you will write some code to compute descriptive statistics from the data. You will also be introduced to the `matplotlib` library to create some basic histograms of the data.\n",
    "\n",
    "<a id='statistics'></a>\n",
    "### Statistics\n",
    "\n",
    "First, let's compute some basic counts. The first cell below contains a function that uses the csv module to iterate through a provided data file, returning the number of trips made by subscribers and customers. The second cell runs this function on the example Bay Area data in the `/examples/` folder. Modify the cells to answer the question below.\n",
    "\n",
    "**Question 4a**: Which city has the highest number of trips? Which city has the highest proportion of trips made by subscribers? Which city has the highest proportion of trips made by short-term customers?\n",
    "\n",
    "**Answer**: \n",
    "### NYC has the highest number of trips (counts: 276798). \n",
    "### NYC has the highest proportion of trips made by subscribers (88.84%). \n",
    "### Chicago has the highest proportion of short-term customers (23.77%)."
   ]
  },
  {
   "cell_type": "code",
   "execution_count": 8,
   "metadata": {},
   "outputs": [],
   "source": [
    "def number_of_trips(filename):\n",
    "    \"\"\"\n",
    "    This function reads in a file with trip data and reports the number of\n",
    "    trips made by subscribers, customers, and total overall.\n",
    "    \"\"\"\n",
    "    with open(filename, 'r') as f_in:\n",
    "        # set up csv reader object\n",
    "        reader = csv.DictReader(f_in)\n",
    "        \n",
    "        # initialize count variables\n",
    "        n_subscribers = 0\n",
    "        n_customers = 0\n",
    "        \n",
    "        # tally up ride types\n",
    "        for row in reader:\n",
    "            if row['user_type'] == 'Subscriber':\n",
    "                n_subscribers += 1\n",
    "            else:\n",
    "                n_customers += 1\n",
    "        \n",
    "        # compute total number of rides\n",
    "        n_total = n_subscribers + n_customers\n",
    "        \n",
    "        # return tallies as a tuple\n",
    "        return(n_subscribers, n_customers, n_total)"
   ]
  },
  {
   "cell_type": "code",
   "execution_count": 9,
   "metadata": {},
   "outputs": [
    {
     "name": "stdout",
     "output_type": "stream",
     "text": [
      "\n",
      "City: Washington\n",
      "Number of trips:  66326\n",
      "Proportion of trips made by subscribers:  78.0282242257938\n",
      "Proportion of trips made by customers:  21.971775774206193\n",
      "\n",
      "City: Chicago\n",
      "Number of trips:  72131\n",
      "Proportion of trips made by subscribers:  76.22520136973007\n",
      "Proportion of trips made by customers:  23.774798630269924\n",
      "\n",
      "City: NYC\n",
      "Number of trips:  276798\n",
      "Proportion of trips made by subscribers:  88.83590199351151\n",
      "Proportion of trips made by customers:  11.164098006488485\n"
     ]
    }
   ],
   "source": [
    "## Modify this and the previous cell to answer Question 4a. Remember to run ##\n",
    "## the function on the cleaned data files you created from Question 3.      ##\n",
    "\n",
    "city_info = {'Washington': '/Users/irene/Desktop/Project_2 2016 US Bike Share Activity/data/Washington-2016-Summary.csv',\n",
    "             'Chicago': '/Users/irene/Desktop/Project_2 2016 US Bike Share Activity/data/Chicago-2016-Summary.csv',\n",
    "             'NYC': '/Users/irene/Desktop/Project_2 2016 US Bike Share Activity/data/NYC-2016-Summary.csv'}\n",
    "\n",
    "for city, filename in city_info.items():\n",
    "    n_subscribers, n_customers, n_total = number_of_trips(filename)\n",
    "    print('\\nCity: {}'.format(city))\n",
    "    print('Number of trips: ', n_total)\n",
    "    print('Proportion of trips made by subscribers: ', n_subscribers/n_total*100)\n",
    "    print('Proportion of trips made by customers: ', n_customers/n_total*100)\n"
   ]
  },
  {
   "cell_type": "markdown",
   "metadata": {},
   "source": [
    "> **Tip**: In order to add additional cells to a notebook, you can use the \"Insert Cell Above\" and \"Insert Cell Below\" options from the menu bar above. There is also an icon in the toolbar for adding new cells, with additional icons for moving the cells up and down the document. By default, new cells are of the code type; you can also specify the cell type (e.g. Code or Markdown) of selected cells from the Cell menu or the dropdown in the toolbar.\n",
    "\n",
    "Now, you will write your own code to continue investigating properties of the data.\n",
    "\n",
    "**Question 4b**: Bike-share systems are designed for riders to take short trips. Most of the time, users are allowed to take trips of 30 minutes or less with no additional charges, with overage charges made for trips of longer than that duration. What is the average trip length for each city? What proportion of rides made in each city are longer than 30 minutes?\n",
    "\n",
    "**Answer**: \n",
    "### The average trip length for NYC is 15.81 min, Washington is 18.93 min, Chicago is 16.56 min. \n",
    "### Proportion of rides which are longer than 30 minutes in NYC is 7.3 %, Washington, 10.83 %, Chicago is 8.33 % "
   ]
  },
  {
   "cell_type": "code",
   "execution_count": 10,
   "metadata": {
    "scrolled": true
   },
   "outputs": [],
   "source": [
    "## Use this and additional cells to answer Question 4b.                 ##\n",
    "##                                                                      ##\n",
    "## HINT: The csv module reads in all of the data as strings, including  ##\n",
    "## numeric values. You will need a function to convert the strings      ##\n",
    "## into an appropriate numeric type before you aggregate data.          ##\n",
    "\n",
    "def length_of_trip(filename):\n",
    "    with open(filename, 'r') as f_in:\n",
    "        # set up csv reader object\n",
    "        reader = csv.DictReader(f_in)\n",
    "        \n",
    "        #set up counter variables\n",
    "        trip1 = 0\n",
    "        trip2 = 0\n",
    "        total_time = 0\n",
    "      \n",
    "        for row in reader:\n",
    "            total_time += float(row['duration'])\n",
    "            if float(row['duration']) <= 30: #trips of 30 minutes or less \n",
    "                trip1 += 1\n",
    "            elif float(row['duration']) > 30: #trips longer than 30 minutes\n",
    "                trip2 += 1\n",
    "        trip_total = trip1 + trip2\n",
    "        \n",
    "        average_duration = total_time / trip_total\n",
    "        under_30 = float(trip1 / trip_total)*100\n",
    "        over_30 = float(trip2 / trip_total)*100\n",
    "        \n",
    "        return (average_duration, under_30, over_30)"
   ]
  },
  {
   "cell_type": "code",
   "execution_count": 11,
   "metadata": {},
   "outputs": [
    {
     "name": "stdout",
     "output_type": "stream",
     "text": [
      "\n",
      "City: Washington\n",
      "Proportion of trips under 30 min:  89.16111328890631\n",
      "Proportion of trips over 30 min:  10.83888671109369\n",
      "Average length of trips:  18.93287355913721\n",
      "\n",
      "City: Chicago\n",
      "Proportion of trips under 30 min:  91.66793750259944\n",
      "Proportion of trips over 30 min:  8.332062497400562\n",
      "Average length of trips:  16.563629368787335\n",
      "\n",
      "City: NYC\n",
      "Proportion of trips under 30 min:  92.69756284366217\n",
      "Proportion of trips over 30 min:  7.3024371563378345\n",
      "Average length of trips:  15.81259299802294\n"
     ]
    }
   ],
   "source": [
    "city_info = {'Washington': '/Users/irene/Desktop/Project_2 2016 US Bike Share Activity/data/Washington-2016-Summary.csv',\n",
    "             'Chicago': '/Users/irene/Desktop/Project_2 2016 US Bike Share Activity/data/Chicago-2016-Summary.csv',\n",
    "             'NYC': '/Users/irene/Desktop/Project_2 2016 US Bike Share Activity/data/NYC-2016-Summary.csv'}\n",
    "\n",
    "for city, filename in city_info.items():\n",
    "    average_duration, under_30, over_30 = length_of_trip(filename)\n",
    "    print('\\nCity: {}'.format(city))\n",
    "    print('Proportion of trips under 30 min: ', under_30)\n",
    "    print('Proportion of trips over 30 min: ', over_30)\n",
    "    print('Average length of trips: ', average_duration)"
   ]
  },
  {
   "cell_type": "markdown",
   "metadata": {},
   "source": [
    "### Validation with Bay Area example"
   ]
  },
  {
   "cell_type": "code",
   "execution_count": 12,
   "metadata": {},
   "outputs": [
    {
     "name": "stdout",
     "output_type": "stream",
     "text": [
      "Proportion of trips under 30 min:  96.47563105254802\n",
      "Proportion of trips over 30 min:  3.5243689474519764\n",
      "Average length of trips:  14.038656929671422\n"
     ]
    }
   ],
   "source": [
    "## TIP: For the Bay Area example, the average trip length is 14 minutes ##\n",
    "## and 3.5% of trips are longer than 30 minutes.                        ##\n",
    "filename = '/Users/irene/Desktop/Project_2 2016 US Bike Share Activity/examples/BayArea-Y3-Summary.csv'\n",
    "average_duration, under_30, over_30 = length_of_trip(filename)\n",
    "print('Proportion of trips under 30 min: ', under_30)\n",
    "print('Proportion of trips over 30 min: ', over_30)\n",
    "print('Average length of trips: ', average_duration)\n"
   ]
  },
  {
   "cell_type": "markdown",
   "metadata": {},
   "source": [
    "**Question 4c**: Dig deeper into the question of trip duration based on ridership. Choose one city. Within that city, which type of user takes longer rides on average: Subscribers or Customers?\n",
    "\n",
    "**Answer**: \n",
    "### On average at NYC, user type with \"customer\" (~32.98 mins) are taking longer rides than \"subscriber\" (~13.68 mins)."
   ]
  },
  {
   "cell_type": "code",
   "execution_count": 13,
   "metadata": {},
   "outputs": [],
   "source": [
    "## Use this and additional cells to answer Question 4c. If you have    ##\n",
    "## not done so yet, consider revising some of your previous code to    ##\n",
    "## make use of functions for reusability.                              ##\n",
    "\n",
    "def rider_comparison(filename):\n",
    "    with open(filename, 'r') as f_in:\n",
    "        # set up csv reader object\n",
    "        reader = csv.DictReader(f_in)\n",
    " \n",
    "        sub_trip = 0\n",
    "        cust_trip = 0\n",
    "        sub_time = 0\n",
    "        cust_time = 0\n",
    "        average_sub =0\n",
    "        average_cust =0\n",
    "        \n",
    "        for row in reader:\n",
    "            if row['user_type'] == 'Subscriber':\n",
    "                sub_time += float(row['duration'])\n",
    "                sub_trip += 1\n",
    "            elif row['user_type'] == 'Customer':\n",
    "                cust_time += float(row['duration'])\n",
    "                cust_trip += 1\n",
    "        average_sub = sub_time / sub_trip\n",
    "        average_cust = cust_time / cust_trip\n",
    "        \n",
    "        return (average_sub, average_cust)"
   ]
  },
  {
   "cell_type": "markdown",
   "metadata": {},
   "source": [
    "### Validation with Bay Area example"
   ]
  },
  {
   "cell_type": "code",
   "execution_count": 14,
   "metadata": {},
   "outputs": [
    {
     "name": "stdout",
     "output_type": "stream",
     "text": [
      "Average subscriber trip time in Bay Area 9.512633839275217\n",
      "Average customer trip time in Bay Area 54.55121116377032\n"
     ]
    }
   ],
   "source": [
    "## TIP: For the Bay Area example data, you should find the average     ##\n",
    "## Subscriber trip duration to be 9.5 minutes and the average Customer ##\n",
    "## trip duration to be 54.6 minutes. Do the other cities have this     ##\n",
    "## level of difference?                                                ##\n",
    "filename = '/Users/irene/Desktop/Project_2 2016 US Bike Share Activity/examples/BayArea-Y3-Summary.csv'\n",
    "average_sub, average_cust = rider_comparison(filename)\n",
    "print('Average subscriber trip time in Bay Area', average_sub)\n",
    "print('Average customer trip time in Bay Area', average_cust)"
   ]
  },
  {
   "cell_type": "markdown",
   "metadata": {},
   "source": [
    "### Type of user takes longer rides on average in NYC"
   ]
  },
  {
   "cell_type": "code",
   "execution_count": 15,
   "metadata": {},
   "outputs": [
    {
     "name": "stdout",
     "output_type": "stream",
     "text": [
      "Average subscriber trip time in NYC 13.680790523907177\n",
      "Average customer trip time in NYC 32.982004306775025\n"
     ]
    }
   ],
   "source": [
    "filename = '/Users/irene/Desktop/Project_2 2016 US Bike Share Activity/data/NYC-2016-Summary.csv'\n",
    "average_sub, average_cust = rider_comparison(filename)\n",
    "print('Average subscriber trip time in NYC', average_sub)\n",
    "print('Average customer trip time in NYC', average_cust)"
   ]
  },
  {
   "cell_type": "markdown",
   "metadata": {},
   "source": [
    "<a id='visualizations'></a>\n",
    "### Visualizations\n",
    "\n",
    "The last set of values that you computed should have pulled up an interesting result. While the mean trip time for Subscribers is well under 30 minutes, the mean trip time for Customers is actually _above_ 30 minutes! It will be interesting for us to look at how the trip times are distributed. In order to do this, a new library will be introduced here, `matplotlib`. Run the cell below to load the library and to generate an example plot."
   ]
  },
  {
   "cell_type": "markdown",
   "metadata": {},
   "source": []
  },
  {
   "cell_type": "code",
   "execution_count": 16,
   "metadata": {},
   "outputs": [
    {
     "data": {
      "image/png": "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\n",
      "text/plain": [
       "<Figure size 432x288 with 1 Axes>"
      ]
     },
     "metadata": {},
     "output_type": "display_data"
    }
   ],
   "source": [
    "# load library\n",
    "import matplotlib.pyplot as plt\n",
    "\n",
    "# this is a 'magic word' that allows for plots to be displayed\n",
    "# inline with the notebook. If you want to know more, see:\n",
    "# http://ipython.readthedocs.io/en/stable/interactive/magics.html\n",
    "%matplotlib inline \n",
    "\n",
    "# example histogram, data taken from bay area sample\n",
    "data = [ 7.65,  8.92,  7.42,  5.50, 16.17,  4.20,  8.98,  9.62, 11.48, 14.33,\n",
    "        19.02, 21.53,  3.90,  7.97,  2.62,  2.67,  3.08, 14.40, 12.90,  7.83,\n",
    "        25.12,  8.30,  4.93, 12.43, 10.60,  6.17, 10.88,  4.78, 15.15,  3.53,\n",
    "         9.43, 13.32, 11.72,  9.85,  5.22, 15.10,  3.95,  3.17,  8.78,  1.88,\n",
    "         4.55, 12.68, 12.38,  9.78,  7.63,  6.45, 17.38, 11.90, 11.52,  8.63,]\n",
    "plt.hist(data)\n",
    "plt.title('Distribution of Trip Durations')\n",
    "plt.xlabel('Duration (min)')\n",
    "plt.ylabel('Count')\n",
    "plt.show()"
   ]
  },
  {
   "cell_type": "markdown",
   "metadata": {},
   "source": [
    "In the above cell, we collected fifty trip times in a list, and passed this list as the first argument to the `.hist()` function. This function performs the computations and creates plotting objects for generating a histogram, but the plot is actually not rendered until the `.show()` function is executed. The `.title()` and `.xlabel()` functions provide some labeling for plot context.\n",
    "\n",
    "You will now use these functions to create a histogram of the trip times for the city you selected in question 4c. Don't separate the Subscribers and Customers for now: just collect all of the trip times and plot them."
   ]
  },
  {
   "cell_type": "code",
   "execution_count": 17,
   "metadata": {},
   "outputs": [],
   "source": [
    "## Use this and additional cells to collect all of the trip times as a list ##\n",
    "## and then use pyplot functions to generate a histogram of trip times.     ##\n",
    "import matplotlib.pyplot as plt\n",
    "\n",
    "%matplotlib inline \n",
    "\n",
    "def data_plot(filename):\n",
    "    \"\"\"this function will take in a file and return a list of all of the duration values as floats\n",
    "    \"\"\"\n",
    "    with open(filename, 'r') as f_in:\n",
    "        # set up csv reader object\n",
    "        reader = csv.DictReader(f_in)\n",
    "        \n",
    "        #set up list\n",
    "        data_list = []\n",
    "        \n",
    "        for row in reader:\n",
    "            data_list.append(float(row['duration']))\n",
    "            \n",
    "        return (data_list)\n"
   ]
  },
  {
   "cell_type": "markdown",
   "metadata": {},
   "source": [
    "### Histogram of the trip times for NYC"
   ]
  },
  {
   "cell_type": "code",
   "execution_count": 18,
   "metadata": {},
   "outputs": [
    {
     "data": {
      "image/png": "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\n",
      "text/plain": [
       "<Figure size 432x288 with 1 Axes>"
      ]
     },
     "metadata": {},
     "output_type": "display_data"
    }
   ],
   "source": [
    "filename = '/Users/irene/Desktop/Project_2 2016 US Bike Share Activity/data/NYC-2016-Summary.csv'\n",
    "data_list = data_plot(filename)\n",
    "plt.hist(data_list)\n",
    "plt.title('Distribution of trip durations in NYC')\n",
    "plt.xlabel('Duration (min)')\n",
    "plt.ylabel('Count')\n",
    "plt.show()"
   ]
  },
  {
   "cell_type": "markdown",
   "metadata": {},
   "source": [
    "If you followed the use of the `.hist()` and `.show()` functions exactly like in the example, you're probably looking at a plot that's completely unexpected. The plot consists of one extremely tall bar on the left, maybe a very short second bar, and a whole lot of empty space in the center and right. Take a look at the duration values on the x-axis. This suggests that there are some highly infrequent outliers in the data. Instead of reprocessing the data, you will use additional parameters with the `.hist()` function to limit the range of data that is plotted. Documentation for the function can be found [[here]](https://matplotlib.org/devdocs/api/_as_gen/matplotlib.pyplot.hist.html#matplotlib.pyplot.hist).\n",
    "\n",
    "**Question 5**: Use the parameters of the `.hist()` function to plot the distribution of trip times for the Subscribers in your selected city. Do the same thing for only the Customers. Add limits to the plots so that only trips of duration less than 75 minutes are plotted. As a bonus, set the plots up so that bars are in five-minute wide intervals. For each group, where is the peak of each distribution? How would you describe the shape of each distribution?\n",
    "\n",
    "**Answer**: \n",
    "### For NYC, \n",
    "### The peak of the Subscriber distribution is within 5-10 min with right-skewed distributions. As the peak of the histogram veers to the left.\n",
    "### Alternatively, the peak of the Customer distribution is within 15-20 min with less right-skewed distributions. As the peak of the histogram veers more to the right."
   ]
  },
  {
   "cell_type": "markdown",
   "metadata": {},
   "source": [
    "### Distribution of trip times for the Subscribers in NYC"
   ]
  },
  {
   "cell_type": "code",
   "execution_count": 19,
   "metadata": {},
   "outputs": [],
   "source": [
    "## Use this and additional cells to answer Question 5. ##\n",
    "import matplotlib.pyplot as plt\n",
    "import numpy as np\n",
    "%matplotlib inline \n",
    "def plot(filename):\n",
    "    \"\"\"this function will take in a file and return a list of all of the duration values for Subscribers\"\"\"\n",
    "    with open(filename, 'r') as f_in:\n",
    "        # set up csv reader object\n",
    "        reader = csv.DictReader(f_in)\n",
    "        \n",
    "        #set up list\n",
    "        data_list1 = []\n",
    "        \n",
    "        for row in reader:\n",
    "            if row['user_type'] == 'Subscriber':\n",
    "                data_list1.append(float(row['duration']))\n",
    "        return (data_list1)"
   ]
  },
  {
   "cell_type": "code",
   "execution_count": 20,
   "metadata": {},
   "outputs": [
    {
     "data": {
      "image/png": "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\n",
      "text/plain": [
       "<Figure size 432x288 with 1 Axes>"
      ]
     },
     "metadata": {},
     "output_type": "display_data"
    }
   ],
   "source": [
    "filename = '/Users/irene/Desktop/Project_2 2016 US Bike Share Activity/data/NYC-2016-Summary.csv'\n",
    "data_list1 = plot(filename)\n",
    "plt.hist(data_list1, range=[0,75])\n",
    "plt.title('Distribution of trip durations for Subscribers in NYC')\n",
    "plt.xlabel('Duration (min)')\n",
    "plt.ylabel('Count')\n",
    "plt.xticks(np.arange(0,75,5))\n",
    "plt.show()"
   ]
  },
  {
   "cell_type": "markdown",
   "metadata": {},
   "source": [
    "### Distribution of trip times for Customers in NYC"
   ]
  },
  {
   "cell_type": "code",
   "execution_count": 21,
   "metadata": {},
   "outputs": [],
   "source": [
    "import matplotlib.pyplot as plt\n",
    "%matplotlib inline \n",
    "\n",
    "def plot(filename):\n",
    "    \"\"\"this function will take in a file and return a list of all of the duration values for Customers\"\"\"\n",
    "    with open(filename, 'r') as f_in:\n",
    "        # set up csv reader object\n",
    "        reader = csv.DictReader(f_in)   \n",
    "        #set up list\n",
    "        data_list2 = []\n",
    "        \n",
    "        for row in reader:\n",
    "            if row['user_type'] == 'Customer':\n",
    "                data_list2.append(float(row['duration']))    \n",
    "        return (data_list2)"
   ]
  },
  {
   "cell_type": "code",
   "execution_count": 22,
   "metadata": {},
   "outputs": [
    {
     "data": {
      "image/png": "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\n",
      "text/plain": [
       "<Figure size 432x288 with 1 Axes>"
      ]
     },
     "metadata": {},
     "output_type": "display_data"
    }
   ],
   "source": [
    "filename = '/Users/irene/Desktop/Project_2 2016 US Bike Share Activity/data/NYC-2016-Summary.csv'\n",
    "data_list2 = plot(filename)\n",
    "plt.hist(data_list2, range=[0,75])\n",
    "plt.title('Distribution of trip durations for Customers in NYC')\n",
    "plt.xlabel('Duration (min)')\n",
    "plt.ylabel('Count')\n",
    "plt.xticks(np.arange(0,75,5))\n",
    "plt.show()"
   ]
  },
  {
   "cell_type": "markdown",
   "metadata": {
    "collapsed": true
   },
   "source": [
    "<a id='eda_continued'></a>\n",
    "## Performing Your Own Analysis\n",
    "\n",
    "So far, you've performed an initial exploration into the data available. You have compared the relative volume of trips made between three U.S. cities and the ratio of trips made by Subscribers and Customers. For one of these cities, you have investigated differences between Subscribers and Customers in terms of how long a typical trip lasts. Now it is your turn to continue the exploration in a direction that you choose. Here are a few suggestions for questions to explore:\n",
    "\n",
    "- How does ridership differ by month or season? Which month / season has the highest ridership? Does the ratio of Subscriber trips to Customer trips change depending on the month or season?\n",
    "- Is the pattern of ridership different on the weekends versus weekdays? On what days are Subscribers most likely to use the system? What about Customers? Does the average duration of rides change depending on the day of the week?\n",
    "- During what time of day is the system used the most? Is there a difference in usage patterns for Subscribers and Customers?\n",
    "\n",
    "If any of the questions you posed in your answer to question 1 align with the bullet points above, this is a good opportunity to investigate one of them. As part of your investigation, you will need to create a visualization. If you want to create something other than a histogram, then you might want to consult the [Pyplot documentation](https://matplotlib.org/devdocs/api/pyplot_summary.html). In particular, if you are plotting values across a categorical variable (e.g. city, user type), a bar chart will be useful. The [documentation page for `.bar()`](https://matplotlib.org/devdocs/api/_as_gen/matplotlib.pyplot.bar.html#matplotlib.pyplot.bar) includes links at the bottom of the page with examples for you to build off of for your own use.\n",
    "\n",
    "**Question 6**: Continue the investigation by exploring another question that could be answered by the data available. Document the question you want to explore below. Your investigation should involve at least two variables and should compare at least two groups. You should also use at least one visualization as part of your explorations.\n",
    "\n",
    "**Answer**: \n",
    "###  Question 6a: Is the pattern of ridership different on the weekends and weekdays in NYC?\n",
    "* Both pattern of ridership on the weekends and weekdays in NYC are right-skewed distributions. \n",
    "* Whenever weekends and weekdays, most of the users are riding within 5 mins. \n",
    "\n",
    "### Question 6b: Does the average duration of rides change depending on weekends and weekdays in NYC?\n",
    "* The average duration of rides on weekdays is 14.9 min.\n",
    "* The average duration of rides on weekends is 18.8 min.\n",
    "Therefore there are slightly longer rides on weekends in NYC."
   ]
  },
  {
   "cell_type": "markdown",
   "metadata": {},
   "source": [
    "### Pattern of ridership different on the weekends and weekdays in NYC"
   ]
  },
  {
   "cell_type": "code",
   "execution_count": 23,
   "metadata": {},
   "outputs": [],
   "source": [
    "# Define weekdays\n",
    "import matplotlib.pyplot as plt\n",
    "%matplotlib inline \n",
    "def plot_for_weekdays(filename):\n",
    "    with open(filename, 'r') as f_in:\n",
    "        # set up csv reader object\n",
    "        reader = csv.DictReader(f_in)\n",
    "        #set up list for weekday durations\n",
    "        weekday_list = []\n",
    "        for row in reader:\n",
    "            if row['day_of_week'] == 'Monday':\n",
    "                weekday_list.append(float(row['duration']))\n",
    "            elif row['day_of_week'] == 'Tuesday':\n",
    "                weekday_list.append(float(row['duration']))\n",
    "            elif row['day_of_week'] == 'Wednesday':\n",
    "                weekday_list.append(float(row['duration']))\n",
    "            elif row['day_of_week'] == 'Thursday':\n",
    "                weekday_list.append(float(row['duration']))\n",
    "            elif row['day_of_week'] == 'Friday':\n",
    "                weekday_list.append(float(row['duration']))\n",
    "        return (weekday_list)"
   ]
  },
  {
   "cell_type": "code",
   "execution_count": 24,
   "metadata": {},
   "outputs": [
    {
     "data": {
      "image/png": "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\n",
      "text/plain": [
       "<Figure size 432x288 with 1 Axes>"
      ]
     },
     "metadata": {},
     "output_type": "display_data"
    }
   ],
   "source": [
    "filename = '/Users/irene/Desktop/Project_2 2016 US Bike Share Activity/data/NYC-2016-Summary.csv'\n",
    "weekday_list = plot_for_weekdays(filename)\n",
    "plt.hist(weekday_list, range=[0,100])\n",
    "plt.title('Distribution of trip durations for WeekDay in NYC')\n",
    "plt.xlabel('Duration (min)')\n",
    "plt.ylabel('Count')\n",
    "plt.xticks(np.arange(0,105,5))\n",
    "plt.show()"
   ]
  },
  {
   "cell_type": "code",
   "execution_count": 25,
   "metadata": {},
   "outputs": [],
   "source": [
    "# Define weekends\n",
    "import matplotlib.pyplot as plt\n",
    "%matplotlib inline \n",
    "def plot_for_weekends(filename):\n",
    "    with open(filename, 'r') as f_in:\n",
    "        # set up csv reader object\n",
    "        reader = csv.DictReader(f_in)\n",
    "        #set up list for weekend durations\n",
    "        weekend_list = []\n",
    "\n",
    "        for row in reader:\n",
    "            if row['day_of_week'] == 'Saturday':\n",
    "                weekend_list.append(float(row['duration']))\n",
    "            elif row['day_of_week'] == 'Sunday':\n",
    "                weekend_list.append(float(row['duration']))\n",
    "                \n",
    "        return (weekend_list)"
   ]
  },
  {
   "cell_type": "code",
   "execution_count": 26,
   "metadata": {},
   "outputs": [
    {
     "data": {
      "image/png": "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\n",
      "text/plain": [
       "<Figure size 432x288 with 1 Axes>"
      ]
     },
     "metadata": {},
     "output_type": "display_data"
    }
   ],
   "source": [
    "filename = '/Users/irene/Desktop/Project_2 2016 US Bike Share Activity/data/NYC-2016-Summary.csv'\n",
    "weekend_list = plot_for_weekends(filename)\n",
    "plt.hist(weekend_list, range=[0,100])\n",
    "plt.title('Distribution of trip durations for Weekends in NYC')\n",
    "plt.xlabel('Duration (min)')\n",
    "plt.ylabel('Count')\n",
    "plt.xticks(np.arange(0,105,5))\n",
    "plt.show()"
   ]
  },
  {
   "cell_type": "markdown",
   "metadata": {},
   "source": [
    "### Pattern duratuon of ridership different on the weekends and weekdays in NYC"
   ]
  },
  {
   "cell_type": "code",
   "execution_count": 27,
   "metadata": {},
   "outputs": [],
   "source": [
    "# Define average travel time of all users on weekdays and weekends\n",
    "def avg_duration_weekday_weekend(filename):\n",
    "    \"\"\"this function will take in a file and return the average travel time of all users on weekdays and weekends.\n",
    "    \"\"\"\n",
    "    with open(filename, 'r') as f_in:\n",
    "        reader = csv.DictReader(f_in)\n",
    "#Reset inital value\n",
    "        weekday_trip = 0\n",
    "        weekend_trip = 0\n",
    "        weekday_time = 0\n",
    "        weekend_time = 0\n",
    "        \n",
    "        for row in reader:\n",
    "            if row['day_of_week'] == 'Monday':\n",
    "                weekday_time += float(row['duration'])\n",
    "                weekday_trip += 1\n",
    "            elif row['day_of_week'] == 'Tuesday':\n",
    "                weekday_time += float(row['duration'])\n",
    "                weekday_trip += 1\n",
    "            elif row['day_of_week'] == 'Wednesday':\n",
    "                weekday_time += float(row['duration'])\n",
    "                weekday_trip += 1\n",
    "            elif row['day_of_week'] == 'Thursday':\n",
    "                weekday_time += float(row['duration'])\n",
    "                weekday_trip += 1\n",
    "            elif row['day_of_week'] == 'Friday':\n",
    "                weekday_time += float(row['duration'])\n",
    "                weekday_trip += 1\n",
    "            elif row['day_of_week'] == 'Saturday':\n",
    "                weekend_time += float(row['duration'])\n",
    "                weekend_trip += 1\n",
    "            elif row['day_of_week'] == 'Sunday':\n",
    "                weekend_time += float(row['duration'])\n",
    "                weekend_trip += 1\n",
    "\n",
    "        avg_weekday = weekday_time / weekday_trip\n",
    "        avg_weekend = weekend_time / weekend_trip\n",
    "        \n",
    "        return (avg_weekday, avg_weekend)"
   ]
  },
  {
   "cell_type": "code",
   "execution_count": 28,
   "metadata": {},
   "outputs": [
    {
     "name": "stdout",
     "output_type": "stream",
     "text": [
      "Average weekday trip time (min): 14.903397094670813\n",
      "Average weekend trip time (min): 18.792796795713976\n"
     ]
    }
   ],
   "source": [
    "filename = '/Users/irene/Desktop/Project_2 2016 US Bike Share Activity/data/NYC-2016-Summary.csv'\n",
    "average_weekday, average_weekend = avg_duration_weekday_weekend(filename)\n",
    "print('Average weekday trip time (min):', average_weekday)\n",
    "print('Average weekend trip time (min):', average_weekend)\n"
   ]
  },
  {
   "cell_type": "markdown",
   "metadata": {},
   "source": [
    "<a id='conclusions'></a>\n",
    "## Conclusions\n",
    "\n",
    "Congratulations on completing the project! This is only a sampling of the data analysis process: from generating questions, wrangling the data, and to exploring the data. Normally, at this point in the data analysis process, you might want to draw conclusions about the data by performing a statistical test or fitting the data to a model for making predictions. There are also a lot of potential analyses that could be performed on the data which are not possible with only the data provided. For example, detailed location data has not been investigated. Where are the most commonly used docks? What are the most common routes? As another example, weather has potential to have a large impact on daily ridership. How much is ridership impacted when there is rain or snow? Are subscribers or customers affected more by changes in weather?\n",
    "\n",
    "**Question 7**: Putting the bike share data aside, think of a topic or field of interest where you would like to be able to apply the techniques of data science. What would you like to be able to learn from your chosen subject?\n",
    "\n",
    "**Answer**: \n",
    "### Based on this exercise, I would like to explore taxi ride analysis, with predicting the fare amount for a taxi ride in NYC given the pickup and dropoff locations.\n",
    "\n",
    "> **Tip**: If we want to share the results of our analysis with others, we aren't limited to giving them a copy of the jupyter Notebook (.ipynb) file. We can also export the Notebook output in a form that can be opened even for those without Python installed. From the **File** menu in the upper left, go to the **Download as** submenu. You can then choose a different format that can be viewed more generally, such as HTML (.html) or\n",
    "PDF (.pdf). You may need additional packages or software to perform these exports.\n",
    "\n",
    "> If you are working on this project via the Project Notebook page in the classroom, you can also submit this project directly from the workspace. **Before you do that**, you should save an HTML copy of the completed project to the workspace by running the code cell below. If it worked correctly, the output code should be a 0, and if you click on the jupyter icon in the upper left, you should see your .html document in the workspace directory. Alternatively, you can download the .html copy of your report following the steps in the previous paragraph, then _upload_ the report to the directory (by clicking the jupyter icon).\n",
    "\n",
    "> Either way, once you've gotten the .html report in your workspace, you can complete your submission by clicking on the \"Submit Project\" button to the lower-right hand side of the workspace."
   ]
  },
  {
   "cell_type": "code",
   "execution_count": 29,
   "metadata": {},
   "outputs": [],
   "source": [
    "#for reference\n",
    "#from subprocess import call\n",
    "#call(['python', '-m', 'nbconvert', 'Bike_Share_Analysis.ipynb'])"
   ]
  }
 ],
 "metadata": {
  "anaconda-cloud": {},
  "kernelspec": {
   "display_name": "Python 3",
   "language": "python",
   "name": "python3"
  },
  "language_info": {
   "codemirror_mode": {
    "name": "ipython",
    "version": 3
   },
   "file_extension": ".py",
   "mimetype": "text/x-python",
   "name": "python",
   "nbconvert_exporter": "python",
   "pygments_lexer": "ipython3",
   "version": "3.6.5"
  }
 },
 "nbformat": 4,
 "nbformat_minor": 1
}
